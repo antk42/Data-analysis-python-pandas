{
 "cells": [
  {
   "cell_type": "markdown",
   "id": "50307a35-e919-4e46-bc64-2b5c9cf66f5d",
   "metadata": {
    "tags": []
   },
   "source": [
    "# Introducing:"
   ]
  },
  {
   "cell_type": "markdown",
   "id": "a66e63aa-37cc-41ae-92c0-8fe693069e91",
   "metadata": {
    "jp-MarkdownHeadingCollapsed": true,
    "tags": []
   },
   "source": [
    "## Context:\n",
    "The key aspect of ride-hailing is the price. It relies on technology to collect accurate tracking data so that a fair price can be calculated at the end of the trip. Fortunately, our riders are quick to tell us when they overpaid and we can use that feedback to improve our product.\n"
   ]
  },
  {
   "cell_type": "markdown",
   "id": "e2c65a7e-0df0-475e-9d9f-1fcfb3e267b4",
   "metadata": {},
   "source": [
    "## Content:\n",
    "\n",
    "- order_id_new, order_try_id_new - id of an order\n",
    "- calc_created- time when the order was created\n",
    "- metered_price, distance, duration- actual price, distance and duration of a ride\n",
    "- upfront_price- promised to the rider price, based on predicted duration (predicted_duration) and distance (predicted_distance)\n",
    "- distance - ride distance\n",
    "- duration - ride duration\n",
    "- gps_confidence- indicator for good GPS connection (1 - good one, 0 - bad one)\n",
    "- entered_by- who entered the address\n",
    "- b_state- state of a ride (finished implies that the ride was actually done)\n",
    "- dest_change_number- number of destination changes by a rider\n",
    "- predicted distance - predicted duration of a ride based on the pickup and dropoff points entered by the rider requesting a car\n",
    "- predicted duration - predicted duration of a ride based on the pickup and dropoff points entered by the rider requesting a car\n",
    "- prediction_price_type- internal variable for the type of prediction:\n",
    "- upfront, prediction - prediction happened before the ride\n",
    "- upfront_destination_changed - prediction happened after rider changed destination during the ride\n",
    "- change_reason_pricing - records due to whose action the price changed\n",
    "- ticket_id_new - id for customer support ticket"
   ]
  },
  {
   "cell_type": "markdown",
   "id": "b3444376-c999-4d2c-8386-219b07878571",
   "metadata": {},
   "source": [
    "## Task:\n",
    "\n",
    "Please analyze the dataset to identify top opportunities for reducing the number of overcharge tickets and present your results. Please provide us with a PDF file/document with the findings. Finally, you shouldn’t spend more than 8 hours on this analysis."
   ]
  },
  {
   "cell_type": "markdown",
   "id": "a0993cc4-21e4-483d-a61a-1616d4fac706",
   "metadata": {},
   "source": [
    "## Used libraries:\n",
    "- pandas\n",
    "- numpy\n",
    "- matplotlib"
   ]
  },
  {
   "cell_type": "code",
   "execution_count": 2,
   "id": "49c7a0fb-d730-4876-998a-d797f8c032e0",
   "metadata": {},
   "outputs": [],
   "source": [
    "import pandas as pd\n",
    "import numpy as np\n",
    "import phik\n",
    "\n",
    "import matplotlib.pyplot as plt\n",
    "plt.style.use('dark_background')"
   ]
  },
  {
   "cell_type": "markdown",
   "id": "200144e9-9062-46eb-959c-50c072c56f1f",
   "metadata": {
    "tags": [],
    "toc-hr-collapsed": true
   },
   "source": [
    "# Data preparation"
   ]
  },
  {
   "cell_type": "markdown",
   "id": "003c0121-7608-460b-8de8-96a78f3684ea",
   "metadata": {},
   "source": [
    "## Read data"
   ]
  },
  {
   "cell_type": "markdown",
   "id": "16bb3d20-c3cf-4651-b7de-218774ddafe7",
   "metadata": {},
   "source": [
    "## Format data"
   ]
  },
  {
   "cell_type": "code",
   "execution_count": 5,
   "id": "2043f697-f613-4231-a362-68127bf751a8",
   "metadata": {},
   "outputs": [
    {
     "data": {
      "text/html": [
       "<div>\n",
       "<style scoped>\n",
       "    .dataframe tbody tr th:only-of-type {\n",
       "        vertical-align: middle;\n",
       "    }\n",
       "\n",
       "    .dataframe tbody tr th {\n",
       "        vertical-align: top;\n",
       "    }\n",
       "\n",
       "    .dataframe thead th {\n",
       "        text-align: right;\n",
       "    }\n",
       "</style>\n",
       "<table border=\"1\" class=\"dataframe\">\n",
       "  <thead>\n",
       "    <tr style=\"text-align: right;\">\n",
       "      <th></th>\n",
       "      <th>order_id_new</th>\n",
       "      <th>order_try_id_new</th>\n",
       "      <th>calc_created</th>\n",
       "      <th>metered_price</th>\n",
       "      <th>upfront_price</th>\n",
       "      <th>distance</th>\n",
       "      <th>duration</th>\n",
       "      <th>gps_confidence</th>\n",
       "      <th>entered_by</th>\n",
       "      <th>b_state</th>\n",
       "      <th>...</th>\n",
       "      <th>device_token</th>\n",
       "      <th>rider_app_version</th>\n",
       "      <th>order_state</th>\n",
       "      <th>order_try_state</th>\n",
       "      <th>driver_app_version</th>\n",
       "      <th>driver_device_uid_new</th>\n",
       "      <th>device_name</th>\n",
       "      <th>eu_indicator</th>\n",
       "      <th>overpaid_ride_ticket</th>\n",
       "      <th>fraud_score</th>\n",
       "    </tr>\n",
       "  </thead>\n",
       "  <tbody>\n",
       "    <tr>\n",
       "      <th>0</th>\n",
       "      <td>22</td>\n",
       "      <td>22</td>\n",
       "      <td>2020-02-02 3:37:31</td>\n",
       "      <td>4.04</td>\n",
       "      <td>10.0</td>\n",
       "      <td>2839</td>\n",
       "      <td>700</td>\n",
       "      <td>1</td>\n",
       "      <td>client</td>\n",
       "      <td>finished</td>\n",
       "      <td>...</td>\n",
       "      <td>NaN</td>\n",
       "      <td>CI.4.17</td>\n",
       "      <td>finished</td>\n",
       "      <td>finished</td>\n",
       "      <td>DA.4.37</td>\n",
       "      <td>1596</td>\n",
       "      <td>Xiaomi Redmi 6</td>\n",
       "      <td>1</td>\n",
       "      <td>0</td>\n",
       "      <td>-1383.0</td>\n",
       "    </tr>\n",
       "    <tr>\n",
       "      <th>1</th>\n",
       "      <td>618</td>\n",
       "      <td>618</td>\n",
       "      <td>2020-02-08 2:26:19</td>\n",
       "      <td>6.09</td>\n",
       "      <td>3.6</td>\n",
       "      <td>5698</td>\n",
       "      <td>493</td>\n",
       "      <td>1</td>\n",
       "      <td>client</td>\n",
       "      <td>finished</td>\n",
       "      <td>...</td>\n",
       "      <td>NaN</td>\n",
       "      <td>CA.5.43</td>\n",
       "      <td>finished</td>\n",
       "      <td>finished</td>\n",
       "      <td>DA.4.39</td>\n",
       "      <td>1578</td>\n",
       "      <td>Samsung SM-G965F</td>\n",
       "      <td>1</td>\n",
       "      <td>0</td>\n",
       "      <td>NaN</td>\n",
       "    </tr>\n",
       "    <tr>\n",
       "      <th>2</th>\n",
       "      <td>657</td>\n",
       "      <td>657</td>\n",
       "      <td>2020-02-08 11:50:35</td>\n",
       "      <td>4.32</td>\n",
       "      <td>3.5</td>\n",
       "      <td>4426</td>\n",
       "      <td>695</td>\n",
       "      <td>1</td>\n",
       "      <td>client</td>\n",
       "      <td>finished</td>\n",
       "      <td>...</td>\n",
       "      <td>NaN</td>\n",
       "      <td>CA.5.43</td>\n",
       "      <td>finished</td>\n",
       "      <td>finished</td>\n",
       "      <td>DA.4.37</td>\n",
       "      <td>951</td>\n",
       "      <td>Samsung SM-A530F</td>\n",
       "      <td>1</td>\n",
       "      <td>0</td>\n",
       "      <td>-166.0</td>\n",
       "    </tr>\n",
       "  </tbody>\n",
       "</table>\n",
       "<p>3 rows × 26 columns</p>\n",
       "</div>"
      ],
      "text/plain": [
       "   order_id_new  order_try_id_new         calc_created  metered_price  \\\n",
       "0            22                22   2020-02-02 3:37:31           4.04   \n",
       "1           618               618   2020-02-08 2:26:19           6.09   \n",
       "2           657               657  2020-02-08 11:50:35           4.32   \n",
       "\n",
       "   upfront_price  distance  duration  gps_confidence entered_by   b_state  \\\n",
       "0           10.0      2839       700               1     client  finished   \n",
       "1            3.6      5698       493               1     client  finished   \n",
       "2            3.5      4426       695               1     client  finished   \n",
       "\n",
       "   ...  device_token rider_app_version  order_state  order_try_state  \\\n",
       "0  ...           NaN           CI.4.17     finished         finished   \n",
       "1  ...           NaN           CA.5.43     finished         finished   \n",
       "2  ...           NaN           CA.5.43     finished         finished   \n",
       "\n",
       "  driver_app_version  driver_device_uid_new       device_name eu_indicator  \\\n",
       "0            DA.4.37                   1596    Xiaomi Redmi 6            1   \n",
       "1            DA.4.39                   1578  Samsung SM-G965F            1   \n",
       "2            DA.4.37                    951  Samsung SM-A530F            1   \n",
       "\n",
       "  overpaid_ride_ticket fraud_score  \n",
       "0                    0     -1383.0  \n",
       "1                    0         NaN  \n",
       "2                    0      -166.0  \n",
       "\n",
       "[3 rows x 26 columns]"
      ]
     },
     "execution_count": 5,
     "metadata": {},
     "output_type": "execute_result"
    }
   ],
   "source": [
    "df = pd.read_csv('/home/antonius/Projects/DS_Projects/Data-analysis-python-pandas/2_taxi_testcase/data/Analytical_Task.csv')\n",
    "df.head(3)"
   ]
  },
  {
   "cell_type": "code",
   "execution_count": 6,
   "id": "7ffe2490-2c14-459f-8d74-3307ba035e2e",
   "metadata": {},
   "outputs": [
    {
     "data": {
      "text/plain": [
       "Index(['order_id_new', 'order_try_id_new', 'calc_created', 'metered_price',\n",
       "       'upfront_price', 'distance', 'duration', 'gps_confidence', 'entered_by',\n",
       "       'b_state', 'dest_change_number', 'prediction_price_type',\n",
       "       'predicted_distance', 'predicted_duration', 'change_reason_pricing',\n",
       "       'ticket_id_new', 'device_token', 'rider_app_version', 'order_state',\n",
       "       'order_try_state', 'driver_app_version', 'driver_device_uid_new',\n",
       "       'device_name', 'eu_indicator', 'overpaid_ride_ticket', 'fraud_score'],\n",
       "      dtype='object')"
      ]
     },
     "execution_count": 6,
     "metadata": {},
     "output_type": "execute_result"
    }
   ],
   "source": [
    "df.columns"
   ]
  },
  {
   "cell_type": "code",
   "execution_count": 7,
   "id": "95ba7cab-453a-460f-b82e-92dd1d65cc8f",
   "metadata": {},
   "outputs": [
    {
     "data": {
      "text/plain": [
       "0    4606\n",
       "1     337\n",
       "Name: overpaid_ride_ticket, dtype: int64"
      ]
     },
     "execution_count": 7,
     "metadata": {},
     "output_type": "execute_result"
    }
   ],
   "source": [
    "df['overpaid_ride_ticket'].value_counts()"
   ]
  },
  {
   "cell_type": "code",
   "execution_count": 8,
   "id": "890d6633-a645-4421-9571-8662e5d92eeb",
   "metadata": {},
   "outputs": [
    {
     "data": {
      "text/plain": [
       "4943"
      ]
     },
     "execution_count": 8,
     "metadata": {},
     "output_type": "execute_result"
    }
   ],
   "source": [
    "len(df)"
   ]
  },
  {
   "cell_type": "code",
   "execution_count": 9,
   "id": "9eb89fc6-d186-4b3d-9843-8791a58a7e81",
   "metadata": {},
   "outputs": [],
   "source": [
    "df['calc_created'] = pd.to_datetime(df['calc_created'],format='%Y-%m-%d %H:%M:%S')"
   ]
  },
  {
   "cell_type": "code",
   "execution_count": 10,
   "id": "d6afbb5b-2782-4e8a-bad0-a1b8141897a5",
   "metadata": {},
   "outputs": [
    {
     "data": {
      "text/plain": [
       "min   2020-02-02 00:01:16\n",
       "max   2020-03-13 23:52:07\n",
       "Name: calc_created, dtype: datetime64[ns]"
      ]
     },
     "execution_count": 10,
     "metadata": {},
     "output_type": "execute_result"
    }
   ],
   "source": [
    "df['calc_created'].agg(['min', 'max'])"
   ]
  },
  {
   "cell_type": "markdown",
   "id": "c78716d6-25f9-495c-a876-811283ece40f",
   "metadata": {},
   "source": [
    "### Skips, Nans"
   ]
  },
  {
   "cell_type": "code",
   "execution_count": 11,
   "id": "d5932a25-1b7b-445a-b220-2625c33cbdc5",
   "metadata": {},
   "outputs": [
    {
     "data": {
      "text/plain": [
       "device_token             1.000000\n",
       "change_reason_pricing    0.939713\n",
       "fraud_score              0.558163\n",
       "upfront_price            0.310338\n",
       "prediction_price_type    0.004046\n",
       "predicted_distance       0.004046\n",
       "predicted_duration       0.004046\n",
       "metered_price            0.004046\n",
       "rider_app_version        0.003237\n",
       "gps_confidence           0.000000\n",
       "overpaid_ride_ticket     0.000000\n",
       "eu_indicator             0.000000\n",
       "device_name              0.000000\n",
       "driver_device_uid_new    0.000000\n",
       "driver_app_version       0.000000\n",
       "order_try_state          0.000000\n",
       "order_state              0.000000\n",
       "calc_created             0.000000\n",
       "entered_by               0.000000\n",
       "ticket_id_new            0.000000\n",
       "order_try_id_new         0.000000\n",
       "distance                 0.000000\n",
       "duration                 0.000000\n",
       "dest_change_number       0.000000\n",
       "b_state                  0.000000\n",
       "order_id_new             0.000000\n",
       "dtype: float64"
      ]
     },
     "execution_count": 11,
     "metadata": {},
     "output_type": "execute_result"
    }
   ],
   "source": [
    "df.isna().mean().sort_values(ascending=False)"
   ]
  },
  {
   "cell_type": "markdown",
   "id": "24c0dddb-7e0f-4bf2-b23c-41f4c91ba5fb",
   "metadata": {
    "tags": []
   },
   "source": [
    "# Phik"
   ]
  },
  {
   "cell_type": "code",
   "execution_count": 12,
   "id": "3ed24ee3-3ea5-4085-926b-67571d55ee99",
   "metadata": {},
   "outputs": [
    {
     "name": "stdout",
     "output_type": "stream",
     "text": [
      "interval columns not set, guessing: ['order_id_new', 'order_try_id_new', 'metered_price', 'upfront_price', 'distance', 'duration', 'gps_confidence', 'dest_change_number', 'predicted_distance', 'predicted_duration', 'ticket_id_new', 'device_token', 'driver_device_uid_new', 'eu_indicator', 'overpaid_ride_ticket', 'fraud_score']\n"
     ]
    },
    {
     "name": "stderr",
     "output_type": "stream",
     "text": [
      "/home/antonius/.local/lib/python3.10/site-packages/phik/data_quality.py:59: UserWarning: The number of unique values of variable calc_created is large: 4165. Are you sure this is not an interval variable? Analysis for pairs of variables including calc_created can be slow.\n",
      "  warnings.warn(\n",
      "/home/antonius/.local/lib/python3.10/site-packages/phik/data_quality.py:72: UserWarning: Not enough unique value for variable device_token for analysis 0. Dropping this column\n",
      "  warnings.warn(\n",
      "/home/antonius/.local/lib/python3.10/site-packages/phik/data_quality.py:82: UserWarning: Not enough unique value for variable b_state for analysis 1. Dropping this column\n",
      "  warnings.warn(\n",
      "/home/antonius/.local/lib/python3.10/site-packages/phik/data_quality.py:82: UserWarning: Not enough unique value for variable order_try_state for analysis 1. Dropping this column\n",
      "  warnings.warn(\n",
      "/home/antonius/.local/lib/python3.10/site-packages/phik/bivariate.py:241: UserWarning: Many cells: 2070005. Are interval variables set correctly?\n",
      "  warnings.warn(\n"
     ]
    }
   ],
   "source": [
    "phik_overview = df.phik_matrix()"
   ]
  },
  {
   "cell_type": "code",
   "execution_count": 41,
   "id": "1ec88e04-9307-47ec-b146-5c9315e841e1",
   "metadata": {},
   "outputs": [
    {
     "data": {
      "text/html": [
       "<style type=\"text/css\">\n",
       "#T_9e143_row0_col1, #T_9e143_row1_col1, #T_9e143_row2_col1, #T_9e143_row3_col1, #T_9e143_row4_col1, #T_9e143_row5_col1, #T_9e143_row6_col1, #T_9e143_row7_col1, #T_9e143_row8_col1, #T_9e143_row9_col1, #T_9e143_row10_col1, #T_9e143_row11_col1 {\n",
       "  background-color: red;\n",
       "}\n",
       "#T_9e143_row12_col1, #T_9e143_row13_col1, #T_9e143_row14_col1, #T_9e143_row15_col1, #T_9e143_row16_col1, #T_9e143_row17_col1, #T_9e143_row18_col1 {\n",
       "  background-color: orange;\n",
       "}\n",
       "#T_9e143_row19_col1, #T_9e143_row20_col1, #T_9e143_row21_col1, #T_9e143_row22_col1 {\n",
       "  background-color: green;\n",
       "}\n",
       "</style>\n",
       "<table id=\"T_9e143\">\n",
       "  <thead>\n",
       "    <tr>\n",
       "      <th class=\"blank level0\" >&nbsp;</th>\n",
       "      <th id=\"T_9e143_level0_col0\" class=\"col_heading level0 col0\" >index</th>\n",
       "      <th id=\"T_9e143_level0_col1\" class=\"col_heading level0 col1\" >metered_price</th>\n",
       "    </tr>\n",
       "  </thead>\n",
       "  <tbody>\n",
       "    <tr>\n",
       "      <th id=\"T_9e143_level0_row0\" class=\"row_heading level0 row0\" >0</th>\n",
       "      <td id=\"T_9e143_row0_col0\" class=\"data row0 col0\" >calc_created</td>\n",
       "      <td id=\"T_9e143_row0_col1\" class=\"data row0 col1\" >1.000000</td>\n",
       "    </tr>\n",
       "    <tr>\n",
       "      <th id=\"T_9e143_level0_row1\" class=\"row_heading level0 row1\" >1</th>\n",
       "      <td id=\"T_9e143_row1_col0\" class=\"data row1 col0\" >metered_price</td>\n",
       "      <td id=\"T_9e143_row1_col1\" class=\"data row1 col1\" >1.000000</td>\n",
       "    </tr>\n",
       "    <tr>\n",
       "      <th id=\"T_9e143_level0_row2\" class=\"row_heading level0 row2\" >2</th>\n",
       "      <td id=\"T_9e143_row2_col0\" class=\"data row2 col0\" >device_name</td>\n",
       "      <td id=\"T_9e143_row2_col1\" class=\"data row2 col1\" >0.756121</td>\n",
       "    </tr>\n",
       "    <tr>\n",
       "      <th id=\"T_9e143_level0_row3\" class=\"row_heading level0 row3\" >3</th>\n",
       "      <td id=\"T_9e143_row3_col0\" class=\"data row3 col0\" >distance</td>\n",
       "      <td id=\"T_9e143_row3_col1\" class=\"data row3 col1\" >0.671446</td>\n",
       "    </tr>\n",
       "    <tr>\n",
       "      <th id=\"T_9e143_level0_row4\" class=\"row_heading level0 row4\" >4</th>\n",
       "      <td id=\"T_9e143_row4_col0\" class=\"data row4 col0\" >duration</td>\n",
       "      <td id=\"T_9e143_row4_col1\" class=\"data row4 col1\" >0.647846</td>\n",
       "    </tr>\n",
       "    <tr>\n",
       "      <th id=\"T_9e143_level0_row5\" class=\"row_heading level0 row5\" >5</th>\n",
       "      <td id=\"T_9e143_row5_col0\" class=\"data row5 col0\" >eu_indicator</td>\n",
       "      <td id=\"T_9e143_row5_col1\" class=\"data row5 col1\" >0.550683</td>\n",
       "    </tr>\n",
       "    <tr>\n",
       "      <th id=\"T_9e143_level0_row6\" class=\"row_heading level0 row6\" >6</th>\n",
       "      <td id=\"T_9e143_row6_col0\" class=\"data row6 col0\" >gps_confidence</td>\n",
       "      <td id=\"T_9e143_row6_col1\" class=\"data row6 col1\" >0.478082</td>\n",
       "    </tr>\n",
       "    <tr>\n",
       "      <th id=\"T_9e143_level0_row7\" class=\"row_heading level0 row7\" >7</th>\n",
       "      <td id=\"T_9e143_row7_col0\" class=\"data row7 col0\" >rider_app_version</td>\n",
       "      <td id=\"T_9e143_row7_col1\" class=\"data row7 col1\" >0.444054</td>\n",
       "    </tr>\n",
       "    <tr>\n",
       "      <th id=\"T_9e143_level0_row8\" class=\"row_heading level0 row8\" >8</th>\n",
       "      <td id=\"T_9e143_row8_col0\" class=\"data row8 col0\" >upfront_price</td>\n",
       "      <td id=\"T_9e143_row8_col1\" class=\"data row8 col1\" >0.437669</td>\n",
       "    </tr>\n",
       "    <tr>\n",
       "      <th id=\"T_9e143_level0_row9\" class=\"row_heading level0 row9\" >9</th>\n",
       "      <td id=\"T_9e143_row9_col0\" class=\"data row9 col0\" >predicted_duration</td>\n",
       "      <td id=\"T_9e143_row9_col1\" class=\"data row9 col1\" >0.403392</td>\n",
       "    </tr>\n",
       "    <tr>\n",
       "      <th id=\"T_9e143_level0_row10\" class=\"row_heading level0 row10\" >10</th>\n",
       "      <td id=\"T_9e143_row10_col0\" class=\"data row10 col0\" >driver_app_version</td>\n",
       "      <td id=\"T_9e143_row10_col1\" class=\"data row10 col1\" >0.400527</td>\n",
       "    </tr>\n",
       "    <tr>\n",
       "      <th id=\"T_9e143_level0_row11\" class=\"row_heading level0 row11\" >11</th>\n",
       "      <td id=\"T_9e143_row11_col0\" class=\"data row11 col0\" >change_reason_pricing</td>\n",
       "      <td id=\"T_9e143_row11_col1\" class=\"data row11 col1\" >0.336830</td>\n",
       "    </tr>\n",
       "    <tr>\n",
       "      <th id=\"T_9e143_level0_row12\" class=\"row_heading level0 row12\" >12</th>\n",
       "      <td id=\"T_9e143_row12_col0\" class=\"data row12 col0\" >prediction_price_type</td>\n",
       "      <td id=\"T_9e143_row12_col1\" class=\"data row12 col1\" >0.264383</td>\n",
       "    </tr>\n",
       "    <tr>\n",
       "      <th id=\"T_9e143_level0_row13\" class=\"row_heading level0 row13\" >13</th>\n",
       "      <td id=\"T_9e143_row13_col0\" class=\"data row13 col0\" >overpaid_ride_ticket</td>\n",
       "      <td id=\"T_9e143_row13_col1\" class=\"data row13 col1\" >0.262797</td>\n",
       "    </tr>\n",
       "    <tr>\n",
       "      <th id=\"T_9e143_level0_row14\" class=\"row_heading level0 row14\" >14</th>\n",
       "      <td id=\"T_9e143_row14_col0\" class=\"data row14 col0\" >predicted_distance</td>\n",
       "      <td id=\"T_9e143_row14_col1\" class=\"data row14 col1\" >0.253912</td>\n",
       "    </tr>\n",
       "    <tr>\n",
       "      <th id=\"T_9e143_level0_row15\" class=\"row_heading level0 row15\" >15</th>\n",
       "      <td id=\"T_9e143_row15_col0\" class=\"data row15 col0\" >order_id_new</td>\n",
       "      <td id=\"T_9e143_row15_col1\" class=\"data row15 col1\" >0.136434</td>\n",
       "    </tr>\n",
       "    <tr>\n",
       "      <th id=\"T_9e143_level0_row16\" class=\"row_heading level0 row16\" >16</th>\n",
       "      <td id=\"T_9e143_row16_col0\" class=\"data row16 col0\" >order_try_id_new</td>\n",
       "      <td id=\"T_9e143_row16_col1\" class=\"data row16 col1\" >0.136434</td>\n",
       "    </tr>\n",
       "    <tr>\n",
       "      <th id=\"T_9e143_level0_row17\" class=\"row_heading level0 row17\" >17</th>\n",
       "      <td id=\"T_9e143_row17_col0\" class=\"data row17 col0\" >ticket_id_new</td>\n",
       "      <td id=\"T_9e143_row17_col1\" class=\"data row17 col1\" >0.129127</td>\n",
       "    </tr>\n",
       "    <tr>\n",
       "      <th id=\"T_9e143_level0_row18\" class=\"row_heading level0 row18\" >18</th>\n",
       "      <td id=\"T_9e143_row18_col0\" class=\"data row18 col0\" >driver_device_uid_new</td>\n",
       "      <td id=\"T_9e143_row18_col1\" class=\"data row18 col1\" >0.115255</td>\n",
       "    </tr>\n",
       "    <tr>\n",
       "      <th id=\"T_9e143_level0_row19\" class=\"row_heading level0 row19\" >19</th>\n",
       "      <td id=\"T_9e143_row19_col0\" class=\"data row19 col0\" >entered_by</td>\n",
       "      <td id=\"T_9e143_row19_col1\" class=\"data row19 col1\" >0.086189</td>\n",
       "    </tr>\n",
       "    <tr>\n",
       "      <th id=\"T_9e143_level0_row20\" class=\"row_heading level0 row20\" >20</th>\n",
       "      <td id=\"T_9e143_row20_col0\" class=\"data row20 col0\" >fraud_score</td>\n",
       "      <td id=\"T_9e143_row20_col1\" class=\"data row20 col1\" >0.072925</td>\n",
       "    </tr>\n",
       "    <tr>\n",
       "      <th id=\"T_9e143_level0_row21\" class=\"row_heading level0 row21\" >21</th>\n",
       "      <td id=\"T_9e143_row21_col0\" class=\"data row21 col0\" >order_state</td>\n",
       "      <td id=\"T_9e143_row21_col1\" class=\"data row21 col1\" >0.022003</td>\n",
       "    </tr>\n",
       "    <tr>\n",
       "      <th id=\"T_9e143_level0_row22\" class=\"row_heading level0 row22\" >22</th>\n",
       "      <td id=\"T_9e143_row22_col0\" class=\"data row22 col0\" >dest_change_number</td>\n",
       "      <td id=\"T_9e143_row22_col1\" class=\"data row22 col1\" >0.000000</td>\n",
       "    </tr>\n",
       "  </tbody>\n",
       "</table>\n"
      ],
      "text/plain": [
       "<pandas.io.formats.style.Styler at 0x7f178965f5b0>"
      ]
     },
     "execution_count": 41,
     "metadata": {},
     "output_type": "execute_result"
    }
   ],
   "source": [
    "(phik_overview['metered_price'].sort_values(ascending=False).reset_index()\n",
    ".style\n",
    ".highlight_between(left=.3, right=1, subset='metered_price', color='red' )\n",
    ".highlight_between(left=.1, right=.3, subset='metered_price', color='orange' )\n",
    ".highlight_between(left=0, right=.1, subset='metered_price', color='green' )\n",
    "\n",
    ".format({\n",
    "    'default': '{:,.2%}'.format,\n",
    "})\n",
    ")"
   ]
  },
  {
   "cell_type": "markdown",
   "id": "23bb4c66-5acb-45aa-9998-44499317fead",
   "metadata": {
    "tags": []
   },
   "source": [
    "# Analysis:"
   ]
  },
  {
   "cell_type": "code",
   "execution_count": 42,
   "id": "ad6291fb-cf4f-4b3b-aeeb-32e8a587ede5",
   "metadata": {},
   "outputs": [
    {
     "data": {
      "text/html": [
       "<div>\n",
       "<style scoped>\n",
       "    .dataframe tbody tr th:only-of-type {\n",
       "        vertical-align: middle;\n",
       "    }\n",
       "\n",
       "    .dataframe tbody tr th {\n",
       "        vertical-align: top;\n",
       "    }\n",
       "\n",
       "    .dataframe thead th {\n",
       "        text-align: right;\n",
       "    }\n",
       "</style>\n",
       "<table border=\"1\" class=\"dataframe\">\n",
       "  <thead>\n",
       "    <tr style=\"text-align: right;\">\n",
       "      <th></th>\n",
       "      <th>order_id_new</th>\n",
       "      <th>order_try_id_new</th>\n",
       "      <th>calc_created</th>\n",
       "      <th>metered_price</th>\n",
       "      <th>upfront_price</th>\n",
       "      <th>distance</th>\n",
       "      <th>duration</th>\n",
       "      <th>gps_confidence</th>\n",
       "      <th>entered_by</th>\n",
       "      <th>b_state</th>\n",
       "      <th>...</th>\n",
       "      <th>order_state</th>\n",
       "      <th>order_try_state</th>\n",
       "      <th>driver_app_version</th>\n",
       "      <th>driver_device_uid_new</th>\n",
       "      <th>device_name</th>\n",
       "      <th>eu_indicator</th>\n",
       "      <th>overpaid_ride_ticket</th>\n",
       "      <th>fraud_score</th>\n",
       "      <th>metered_price_bin</th>\n",
       "      <th>fraud_bin</th>\n",
       "    </tr>\n",
       "  </thead>\n",
       "  <tbody>\n",
       "    <tr>\n",
       "      <th>0</th>\n",
       "      <td>22</td>\n",
       "      <td>22</td>\n",
       "      <td>2020-02-02 03:37:31</td>\n",
       "      <td>4.04</td>\n",
       "      <td>10.0</td>\n",
       "      <td>2839</td>\n",
       "      <td>700</td>\n",
       "      <td>1</td>\n",
       "      <td>client</td>\n",
       "      <td>finished</td>\n",
       "      <td>...</td>\n",
       "      <td>finished</td>\n",
       "      <td>finished</td>\n",
       "      <td>DA.4.37</td>\n",
       "      <td>1596</td>\n",
       "      <td>Xiaomi Redmi 6</td>\n",
       "      <td>1</td>\n",
       "      <td>0</td>\n",
       "      <td>-1383.0</td>\n",
       "      <td>(1.999, 4.72]</td>\n",
       "      <td>(-1850.0, -228.0]</td>\n",
       "    </tr>\n",
       "    <tr>\n",
       "      <th>1</th>\n",
       "      <td>618</td>\n",
       "      <td>618</td>\n",
       "      <td>2020-02-08 02:26:19</td>\n",
       "      <td>6.09</td>\n",
       "      <td>3.6</td>\n",
       "      <td>5698</td>\n",
       "      <td>493</td>\n",
       "      <td>1</td>\n",
       "      <td>client</td>\n",
       "      <td>finished</td>\n",
       "      <td>...</td>\n",
       "      <td>finished</td>\n",
       "      <td>finished</td>\n",
       "      <td>DA.4.39</td>\n",
       "      <td>1578</td>\n",
       "      <td>Samsung SM-G965F</td>\n",
       "      <td>1</td>\n",
       "      <td>0</td>\n",
       "      <td>-9999.0</td>\n",
       "      <td>(4.72, 8.25]</td>\n",
       "      <td>(-14225.001, -9999.0]</td>\n",
       "    </tr>\n",
       "    <tr>\n",
       "      <th>2</th>\n",
       "      <td>657</td>\n",
       "      <td>657</td>\n",
       "      <td>2020-02-08 11:50:35</td>\n",
       "      <td>4.32</td>\n",
       "      <td>3.5</td>\n",
       "      <td>4426</td>\n",
       "      <td>695</td>\n",
       "      <td>1</td>\n",
       "      <td>client</td>\n",
       "      <td>finished</td>\n",
       "      <td>...</td>\n",
       "      <td>finished</td>\n",
       "      <td>finished</td>\n",
       "      <td>DA.4.37</td>\n",
       "      <td>951</td>\n",
       "      <td>Samsung SM-A530F</td>\n",
       "      <td>1</td>\n",
       "      <td>0</td>\n",
       "      <td>-166.0</td>\n",
       "      <td>(1.999, 4.72]</td>\n",
       "      <td>(-228.0, 49.0]</td>\n",
       "    </tr>\n",
       "    <tr>\n",
       "      <th>3</th>\n",
       "      <td>313</td>\n",
       "      <td>313</td>\n",
       "      <td>2020-02-05 06:34:54</td>\n",
       "      <td>72871.72</td>\n",
       "      <td>NaN</td>\n",
       "      <td>49748</td>\n",
       "      <td>1400</td>\n",
       "      <td>0</td>\n",
       "      <td>client</td>\n",
       "      <td>finished</td>\n",
       "      <td>...</td>\n",
       "      <td>finished</td>\n",
       "      <td>finished</td>\n",
       "      <td>DA.4.37</td>\n",
       "      <td>1587</td>\n",
       "      <td>TECNO-Y6</td>\n",
       "      <td>0</td>\n",
       "      <td>1</td>\n",
       "      <td>-9999.0</td>\n",
       "      <td>(13835.1, 194483.52]</td>\n",
       "      <td>(-14225.001, -9999.0]</td>\n",
       "    </tr>\n",
       "    <tr>\n",
       "      <th>4</th>\n",
       "      <td>1176</td>\n",
       "      <td>1176</td>\n",
       "      <td>2020-02-13 17:31:24</td>\n",
       "      <td>20032.50</td>\n",
       "      <td>19500.0</td>\n",
       "      <td>10273</td>\n",
       "      <td>5067</td>\n",
       "      <td>1</td>\n",
       "      <td>client</td>\n",
       "      <td>finished</td>\n",
       "      <td>...</td>\n",
       "      <td>finished</td>\n",
       "      <td>finished</td>\n",
       "      <td>DA.4.37</td>\n",
       "      <td>433</td>\n",
       "      <td>Itel W5504</td>\n",
       "      <td>0</td>\n",
       "      <td>0</td>\n",
       "      <td>-9999.0</td>\n",
       "      <td>(13835.1, 194483.52]</td>\n",
       "      <td>(-14225.001, -9999.0]</td>\n",
       "    </tr>\n",
       "  </tbody>\n",
       "</table>\n",
       "<p>5 rows × 28 columns</p>\n",
       "</div>"
      ],
      "text/plain": [
       "   order_id_new  order_try_id_new        calc_created  metered_price  \\\n",
       "0            22                22 2020-02-02 03:37:31           4.04   \n",
       "1           618               618 2020-02-08 02:26:19           6.09   \n",
       "2           657               657 2020-02-08 11:50:35           4.32   \n",
       "3           313               313 2020-02-05 06:34:54       72871.72   \n",
       "4          1176              1176 2020-02-13 17:31:24       20032.50   \n",
       "\n",
       "   upfront_price  distance  duration  gps_confidence entered_by   b_state  \\\n",
       "0           10.0      2839       700               1     client  finished   \n",
       "1            3.6      5698       493               1     client  finished   \n",
       "2            3.5      4426       695               1     client  finished   \n",
       "3            NaN     49748      1400               0     client  finished   \n",
       "4        19500.0     10273      5067               1     client  finished   \n",
       "\n",
       "   ...  order_state order_try_state  driver_app_version  \\\n",
       "0  ...     finished        finished             DA.4.37   \n",
       "1  ...     finished        finished             DA.4.39   \n",
       "2  ...     finished        finished             DA.4.37   \n",
       "3  ...     finished        finished             DA.4.37   \n",
       "4  ...     finished        finished             DA.4.37   \n",
       "\n",
       "   driver_device_uid_new       device_name  eu_indicator  \\\n",
       "0                   1596    Xiaomi Redmi 6             1   \n",
       "1                   1578  Samsung SM-G965F             1   \n",
       "2                    951  Samsung SM-A530F             1   \n",
       "3                   1587          TECNO-Y6             0   \n",
       "4                    433        Itel W5504             0   \n",
       "\n",
       "   overpaid_ride_ticket fraud_score     metered_price_bin  \\\n",
       "0                     0     -1383.0         (1.999, 4.72]   \n",
       "1                     0     -9999.0          (4.72, 8.25]   \n",
       "2                     0      -166.0         (1.999, 4.72]   \n",
       "3                     1     -9999.0  (13835.1, 194483.52]   \n",
       "4                     0     -9999.0  (13835.1, 194483.52]   \n",
       "\n",
       "               fraud_bin  \n",
       "0      (-1850.0, -228.0]  \n",
       "1  (-14225.001, -9999.0]  \n",
       "2         (-228.0, 49.0]  \n",
       "3  (-14225.001, -9999.0]  \n",
       "4  (-14225.001, -9999.0]  \n",
       "\n",
       "[5 rows x 28 columns]"
      ]
     },
     "execution_count": 42,
     "metadata": {},
     "output_type": "execute_result"
    }
   ],
   "source": [
    "df.head(5)"
   ]
  },
  {
   "cell_type": "markdown",
   "id": "6698a2b7-998e-42fb-8e74-6b53424b77fa",
   "metadata": {},
   "source": [
    "## metered_price Analysis "
   ]
  },
  {
   "cell_type": "code",
   "execution_count": 44,
   "id": "85abf934-3c5a-487f-beb8-46dc57d15ce4",
   "metadata": {},
   "outputs": [
    {
     "data": {
      "text/html": [
       "<div>\n",
       "<style scoped>\n",
       "    .dataframe tbody tr th:only-of-type {\n",
       "        vertical-align: middle;\n",
       "    }\n",
       "\n",
       "    .dataframe tbody tr th {\n",
       "        vertical-align: top;\n",
       "    }\n",
       "\n",
       "    .dataframe thead th {\n",
       "        text-align: right;\n",
       "    }\n",
       "</style>\n",
       "<table border=\"1\" class=\"dataframe\">\n",
       "  <thead>\n",
       "    <tr style=\"text-align: right;\">\n",
       "      <th></th>\n",
       "      <th>index</th>\n",
       "      <th>metered_price</th>\n",
       "    </tr>\n",
       "  </thead>\n",
       "  <tbody>\n",
       "    <tr>\n",
       "      <th>0</th>\n",
       "      <td>0</td>\n",
       "      <td>4.04</td>\n",
       "    </tr>\n",
       "    <tr>\n",
       "      <th>1</th>\n",
       "      <td>1</td>\n",
       "      <td>6.09</td>\n",
       "    </tr>\n",
       "    <tr>\n",
       "      <th>2</th>\n",
       "      <td>2</td>\n",
       "      <td>4.32</td>\n",
       "    </tr>\n",
       "    <tr>\n",
       "      <th>3</th>\n",
       "      <td>3</td>\n",
       "      <td>72871.72</td>\n",
       "    </tr>\n",
       "    <tr>\n",
       "      <th>4</th>\n",
       "      <td>4</td>\n",
       "      <td>20032.50</td>\n",
       "    </tr>\n",
       "    <tr>\n",
       "      <th>...</th>\n",
       "      <td>...</td>\n",
       "      <td>...</td>\n",
       "    </tr>\n",
       "    <tr>\n",
       "      <th>4938</th>\n",
       "      <td>4938</td>\n",
       "      <td>10.89</td>\n",
       "    </tr>\n",
       "    <tr>\n",
       "      <th>4939</th>\n",
       "      <td>4939</td>\n",
       "      <td>8789.28</td>\n",
       "    </tr>\n",
       "    <tr>\n",
       "      <th>4940</th>\n",
       "      <td>4940</td>\n",
       "      <td>7.50</td>\n",
       "    </tr>\n",
       "    <tr>\n",
       "      <th>4941</th>\n",
       "      <td>4941</td>\n",
       "      <td>3.06</td>\n",
       "    </tr>\n",
       "    <tr>\n",
       "      <th>4942</th>\n",
       "      <td>4942</td>\n",
       "      <td>29244.10</td>\n",
       "    </tr>\n",
       "  </tbody>\n",
       "</table>\n",
       "<p>4943 rows × 2 columns</p>\n",
       "</div>"
      ],
      "text/plain": [
       "      index  metered_price\n",
       "0         0           4.04\n",
       "1         1           6.09\n",
       "2         2           4.32\n",
       "3         3       72871.72\n",
       "4         4       20032.50\n",
       "...     ...            ...\n",
       "4938   4938          10.89\n",
       "4939   4939        8789.28\n",
       "4940   4940           7.50\n",
       "4941   4941           3.06\n",
       "4942   4942       29244.10\n",
       "\n",
       "[4943 rows x 2 columns]"
      ]
     },
     "execution_count": 44,
     "metadata": {},
     "output_type": "execute_result"
    }
   ],
   "source": [
    "df['metered_price'].reset_index()"
   ]
  },
  {
   "cell_type": "code",
   "execution_count": 45,
   "id": "f8691ab4-7cb1-42e1-aba8-eb63833f1230",
   "metadata": {},
   "outputs": [
    {
     "data": {
      "text/plain": [
       "<AxesSubplot: >"
      ]
     },
     "execution_count": 45,
     "metadata": {},
     "output_type": "execute_result"
    },
    {
     "data": {
      "image/png": "[encoded data removed]",
      "text/plain": [
       "<Figure size 640x480 with 1 Axes>"
      ]
     },
     "metadata": {},
     "output_type": "display_data"
    }
   ],
   "source": [
    "df['metered_price'].hist()"
   ]
  },
  {
   "cell_type": "code",
   "execution_count": 46,
   "id": "366a745f-3825-4cf2-b7b1-0ae6732679a5",
   "metadata": {},
   "outputs": [
    {
     "data": {
      "text/html": [
       "<div>\n",
       "<style scoped>\n",
       "    .dataframe tbody tr th:only-of-type {\n",
       "        vertical-align: middle;\n",
       "    }\n",
       "\n",
       "    .dataframe tbody tr th {\n",
       "        vertical-align: top;\n",
       "    }\n",
       "\n",
       "    .dataframe thead th {\n",
       "        text-align: right;\n",
       "    }\n",
       "</style>\n",
       "<table border=\"1\" class=\"dataframe\">\n",
       "  <thead>\n",
       "    <tr style=\"text-align: right;\">\n",
       "      <th></th>\n",
       "      <th>index</th>\n",
       "      <th>metered_price</th>\n",
       "    </tr>\n",
       "  </thead>\n",
       "  <tbody>\n",
       "    <tr>\n",
       "      <th>0</th>\n",
       "      <td>0</td>\n",
       "      <td>(1.999, 4.72]</td>\n",
       "    </tr>\n",
       "    <tr>\n",
       "      <th>1</th>\n",
       "      <td>1</td>\n",
       "      <td>(4.72, 8.25]</td>\n",
       "    </tr>\n",
       "    <tr>\n",
       "      <th>2</th>\n",
       "      <td>2</td>\n",
       "      <td>(1.999, 4.72]</td>\n",
       "    </tr>\n",
       "    <tr>\n",
       "      <th>3</th>\n",
       "      <td>3</td>\n",
       "      <td>(13835.1, 194483.52]</td>\n",
       "    </tr>\n",
       "    <tr>\n",
       "      <th>4</th>\n",
       "      <td>4</td>\n",
       "      <td>(13835.1, 194483.52]</td>\n",
       "    </tr>\n",
       "    <tr>\n",
       "      <th>...</th>\n",
       "      <td>...</td>\n",
       "      <td>...</td>\n",
       "    </tr>\n",
       "    <tr>\n",
       "      <th>4938</th>\n",
       "      <td>4938</td>\n",
       "      <td>(8.25, 6000.0]</td>\n",
       "    </tr>\n",
       "    <tr>\n",
       "      <th>4939</th>\n",
       "      <td>4939</td>\n",
       "      <td>(6000.0, 13835.1]</td>\n",
       "    </tr>\n",
       "    <tr>\n",
       "      <th>4940</th>\n",
       "      <td>4940</td>\n",
       "      <td>(4.72, 8.25]</td>\n",
       "    </tr>\n",
       "    <tr>\n",
       "      <th>4941</th>\n",
       "      <td>4941</td>\n",
       "      <td>(1.999, 4.72]</td>\n",
       "    </tr>\n",
       "    <tr>\n",
       "      <th>4942</th>\n",
       "      <td>4942</td>\n",
       "      <td>(13835.1, 194483.52]</td>\n",
       "    </tr>\n",
       "  </tbody>\n",
       "</table>\n",
       "<p>4943 rows × 2 columns</p>\n",
       "</div>"
      ],
      "text/plain": [
       "      index         metered_price\n",
       "0         0         (1.999, 4.72]\n",
       "1         1          (4.72, 8.25]\n",
       "2         2         (1.999, 4.72]\n",
       "3         3  (13835.1, 194483.52]\n",
       "4         4  (13835.1, 194483.52]\n",
       "...     ...                   ...\n",
       "4938   4938        (8.25, 6000.0]\n",
       "4939   4939     (6000.0, 13835.1]\n",
       "4940   4940          (4.72, 8.25]\n",
       "4941   4941         (1.999, 4.72]\n",
       "4942   4942  (13835.1, 194483.52]\n",
       "\n",
       "[4943 rows x 2 columns]"
      ]
     },
     "execution_count": 46,
     "metadata": {},
     "output_type": "execute_result"
    }
   ],
   "source": [
    "pd.qcut(df['metered_price'], 5).reset_index()"
   ]
  },
  {
   "cell_type": "code",
   "execution_count": 47,
   "id": "404ca9d9-0161-4067-9ce3-1656a41a453a",
   "metadata": {},
   "outputs": [],
   "source": [
    "df['metered_price_bin'] = pd.qcut(df['metered_price'], 5)"
   ]
  },
  {
   "cell_type": "code",
   "execution_count": 48,
   "id": "ba071776-123a-44b5-972f-b4cce3d8bfa3",
   "metadata": {},
   "outputs": [
    {
     "data": {
      "text/html": [
       "<div>\n",
       "<style scoped>\n",
       "    .dataframe tbody tr th:only-of-type {\n",
       "        vertical-align: middle;\n",
       "    }\n",
       "\n",
       "    .dataframe tbody tr th {\n",
       "        vertical-align: top;\n",
       "    }\n",
       "\n",
       "    .dataframe thead th {\n",
       "        text-align: right;\n",
       "    }\n",
       "</style>\n",
       "<table border=\"1\" class=\"dataframe\">\n",
       "  <thead>\n",
       "    <tr style=\"text-align: right;\">\n",
       "      <th></th>\n",
       "      <th>count</th>\n",
       "      <th>mean</th>\n",
       "    </tr>\n",
       "    <tr>\n",
       "      <th>metered_price_bin</th>\n",
       "      <th></th>\n",
       "      <th></th>\n",
       "    </tr>\n",
       "  </thead>\n",
       "  <tbody>\n",
       "    <tr>\n",
       "      <th>(1.999, 4.72]</th>\n",
       "      <td>992</td>\n",
       "      <td>0.000000</td>\n",
       "    </tr>\n",
       "    <tr>\n",
       "      <th>(4.72, 8.25]</th>\n",
       "      <td>978</td>\n",
       "      <td>0.005112</td>\n",
       "    </tr>\n",
       "    <tr>\n",
       "      <th>(8.25, 6000.0]</th>\n",
       "      <td>1291</td>\n",
       "      <td>0.040279</td>\n",
       "    </tr>\n",
       "    <tr>\n",
       "      <th>(6000.0, 13835.1]</th>\n",
       "      <td>677</td>\n",
       "      <td>0.138848</td>\n",
       "    </tr>\n",
       "    <tr>\n",
       "      <th>(13835.1, 194483.52]</th>\n",
       "      <td>985</td>\n",
       "      <td>0.188832</td>\n",
       "    </tr>\n",
       "  </tbody>\n",
       "</table>\n",
       "</div>"
      ],
      "text/plain": [
       "                      count      mean\n",
       "metered_price_bin                    \n",
       "(1.999, 4.72]           992  0.000000\n",
       "(4.72, 8.25]            978  0.005112\n",
       "(8.25, 6000.0]         1291  0.040279\n",
       "(6000.0, 13835.1]       677  0.138848\n",
       "(13835.1, 194483.52]    985  0.188832"
      ]
     },
     "execution_count": 48,
     "metadata": {},
     "output_type": "execute_result"
    }
   ],
   "source": [
    "df.groupby('metered_price_bin')['overpaid_ride_ticket'].agg(['count','mean'])"
   ]
  },
  {
   "cell_type": "code",
   "execution_count": 49,
   "id": "193af28f-9e93-4fc7-8956-5f79a7a7a785",
   "metadata": {},
   "outputs": [
    {
     "data": {
      "text/html": [
       "<style type=\"text/css\">\n",
       "#T_0d4fe_row0_col1, #T_0d4fe_row1_col1, #T_0d4fe_row2_col1 {\n",
       "  background-color: green;\n",
       "}\n",
       "#T_0d4fe_row3_col1 {\n",
       "  background-color: orange;\n",
       "}\n",
       "#T_0d4fe_row4_col1 {\n",
       "  background-color: red;\n",
       "}\n",
       "</style>\n",
       "<table id=\"T_0d4fe\">\n",
       "  <thead>\n",
       "    <tr>\n",
       "      <th class=\"blank level0\" >&nbsp;</th>\n",
       "      <th id=\"T_0d4fe_level0_col0\" class=\"col_heading level0 col0\" >count</th>\n",
       "      <th id=\"T_0d4fe_level0_col1\" class=\"col_heading level0 col1\" >mean</th>\n",
       "    </tr>\n",
       "    <tr>\n",
       "      <th class=\"index_name level0\" >metered_price_bin</th>\n",
       "      <th class=\"blank col0\" >&nbsp;</th>\n",
       "      <th class=\"blank col1\" >&nbsp;</th>\n",
       "    </tr>\n",
       "  </thead>\n",
       "  <tbody>\n",
       "    <tr>\n",
       "      <th id=\"T_0d4fe_level0_row0\" class=\"row_heading level0 row0\" >(1.999, 4.72]</th>\n",
       "      <td id=\"T_0d4fe_row0_col0\" class=\"data row0 col0\" >992</td>\n",
       "      <td id=\"T_0d4fe_row0_col1\" class=\"data row0 col1\" >0.00%</td>\n",
       "    </tr>\n",
       "    <tr>\n",
       "      <th id=\"T_0d4fe_level0_row1\" class=\"row_heading level0 row1\" >(4.72, 8.25]</th>\n",
       "      <td id=\"T_0d4fe_row1_col0\" class=\"data row1 col0\" >978</td>\n",
       "      <td id=\"T_0d4fe_row1_col1\" class=\"data row1 col1\" >0.51%</td>\n",
       "    </tr>\n",
       "    <tr>\n",
       "      <th id=\"T_0d4fe_level0_row2\" class=\"row_heading level0 row2\" >(8.25, 6000.0]</th>\n",
       "      <td id=\"T_0d4fe_row2_col0\" class=\"data row2 col0\" >1291</td>\n",
       "      <td id=\"T_0d4fe_row2_col1\" class=\"data row2 col1\" >4.03%</td>\n",
       "    </tr>\n",
       "    <tr>\n",
       "      <th id=\"T_0d4fe_level0_row3\" class=\"row_heading level0 row3\" >(6000.0, 13835.1]</th>\n",
       "      <td id=\"T_0d4fe_row3_col0\" class=\"data row3 col0\" >677</td>\n",
       "      <td id=\"T_0d4fe_row3_col1\" class=\"data row3 col1\" >13.88%</td>\n",
       "    </tr>\n",
       "    <tr>\n",
       "      <th id=\"T_0d4fe_level0_row4\" class=\"row_heading level0 row4\" >(13835.1, 194483.52]</th>\n",
       "      <td id=\"T_0d4fe_row4_col0\" class=\"data row4 col0\" >985</td>\n",
       "      <td id=\"T_0d4fe_row4_col1\" class=\"data row4 col1\" >18.88%</td>\n",
       "    </tr>\n",
       "  </tbody>\n",
       "</table>\n"
      ],
      "text/plain": [
       "<pandas.io.formats.style.Styler at 0x7f178965e1a0>"
      ]
     },
     "execution_count": 49,
     "metadata": {},
     "output_type": "execute_result"
    }
   ],
   "source": [
    "(df.groupby(['metered_price_bin'])['overpaid_ride_ticket']\n",
    ".agg(['count', 'mean'])\n",
    ".style\n",
    ".highlight_between(left=.15, right=100, subset='mean', color='red' )\n",
    ".highlight_between(left=.05, right=.15, subset='mean', color='orange' )\n",
    ".highlight_between(left=0, right=.05, subset='mean', color='green' )\n",
    "\n",
    ".format({\n",
    "    'mean': '{:,.2%}'.format,\n",
    "})\n",
    ")"
   ]
  },
  {
   "cell_type": "markdown",
   "id": "c54fe584-1317-4505-b294-8aa4afffd072",
   "metadata": {},
   "source": [
    "*only 13% and 20 % overpaid ride*"
   ]
  },
  {
   "cell_type": "markdown",
   "id": "351a8cbf-c867-4fd8-9275-24117f25b6e5",
   "metadata": {},
   "source": [
    "## prediction_price_type Analysis "
   ]
  },
  {
   "cell_type": "code",
   "execution_count": 50,
   "id": "96f21d3b-3f3c-429c-8191-22f035987f10",
   "metadata": {},
   "outputs": [
    {
     "data": {
      "text/html": [
       "<div>\n",
       "<style scoped>\n",
       "    .dataframe tbody tr th:only-of-type {\n",
       "        vertical-align: middle;\n",
       "    }\n",
       "\n",
       "    .dataframe tbody tr th {\n",
       "        vertical-align: top;\n",
       "    }\n",
       "\n",
       "    .dataframe thead th {\n",
       "        text-align: right;\n",
       "    }\n",
       "</style>\n",
       "<table border=\"1\" class=\"dataframe\">\n",
       "  <thead>\n",
       "    <tr style=\"text-align: right;\">\n",
       "      <th></th>\n",
       "      <th>count</th>\n",
       "      <th>mean</th>\n",
       "    </tr>\n",
       "    <tr>\n",
       "      <th>prediction_price_type</th>\n",
       "      <th></th>\n",
       "      <th></th>\n",
       "    </tr>\n",
       "  </thead>\n",
       "  <tbody>\n",
       "    <tr>\n",
       "      <th>prediction</th>\n",
       "      <td>1279</td>\n",
       "      <td>0.173573</td>\n",
       "    </tr>\n",
       "    <tr>\n",
       "      <th>upfront</th>\n",
       "      <td>3432</td>\n",
       "      <td>0.032634</td>\n",
       "    </tr>\n",
       "    <tr>\n",
       "      <th>upfront_destination_changed</th>\n",
       "      <td>208</td>\n",
       "      <td>0.014423</td>\n",
       "    </tr>\n",
       "    <tr>\n",
       "      <th>upfront_waypoint_changed</th>\n",
       "      <td>4</td>\n",
       "      <td>0.000000</td>\n",
       "    </tr>\n",
       "  </tbody>\n",
       "</table>\n",
       "</div>"
      ],
      "text/plain": [
       "                             count      mean\n",
       "prediction_price_type                       \n",
       "prediction                    1279  0.173573\n",
       "upfront                       3432  0.032634\n",
       "upfront_destination_changed    208  0.014423\n",
       "upfront_waypoint_changed         4  0.000000"
      ]
     },
     "execution_count": 50,
     "metadata": {},
     "output_type": "execute_result"
    }
   ],
   "source": [
    "df.groupby('prediction_price_type')['overpaid_ride_ticket'].agg(['count','mean'])"
   ]
  },
  {
   "cell_type": "code",
   "execution_count": 51,
   "id": "4cbd4396-2525-436d-8bae-15c59cf89ea2",
   "metadata": {},
   "outputs": [
    {
     "data": {
      "text/html": [
       "<style type=\"text/css\">\n",
       "#T_9a44b_row0_col1 {\n",
       "  background-color: red;\n",
       "}\n",
       "#T_9a44b_row1_col1, #T_9a44b_row2_col1, #T_9a44b_row3_col1 {\n",
       "  background-color: green;\n",
       "}\n",
       "</style>\n",
       "<table id=\"T_9a44b\">\n",
       "  <thead>\n",
       "    <tr>\n",
       "      <th class=\"blank level0\" >&nbsp;</th>\n",
       "      <th id=\"T_9a44b_level0_col0\" class=\"col_heading level0 col0\" >count</th>\n",
       "      <th id=\"T_9a44b_level0_col1\" class=\"col_heading level0 col1\" >mean</th>\n",
       "    </tr>\n",
       "    <tr>\n",
       "      <th class=\"index_name level0\" >prediction_price_type</th>\n",
       "      <th class=\"blank col0\" >&nbsp;</th>\n",
       "      <th class=\"blank col1\" >&nbsp;</th>\n",
       "    </tr>\n",
       "  </thead>\n",
       "  <tbody>\n",
       "    <tr>\n",
       "      <th id=\"T_9a44b_level0_row0\" class=\"row_heading level0 row0\" >prediction</th>\n",
       "      <td id=\"T_9a44b_row0_col0\" class=\"data row0 col0\" >1279</td>\n",
       "      <td id=\"T_9a44b_row0_col1\" class=\"data row0 col1\" >17.36%</td>\n",
       "    </tr>\n",
       "    <tr>\n",
       "      <th id=\"T_9a44b_level0_row1\" class=\"row_heading level0 row1\" >upfront</th>\n",
       "      <td id=\"T_9a44b_row1_col0\" class=\"data row1 col0\" >3432</td>\n",
       "      <td id=\"T_9a44b_row1_col1\" class=\"data row1 col1\" >3.26%</td>\n",
       "    </tr>\n",
       "    <tr>\n",
       "      <th id=\"T_9a44b_level0_row2\" class=\"row_heading level0 row2\" >upfront_destination_changed</th>\n",
       "      <td id=\"T_9a44b_row2_col0\" class=\"data row2 col0\" >208</td>\n",
       "      <td id=\"T_9a44b_row2_col1\" class=\"data row2 col1\" >1.44%</td>\n",
       "    </tr>\n",
       "    <tr>\n",
       "      <th id=\"T_9a44b_level0_row3\" class=\"row_heading level0 row3\" >upfront_waypoint_changed</th>\n",
       "      <td id=\"T_9a44b_row3_col0\" class=\"data row3 col0\" >4</td>\n",
       "      <td id=\"T_9a44b_row3_col1\" class=\"data row3 col1\" >0.00%</td>\n",
       "    </tr>\n",
       "  </tbody>\n",
       "</table>\n"
      ],
      "text/plain": [
       "<pandas.io.formats.style.Styler at 0x7f1789db9db0>"
      ]
     },
     "execution_count": 51,
     "metadata": {},
     "output_type": "execute_result"
    }
   ],
   "source": [
    "(df.groupby(['prediction_price_type'])['overpaid_ride_ticket']\n",
    ".agg(['count', 'mean'])\n",
    ".style\n",
    ".highlight_between(left=.15, right=100, subset='mean', color='red' )\n",
    ".highlight_between(left=.05, right=.15, subset='mean', color='orange' )\n",
    ".highlight_between(left=0, right=.05, subset='mean', color='green' )\n",
    "\n",
    ".format({\n",
    "    'mean': '{:,.2%}'.format,\n",
    "})\n",
    ")"
   ]
  },
  {
   "cell_type": "markdown",
   "id": "771e9712-f62c-45ad-87f3-74bb606cc53b",
   "metadata": {},
   "source": [
    "*problem here, when the price was predicted*"
   ]
  },
  {
   "cell_type": "markdown",
   "id": "2f609fd7-53cd-403b-8625-20b2e6016731",
   "metadata": {},
   "source": [
    "## eu_indicator Analysis"
   ]
  },
  {
   "cell_type": "code",
   "execution_count": 54,
   "id": "34f9e7ae-c180-4163-abe0-1bcea277a213",
   "metadata": {},
   "outputs": [
    {
     "data": {
      "text/html": [
       "<style type=\"text/css\">\n",
       "#T_23fa7_row0_col1 {\n",
       "  background-color: red;\n",
       "}\n",
       "</style>\n",
       "<table id=\"T_23fa7\">\n",
       "  <thead>\n",
       "    <tr>\n",
       "      <th class=\"blank level0\" >&nbsp;</th>\n",
       "      <th id=\"T_23fa7_level0_col0\" class=\"col_heading level0 col0\" >count</th>\n",
       "      <th id=\"T_23fa7_level0_col1\" class=\"col_heading level0 col1\" >mean</th>\n",
       "    </tr>\n",
       "    <tr>\n",
       "      <th class=\"index_name level0\" >eu_indicator</th>\n",
       "      <th class=\"blank col0\" >&nbsp;</th>\n",
       "      <th class=\"blank col1\" >&nbsp;</th>\n",
       "    </tr>\n",
       "  </thead>\n",
       "  <tbody>\n",
       "    <tr>\n",
       "      <th id=\"T_23fa7_level0_row0\" class=\"row_heading level0 row0\" >0</th>\n",
       "      <td id=\"T_23fa7_row0_col0\" class=\"data row0 col0\" >2173</td>\n",
       "      <td id=\"T_23fa7_row0_col1\" class=\"data row0 col1\" >14.91%</td>\n",
       "    </tr>\n",
       "    <tr>\n",
       "      <th id=\"T_23fa7_level0_row1\" class=\"row_heading level0 row1\" >1</th>\n",
       "      <td id=\"T_23fa7_row1_col0\" class=\"data row1 col0\" >2770</td>\n",
       "      <td id=\"T_23fa7_row1_col1\" class=\"data row1 col1\" >0.47%</td>\n",
       "    </tr>\n",
       "  </tbody>\n",
       "</table>\n"
      ],
      "text/plain": [
       "<pandas.io.formats.style.Styler at 0x7f17822493c0>"
      ]
     },
     "execution_count": 54,
     "metadata": {},
     "output_type": "execute_result"
    }
   ],
   "source": [
    "(df.groupby('eu_indicator')['overpaid_ride_ticket']\n",
    " .agg(['count','mean'])\n",
    ".style\n",
    ".highlight_between(left=.1, right=1, subset='mean', color='red' )\n",
    "\n",
    ".format({\n",
    "    'mean': '{:,.2%}'.format,\n",
    "})\n",
    ")"
   ]
  },
  {
   "cell_type": "code",
   "execution_count": 55,
   "id": "764118ca-5e6c-407d-a15a-b458eb546164",
   "metadata": {},
   "outputs": [
    {
     "data": {
      "text/plain": [
       "<AxesSubplot: xlabel='eu_indicator'>"
      ]
     },
     "execution_count": 55,
     "metadata": {},
     "output_type": "execute_result"
    },
    {
     "data": {
      "image/png": "[encoded data removed]",
      "text/plain": [
       "<Figure size 640x480 with 1 Axes>"
      ]
     },
     "metadata": {},
     "output_type": "display_data"
    }
   ],
   "source": [
    "df.groupby('eu_indicator')['overpaid_ride_ticket'].mean().plot(ylim=0, grid=True,kind='bar')"
   ]
  },
  {
   "cell_type": "markdown",
   "id": "865acc68-6943-4b62-9bc8-3b4b6ac945ba",
   "metadata": {},
   "source": [
    "*good indicator*"
   ]
  },
  {
   "cell_type": "markdown",
   "id": "8b023ad7-8d3f-4541-9a99-ec9c27d86cb7",
   "metadata": {},
   "source": [
    "## fraud_score Analysis "
   ]
  },
  {
   "cell_type": "code",
   "execution_count": 56,
   "id": "4fb49c6a-51f0-4f81-8895-1cfa57a91e7e",
   "metadata": {},
   "outputs": [
    {
     "data": {
      "text/plain": [
       "0.0"
      ]
     },
     "execution_count": 56,
     "metadata": {},
     "output_type": "execute_result"
    }
   ],
   "source": [
    "df['fraud_score'].isna().mean()"
   ]
  },
  {
   "cell_type": "code",
   "execution_count": 57,
   "id": "db05fe0b-31af-447e-8000-8d9f7ce2d015",
   "metadata": {},
   "outputs": [],
   "source": [
    "df['fraud_score'] = df['fraud_score'].fillna(-9999)"
   ]
  },
  {
   "cell_type": "code",
   "execution_count": 58,
   "id": "ba0579a3-09f1-44dc-85bf-7f2e45f9b5b9",
   "metadata": {},
   "outputs": [],
   "source": [
    "df['fraud_bin'] = pd.qcut(df['fraud_score'],5, duplicates='drop')"
   ]
  },
  {
   "cell_type": "code",
   "execution_count": 59,
   "id": "b7cddfc2-dba8-488c-b809-02dd049ce4b0",
   "metadata": {},
   "outputs": [
    {
     "data": {
      "text/html": [
       "<div>\n",
       "<style scoped>\n",
       "    .dataframe tbody tr th:only-of-type {\n",
       "        vertical-align: middle;\n",
       "    }\n",
       "\n",
       "    .dataframe tbody tr th {\n",
       "        vertical-align: top;\n",
       "    }\n",
       "\n",
       "    .dataframe thead th {\n",
       "        text-align: right;\n",
       "    }\n",
       "</style>\n",
       "<table border=\"1\" class=\"dataframe\">\n",
       "  <thead>\n",
       "    <tr style=\"text-align: right;\">\n",
       "      <th></th>\n",
       "      <th>count</th>\n",
       "      <th>mean</th>\n",
       "    </tr>\n",
       "    <tr>\n",
       "      <th>fraud_bin</th>\n",
       "      <th></th>\n",
       "      <th></th>\n",
       "    </tr>\n",
       "  </thead>\n",
       "  <tbody>\n",
       "    <tr>\n",
       "      <th>(-14225.001, -9999.0]</th>\n",
       "      <td>2764</td>\n",
       "      <td>0.115774</td>\n",
       "    </tr>\n",
       "    <tr>\n",
       "      <th>(-9999.0, -1850.0]</th>\n",
       "      <td>203</td>\n",
       "      <td>0.014778</td>\n",
       "    </tr>\n",
       "    <tr>\n",
       "      <th>(-1850.0, -228.0]</th>\n",
       "      <td>988</td>\n",
       "      <td>0.007085</td>\n",
       "    </tr>\n",
       "    <tr>\n",
       "      <th>(-228.0, 49.0]</th>\n",
       "      <td>988</td>\n",
       "      <td>0.007085</td>\n",
       "    </tr>\n",
       "  </tbody>\n",
       "</table>\n",
       "</div>"
      ],
      "text/plain": [
       "                       count      mean\n",
       "fraud_bin                             \n",
       "(-14225.001, -9999.0]   2764  0.115774\n",
       "(-9999.0, -1850.0]       203  0.014778\n",
       "(-1850.0, -228.0]        988  0.007085\n",
       "(-228.0, 49.0]           988  0.007085"
      ]
     },
     "execution_count": 59,
     "metadata": {},
     "output_type": "execute_result"
    }
   ],
   "source": [
    "df.groupby('fraud_bin')['overpaid_ride_ticket'].agg(['count','mean'])"
   ]
  },
  {
   "cell_type": "code",
   "execution_count": 60,
   "id": "a04cbfaf-fc9e-404e-9e15-6dc0f14ba058",
   "metadata": {},
   "outputs": [
    {
     "data": {
      "text/html": [
       "<style type=\"text/css\">\n",
       "#T_c6cba_row0_col0 {\n",
       "  background-color: red;\n",
       "}\n",
       "#T_c6cba_row0_col1 {\n",
       "  background-color: orange;\n",
       "}\n",
       "#T_c6cba_row1_col1, #T_c6cba_row2_col1, #T_c6cba_row3_col1 {\n",
       "  background-color: green;\n",
       "}\n",
       "</style>\n",
       "<table id=\"T_c6cba\">\n",
       "  <thead>\n",
       "    <tr>\n",
       "      <th class=\"blank level0\" >&nbsp;</th>\n",
       "      <th id=\"T_c6cba_level0_col0\" class=\"col_heading level0 col0\" >count</th>\n",
       "      <th id=\"T_c6cba_level0_col1\" class=\"col_heading level0 col1\" >mean</th>\n",
       "    </tr>\n",
       "    <tr>\n",
       "      <th class=\"index_name level0\" >fraud_bin</th>\n",
       "      <th class=\"blank col0\" >&nbsp;</th>\n",
       "      <th class=\"blank col1\" >&nbsp;</th>\n",
       "    </tr>\n",
       "  </thead>\n",
       "  <tbody>\n",
       "    <tr>\n",
       "      <th id=\"T_c6cba_level0_row0\" class=\"row_heading level0 row0\" >(-14225.001, -9999.0]</th>\n",
       "      <td id=\"T_c6cba_row0_col0\" class=\"data row0 col0\" >2764</td>\n",
       "      <td id=\"T_c6cba_row0_col1\" class=\"data row0 col1\" >11.58%</td>\n",
       "    </tr>\n",
       "    <tr>\n",
       "      <th id=\"T_c6cba_level0_row1\" class=\"row_heading level0 row1\" >(-9999.0, -1850.0]</th>\n",
       "      <td id=\"T_c6cba_row1_col0\" class=\"data row1 col0\" >203</td>\n",
       "      <td id=\"T_c6cba_row1_col1\" class=\"data row1 col1\" >1.48%</td>\n",
       "    </tr>\n",
       "    <tr>\n",
       "      <th id=\"T_c6cba_level0_row2\" class=\"row_heading level0 row2\" >(-1850.0, -228.0]</th>\n",
       "      <td id=\"T_c6cba_row2_col0\" class=\"data row2 col0\" >988</td>\n",
       "      <td id=\"T_c6cba_row2_col1\" class=\"data row2 col1\" >0.71%</td>\n",
       "    </tr>\n",
       "    <tr>\n",
       "      <th id=\"T_c6cba_level0_row3\" class=\"row_heading level0 row3\" >(-228.0, 49.0]</th>\n",
       "      <td id=\"T_c6cba_row3_col0\" class=\"data row3 col0\" >988</td>\n",
       "      <td id=\"T_c6cba_row3_col1\" class=\"data row3 col1\" >0.71%</td>\n",
       "    </tr>\n",
       "  </tbody>\n",
       "</table>\n"
      ],
      "text/plain": [
       "<pandas.io.formats.style.Styler at 0x7f178212eb60>"
      ]
     },
     "execution_count": 60,
     "metadata": {},
     "output_type": "execute_result"
    }
   ],
   "source": [
    "(df.groupby(['fraud_bin'])['overpaid_ride_ticket']\n",
    ".agg(['count', 'mean'])\n",
    ".style\n",
    ".highlight_between(left=.15, right=100, subset='mean', color='red' )\n",
    ".highlight_between(left=.05, right=.15, subset='mean', color='orange' )\n",
    ".highlight_between(left=0, right=.05, subset='mean', color='green' )\n",
    " \n",
    "\n",
    ".highlight_between(left=1000, right=3000, subset='count', color='red' )\n",
    "\n",
    "\n",
    "\n",
    ".format({\n",
    "    'mean': '{:,.2%}'.format,\n",
    "    'count': '{}'.format,\n",
    "})\n",
    ")"
   ]
  },
  {
   "cell_type": "markdown",
   "id": "e1b0b7e1-2a96-40f0-84ba-2a572e04d885",
   "metadata": {},
   "source": [
    "*where fraud_score is not filled there is overpaid_ride_ticket*"
   ]
  },
  {
   "cell_type": "markdown",
   "id": "8f49bfec-5962-4b62-89d3-1c1050433c02",
   "metadata": {},
   "source": [
    "## gps_confidence Analysis "
   ]
  },
  {
   "cell_type": "code",
   "execution_count": 61,
   "id": "741d997e-1d7c-465a-9cd1-305e64dac192",
   "metadata": {},
   "outputs": [
    {
     "data": {
      "text/html": [
       "<div>\n",
       "<style scoped>\n",
       "    .dataframe tbody tr th:only-of-type {\n",
       "        vertical-align: middle;\n",
       "    }\n",
       "\n",
       "    .dataframe tbody tr th {\n",
       "        vertical-align: top;\n",
       "    }\n",
       "\n",
       "    .dataframe thead th {\n",
       "        text-align: right;\n",
       "    }\n",
       "</style>\n",
       "<table border=\"1\" class=\"dataframe\">\n",
       "  <thead>\n",
       "    <tr style=\"text-align: right;\">\n",
       "      <th></th>\n",
       "      <th>count</th>\n",
       "      <th>mean</th>\n",
       "    </tr>\n",
       "    <tr>\n",
       "      <th>gps_confidence</th>\n",
       "      <th></th>\n",
       "      <th></th>\n",
       "    </tr>\n",
       "  </thead>\n",
       "  <tbody>\n",
       "    <tr>\n",
       "      <th>0</th>\n",
       "      <td>985</td>\n",
       "      <td>0.204061</td>\n",
       "    </tr>\n",
       "    <tr>\n",
       "      <th>1</th>\n",
       "      <td>3958</td>\n",
       "      <td>0.034361</td>\n",
       "    </tr>\n",
       "  </tbody>\n",
       "</table>\n",
       "</div>"
      ],
      "text/plain": [
       "                count      mean\n",
       "gps_confidence                 \n",
       "0                 985  0.204061\n",
       "1                3958  0.034361"
      ]
     },
     "execution_count": 61,
     "metadata": {},
     "output_type": "execute_result"
    }
   ],
   "source": [
    "df.groupby('gps_confidence')['overpaid_ride_ticket'].agg(['count','mean'])"
   ]
  },
  {
   "cell_type": "code",
   "execution_count": 62,
   "id": "09f6cb99-98a6-4f7b-af30-fd3bd6745b9a",
   "metadata": {},
   "outputs": [
    {
     "data": {
      "text/html": [
       "<style type=\"text/css\">\n",
       "#T_842e1_row0_col1 {\n",
       "  background-color: red;\n",
       "}\n",
       "#T_842e1_row1_col1 {\n",
       "  background-color: green;\n",
       "}\n",
       "</style>\n",
       "<table id=\"T_842e1\">\n",
       "  <thead>\n",
       "    <tr>\n",
       "      <th class=\"blank level0\" >&nbsp;</th>\n",
       "      <th id=\"T_842e1_level0_col0\" class=\"col_heading level0 col0\" >count</th>\n",
       "      <th id=\"T_842e1_level0_col1\" class=\"col_heading level0 col1\" >mean</th>\n",
       "    </tr>\n",
       "    <tr>\n",
       "      <th class=\"index_name level0\" >gps_confidence</th>\n",
       "      <th class=\"blank col0\" >&nbsp;</th>\n",
       "      <th class=\"blank col1\" >&nbsp;</th>\n",
       "    </tr>\n",
       "  </thead>\n",
       "  <tbody>\n",
       "    <tr>\n",
       "      <th id=\"T_842e1_level0_row0\" class=\"row_heading level0 row0\" >0</th>\n",
       "      <td id=\"T_842e1_row0_col0\" class=\"data row0 col0\" >985</td>\n",
       "      <td id=\"T_842e1_row0_col1\" class=\"data row0 col1\" >20.41%</td>\n",
       "    </tr>\n",
       "    <tr>\n",
       "      <th id=\"T_842e1_level0_row1\" class=\"row_heading level0 row1\" >1</th>\n",
       "      <td id=\"T_842e1_row1_col0\" class=\"data row1 col0\" >3958</td>\n",
       "      <td id=\"T_842e1_row1_col1\" class=\"data row1 col1\" >3.44%</td>\n",
       "    </tr>\n",
       "  </tbody>\n",
       "</table>\n"
      ],
      "text/plain": [
       "<pandas.io.formats.style.Styler at 0x7f1782233550>"
      ]
     },
     "execution_count": 62,
     "metadata": {},
     "output_type": "execute_result"
    }
   ],
   "source": [
    "(df.groupby(['gps_confidence'])['overpaid_ride_ticket']\n",
    ".agg(['count', 'mean'])\n",
    ".style\n",
    ".highlight_between(left=.15, right=100, subset='mean', color='red' )\n",
    ".highlight_between(left=.05, right=.15, subset='mean', color='orange' )\n",
    ".highlight_between(left=0, right=.05, subset='mean', color='green' )\n",
    "\n",
    ".format({\n",
    "    'mean': '{:,.2%}'.format,\n",
    "})\n",
    ")"
   ]
  },
  {
   "cell_type": "markdown",
   "id": "91699225-fb2b-4ba6-ad18-f91ccb30727f",
   "metadata": {},
   "source": [
    "*where there is no gps_confidence, then overpaid_ride_ticket is more likely*"
   ]
  },
  {
   "cell_type": "markdown",
   "id": "727dd14e-5f0d-4916-b1c9-adbf223d4ec8",
   "metadata": {},
   "source": [
    "## device_name Analysis "
   ]
  },
  {
   "cell_type": "code",
   "execution_count": 64,
   "id": "efc46d13-1443-4c70-8795-f961f50bbe4d",
   "metadata": {},
   "outputs": [
    {
     "data": {
      "text/html": [
       "<div>\n",
       "<style scoped>\n",
       "    .dataframe tbody tr th:only-of-type {\n",
       "        vertical-align: middle;\n",
       "    }\n",
       "\n",
       "    .dataframe tbody tr th {\n",
       "        vertical-align: top;\n",
       "    }\n",
       "\n",
       "    .dataframe thead th {\n",
       "        text-align: right;\n",
       "    }\n",
       "</style>\n",
       "<table border=\"1\" class=\"dataframe\">\n",
       "  <thead>\n",
       "    <tr style=\"text-align: right;\">\n",
       "      <th></th>\n",
       "      <th>index</th>\n",
       "      <th>device_name</th>\n",
       "    </tr>\n",
       "  </thead>\n",
       "  <tbody>\n",
       "    <tr>\n",
       "      <th>0</th>\n",
       "      <td>0</td>\n",
       "      <td>Xiaomi Redmi 6</td>\n",
       "    </tr>\n",
       "    <tr>\n",
       "      <th>1</th>\n",
       "      <td>1</td>\n",
       "      <td>Samsung SM-G965F</td>\n",
       "    </tr>\n",
       "    <tr>\n",
       "      <th>2</th>\n",
       "      <td>2</td>\n",
       "      <td>Samsung SM-A530F</td>\n",
       "    </tr>\n",
       "    <tr>\n",
       "      <th>3</th>\n",
       "      <td>3</td>\n",
       "      <td>TECNO-Y6</td>\n",
       "    </tr>\n",
       "    <tr>\n",
       "      <th>4</th>\n",
       "      <td>4</td>\n",
       "      <td>Itel W5504</td>\n",
       "    </tr>\n",
       "    <tr>\n",
       "      <th>...</th>\n",
       "      <td>...</td>\n",
       "      <td>...</td>\n",
       "    </tr>\n",
       "    <tr>\n",
       "      <th>4938</th>\n",
       "      <td>4938</td>\n",
       "      <td>HUAWEI LYA-L29</td>\n",
       "    </tr>\n",
       "    <tr>\n",
       "      <th>4939</th>\n",
       "      <td>4939</td>\n",
       "      <td>Samsung SM-G928F</td>\n",
       "    </tr>\n",
       "    <tr>\n",
       "      <th>4940</th>\n",
       "      <td>4940</td>\n",
       "      <td>HUAWEI AMN-LX9</td>\n",
       "    </tr>\n",
       "    <tr>\n",
       "      <th>4941</th>\n",
       "      <td>4941</td>\n",
       "      <td>TP-Link Neffos X1</td>\n",
       "    </tr>\n",
       "    <tr>\n",
       "      <th>4942</th>\n",
       "      <td>4942</td>\n",
       "      <td>Samsung SM-A260F</td>\n",
       "    </tr>\n",
       "  </tbody>\n",
       "</table>\n",
       "<p>4943 rows × 2 columns</p>\n",
       "</div>"
      ],
      "text/plain": [
       "      index        device_name\n",
       "0         0     Xiaomi Redmi 6\n",
       "1         1   Samsung SM-G965F\n",
       "2         2   Samsung SM-A530F\n",
       "3         3           TECNO-Y6\n",
       "4         4         Itel W5504\n",
       "...     ...                ...\n",
       "4938   4938     HUAWEI LYA-L29\n",
       "4939   4939   Samsung SM-G928F\n",
       "4940   4940     HUAWEI AMN-LX9\n",
       "4941   4941  TP-Link Neffos X1\n",
       "4942   4942   Samsung SM-A260F\n",
       "\n",
       "[4943 rows x 2 columns]"
      ]
     },
     "execution_count": 64,
     "metadata": {},
     "output_type": "execute_result"
    }
   ],
   "source": [
    "df['device_name'].reset_index()"
   ]
  },
  {
   "cell_type": "code",
   "execution_count": 65,
   "id": "6f896bea-963c-435c-9be5-c6cd27534f2b",
   "metadata": {},
   "outputs": [
    {
     "data": {
      "text/html": [
       "<div>\n",
       "<style scoped>\n",
       "    .dataframe tbody tr th:only-of-type {\n",
       "        vertical-align: middle;\n",
       "    }\n",
       "\n",
       "    .dataframe tbody tr th {\n",
       "        vertical-align: top;\n",
       "    }\n",
       "\n",
       "    .dataframe thead th {\n",
       "        text-align: right;\n",
       "    }\n",
       "</style>\n",
       "<table border=\"1\" class=\"dataframe\">\n",
       "  <thead>\n",
       "    <tr style=\"text-align: right;\">\n",
       "      <th></th>\n",
       "      <th>count</th>\n",
       "      <th>mean</th>\n",
       "    </tr>\n",
       "    <tr>\n",
       "      <th>device_name</th>\n",
       "      <th></th>\n",
       "      <th></th>\n",
       "    </tr>\n",
       "  </thead>\n",
       "  <tbody>\n",
       "    <tr>\n",
       "      <th>Alps F9 Pro</th>\n",
       "      <td>10</td>\n",
       "      <td>0.000000</td>\n",
       "    </tr>\n",
       "    <tr>\n",
       "      <th>Alps NODROPOUT T25</th>\n",
       "      <td>1</td>\n",
       "      <td>0.000000</td>\n",
       "    </tr>\n",
       "    <tr>\n",
       "      <th>Alps TECNO B1p</th>\n",
       "      <td>1</td>\n",
       "      <td>0.000000</td>\n",
       "    </tr>\n",
       "    <tr>\n",
       "      <th>Asus ASUS_A002</th>\n",
       "      <td>5</td>\n",
       "      <td>0.000000</td>\n",
       "    </tr>\n",
       "    <tr>\n",
       "      <th>Asus ASUS_X00TD</th>\n",
       "      <td>3</td>\n",
       "      <td>0.000000</td>\n",
       "    </tr>\n",
       "    <tr>\n",
       "      <th>...</th>\n",
       "      <td>...</td>\n",
       "      <td>...</td>\n",
       "    </tr>\n",
       "    <tr>\n",
       "      <th>iPhone8,1</th>\n",
       "      <td>91</td>\n",
       "      <td>0.010989</td>\n",
       "    </tr>\n",
       "    <tr>\n",
       "      <th>iPhone8,2</th>\n",
       "      <td>18</td>\n",
       "      <td>0.000000</td>\n",
       "    </tr>\n",
       "    <tr>\n",
       "      <th>iPhone8,4</th>\n",
       "      <td>35</td>\n",
       "      <td>0.000000</td>\n",
       "    </tr>\n",
       "    <tr>\n",
       "      <th>iPhone9,3</th>\n",
       "      <td>62</td>\n",
       "      <td>0.000000</td>\n",
       "    </tr>\n",
       "    <tr>\n",
       "      <th>iPhone9,4</th>\n",
       "      <td>16</td>\n",
       "      <td>0.000000</td>\n",
       "    </tr>\n",
       "  </tbody>\n",
       "</table>\n",
       "<p>497 rows × 2 columns</p>\n",
       "</div>"
      ],
      "text/plain": [
       "                    count      mean\n",
       "device_name                        \n",
       "Alps F9 Pro            10  0.000000\n",
       "Alps NODROPOUT T25      1  0.000000\n",
       "Alps TECNO B1p          1  0.000000\n",
       "Asus ASUS_A002          5  0.000000\n",
       "Asus ASUS_X00TD         3  0.000000\n",
       "...                   ...       ...\n",
       "iPhone8,1              91  0.010989\n",
       "iPhone8,2              18  0.000000\n",
       "iPhone8,4              35  0.000000\n",
       "iPhone9,3              62  0.000000\n",
       "iPhone9,4              16  0.000000\n",
       "\n",
       "[497 rows x 2 columns]"
      ]
     },
     "execution_count": 65,
     "metadata": {},
     "output_type": "execute_result"
    }
   ],
   "source": [
    "df.groupby('device_name')['overpaid_ride_ticket'].agg(['count','mean'])"
   ]
  },
  {
   "cell_type": "code",
   "execution_count": 66,
   "id": "6b75b9da-081e-4bd6-ad37-c55ca8f2efa8",
   "metadata": {},
   "outputs": [],
   "source": [
    "t = df.groupby('device_name')['overpaid_ride_ticket'].agg(['count','mean'])"
   ]
  },
  {
   "cell_type": "code",
   "execution_count": 67,
   "id": "5779105f-c555-4504-a373-3fe4df3bf422",
   "metadata": {},
   "outputs": [
    {
     "data": {
      "text/html": [
       "<div>\n",
       "<style scoped>\n",
       "    .dataframe tbody tr th:only-of-type {\n",
       "        vertical-align: middle;\n",
       "    }\n",
       "\n",
       "    .dataframe tbody tr th {\n",
       "        vertical-align: top;\n",
       "    }\n",
       "\n",
       "    .dataframe thead th {\n",
       "        text-align: right;\n",
       "    }\n",
       "</style>\n",
       "<table border=\"1\" class=\"dataframe\">\n",
       "  <thead>\n",
       "    <tr style=\"text-align: right;\">\n",
       "      <th></th>\n",
       "      <th>count</th>\n",
       "      <th>mean</th>\n",
       "    </tr>\n",
       "    <tr>\n",
       "      <th>device_name</th>\n",
       "      <th></th>\n",
       "      <th></th>\n",
       "    </tr>\n",
       "  </thead>\n",
       "  <tbody>\n",
       "    <tr>\n",
       "      <th>TECNO MOBILE LIMITED TECNO B1p</th>\n",
       "      <td>108</td>\n",
       "      <td>0.259259</td>\n",
       "    </tr>\n",
       "    <tr>\n",
       "      <th>HMD Global Nokia 2.2</th>\n",
       "      <td>98</td>\n",
       "      <td>0.040816</td>\n",
       "    </tr>\n",
       "    <tr>\n",
       "      <th>iPhone8,1</th>\n",
       "      <td>91</td>\n",
       "      <td>0.010989</td>\n",
       "    </tr>\n",
       "    <tr>\n",
       "      <th>TECNO F3</th>\n",
       "      <td>86</td>\n",
       "      <td>0.151163</td>\n",
       "    </tr>\n",
       "    <tr>\n",
       "      <th>HUAWEI MAR-LX1A</th>\n",
       "      <td>73</td>\n",
       "      <td>0.000000</td>\n",
       "    </tr>\n",
       "    <tr>\n",
       "      <th>...</th>\n",
       "      <td>...</td>\n",
       "      <td>...</td>\n",
       "    </tr>\n",
       "    <tr>\n",
       "      <th>Samsung SM-J100H</th>\n",
       "      <td>1</td>\n",
       "      <td>0.000000</td>\n",
       "    </tr>\n",
       "    <tr>\n",
       "      <th>Fero A5000</th>\n",
       "      <td>1</td>\n",
       "      <td>0.000000</td>\n",
       "    </tr>\n",
       "    <tr>\n",
       "      <th>Samsung SM-J110H</th>\n",
       "      <td>1</td>\n",
       "      <td>0.000000</td>\n",
       "    </tr>\n",
       "    <tr>\n",
       "      <th>Samsung SM-J120FN</th>\n",
       "      <td>1</td>\n",
       "      <td>0.000000</td>\n",
       "    </tr>\n",
       "    <tr>\n",
       "      <th>LGE LG-K420</th>\n",
       "      <td>1</td>\n",
       "      <td>0.000000</td>\n",
       "    </tr>\n",
       "  </tbody>\n",
       "</table>\n",
       "<p>497 rows × 2 columns</p>\n",
       "</div>"
      ],
      "text/plain": [
       "                                count      mean\n",
       "device_name                                    \n",
       "TECNO MOBILE LIMITED TECNO B1p    108  0.259259\n",
       "HMD Global Nokia 2.2               98  0.040816\n",
       "iPhone8,1                          91  0.010989\n",
       "TECNO F3                           86  0.151163\n",
       "HUAWEI MAR-LX1A                    73  0.000000\n",
       "...                               ...       ...\n",
       "Samsung SM-J100H                    1  0.000000\n",
       "Fero A5000                          1  0.000000\n",
       "Samsung SM-J110H                    1  0.000000\n",
       "Samsung SM-J120FN                   1  0.000000\n",
       "LGE LG-K420                         1  0.000000\n",
       "\n",
       "[497 rows x 2 columns]"
      ]
     },
     "execution_count": 67,
     "metadata": {},
     "output_type": "execute_result"
    }
   ],
   "source": [
    "t.sort_values('count',ascending=False)"
   ]
  },
  {
   "cell_type": "markdown",
   "id": "a5952568-a9cc-4949-97b5-6ad733fc187e",
   "metadata": {},
   "source": [
    "*pay attention TECNO* "
   ]
  },
  {
   "cell_type": "code",
   "execution_count": 68,
   "id": "b8e4920e-df79-4f9e-8cda-a21247764dde",
   "metadata": {},
   "outputs": [],
   "source": [
    "def device_cat(device_name):\n",
    "  if 'tecno' in device_name.lower():\n",
    "    return 'tecno'\n",
    "  if 'iphone' in device_name.lower():\n",
    "    return 'iphone'\n",
    "  if 'lg' in device_name.lower():\n",
    "    return 'lg'\n",
    "  if 'samsung' in device_name.lower():\n",
    "    return 'samsung'\n",
    "  if 'htc' in device_name.lower():\n",
    "    return 'htc'\n",
    "  if 'nokia' in device_name.lower():\n",
    "    return 'nokia'\n",
    "  if 'xiaomi'in device_name.lower():\n",
    "    return 'xiaomi'\n",
    "  if 'HUAWEI'.lower() in device_name.lower():\n",
    "    return 'HUAWEI'.lower()\n",
    "  return 'misc'"
   ]
  },
  {
   "cell_type": "code",
   "execution_count": 69,
   "id": "6d9bbf3a-6fd9-497d-84fc-93b70a7f43b7",
   "metadata": {},
   "outputs": [],
   "source": [
    "df['device_group'] = df['device_name'].apply(device_cat)"
   ]
  },
  {
   "cell_type": "code",
   "execution_count": 70,
   "id": "f3ddfaf1-14f0-4b09-9f9e-9455e2308d25",
   "metadata": {},
   "outputs": [
    {
     "data": {
      "text/html": [
       "<div>\n",
       "<style scoped>\n",
       "    .dataframe tbody tr th:only-of-type {\n",
       "        vertical-align: middle;\n",
       "    }\n",
       "\n",
       "    .dataframe tbody tr th {\n",
       "        vertical-align: top;\n",
       "    }\n",
       "\n",
       "    .dataframe thead th {\n",
       "        text-align: right;\n",
       "    }\n",
       "</style>\n",
       "<table border=\"1\" class=\"dataframe\">\n",
       "  <thead>\n",
       "    <tr style=\"text-align: right;\">\n",
       "      <th></th>\n",
       "      <th>count</th>\n",
       "      <th>mean</th>\n",
       "    </tr>\n",
       "    <tr>\n",
       "      <th>device_group</th>\n",
       "      <th></th>\n",
       "      <th></th>\n",
       "    </tr>\n",
       "  </thead>\n",
       "  <tbody>\n",
       "    <tr>\n",
       "      <th>htc</th>\n",
       "      <td>16</td>\n",
       "      <td>0.312500</td>\n",
       "    </tr>\n",
       "    <tr>\n",
       "      <th>tecno</th>\n",
       "      <td>933</td>\n",
       "      <td>0.167203</td>\n",
       "    </tr>\n",
       "    <tr>\n",
       "      <th>nokia</th>\n",
       "      <td>158</td>\n",
       "      <td>0.113924</td>\n",
       "    </tr>\n",
       "    <tr>\n",
       "      <th>misc</th>\n",
       "      <td>703</td>\n",
       "      <td>0.095306</td>\n",
       "    </tr>\n",
       "    <tr>\n",
       "      <th>samsung</th>\n",
       "      <td>1683</td>\n",
       "      <td>0.038622</td>\n",
       "    </tr>\n",
       "    <tr>\n",
       "      <th>iphone</th>\n",
       "      <td>426</td>\n",
       "      <td>0.021127</td>\n",
       "    </tr>\n",
       "    <tr>\n",
       "      <th>huawei</th>\n",
       "      <td>724</td>\n",
       "      <td>0.019337</td>\n",
       "    </tr>\n",
       "    <tr>\n",
       "      <th>xiaomi</th>\n",
       "      <td>261</td>\n",
       "      <td>0.011494</td>\n",
       "    </tr>\n",
       "    <tr>\n",
       "      <th>lg</th>\n",
       "      <td>39</td>\n",
       "      <td>0.000000</td>\n",
       "    </tr>\n",
       "  </tbody>\n",
       "</table>\n",
       "</div>"
      ],
      "text/plain": [
       "              count      mean\n",
       "device_group                 \n",
       "htc              16  0.312500\n",
       "tecno           933  0.167203\n",
       "nokia           158  0.113924\n",
       "misc            703  0.095306\n",
       "samsung        1683  0.038622\n",
       "iphone          426  0.021127\n",
       "huawei          724  0.019337\n",
       "xiaomi          261  0.011494\n",
       "lg               39  0.000000"
      ]
     },
     "execution_count": 70,
     "metadata": {},
     "output_type": "execute_result"
    }
   ],
   "source": [
    "df.groupby('device_group')['overpaid_ride_ticket'].agg(['count','mean']).sort_values('mean',ascending=False)"
   ]
  },
  {
   "cell_type": "code",
   "execution_count": 73,
   "id": "52a226f2-3238-4283-a373-d90a34809020",
   "metadata": {},
   "outputs": [
    {
     "data": {
      "text/html": [
       "<style type=\"text/css\">\n",
       "#T_2b11b_row0_col1, #T_2b11b_row1_col1 {\n",
       "  background-color: red;\n",
       "}\n",
       "#T_2b11b_row1_col0, #T_2b11b_row3_col0, #T_2b11b_row4_col0, #T_2b11b_row5_col0, #T_2b11b_row6_col0 {\n",
       "  background-color: blue;\n",
       "}\n",
       "#T_2b11b_row2_col1, #T_2b11b_row3_col1 {\n",
       "  background-color: orange;\n",
       "}\n",
       "#T_2b11b_row4_col1, #T_2b11b_row5_col1, #T_2b11b_row6_col1, #T_2b11b_row7_col1, #T_2b11b_row8_col1 {\n",
       "  background-color: green;\n",
       "}\n",
       "</style>\n",
       "<table id=\"T_2b11b\">\n",
       "  <thead>\n",
       "    <tr>\n",
       "      <th class=\"blank level0\" >&nbsp;</th>\n",
       "      <th id=\"T_2b11b_level0_col0\" class=\"col_heading level0 col0\" >count</th>\n",
       "      <th id=\"T_2b11b_level0_col1\" class=\"col_heading level0 col1\" >mean</th>\n",
       "    </tr>\n",
       "    <tr>\n",
       "      <th class=\"index_name level0\" >device_group</th>\n",
       "      <th class=\"blank col0\" >&nbsp;</th>\n",
       "      <th class=\"blank col1\" >&nbsp;</th>\n",
       "    </tr>\n",
       "  </thead>\n",
       "  <tbody>\n",
       "    <tr>\n",
       "      <th id=\"T_2b11b_level0_row0\" class=\"row_heading level0 row0\" >htc</th>\n",
       "      <td id=\"T_2b11b_row0_col0\" class=\"data row0 col0\" >16</td>\n",
       "      <td id=\"T_2b11b_row0_col1\" class=\"data row0 col1\" >31.25%</td>\n",
       "    </tr>\n",
       "    <tr>\n",
       "      <th id=\"T_2b11b_level0_row1\" class=\"row_heading level0 row1\" >tecno</th>\n",
       "      <td id=\"T_2b11b_row1_col0\" class=\"data row1 col0\" >933</td>\n",
       "      <td id=\"T_2b11b_row1_col1\" class=\"data row1 col1\" >16.72%</td>\n",
       "    </tr>\n",
       "    <tr>\n",
       "      <th id=\"T_2b11b_level0_row2\" class=\"row_heading level0 row2\" >nokia</th>\n",
       "      <td id=\"T_2b11b_row2_col0\" class=\"data row2 col0\" >158</td>\n",
       "      <td id=\"T_2b11b_row2_col1\" class=\"data row2 col1\" >11.39%</td>\n",
       "    </tr>\n",
       "    <tr>\n",
       "      <th id=\"T_2b11b_level0_row3\" class=\"row_heading level0 row3\" >misc</th>\n",
       "      <td id=\"T_2b11b_row3_col0\" class=\"data row3 col0\" >703</td>\n",
       "      <td id=\"T_2b11b_row3_col1\" class=\"data row3 col1\" >9.53%</td>\n",
       "    </tr>\n",
       "    <tr>\n",
       "      <th id=\"T_2b11b_level0_row4\" class=\"row_heading level0 row4\" >samsung</th>\n",
       "      <td id=\"T_2b11b_row4_col0\" class=\"data row4 col0\" >1683</td>\n",
       "      <td id=\"T_2b11b_row4_col1\" class=\"data row4 col1\" >3.86%</td>\n",
       "    </tr>\n",
       "    <tr>\n",
       "      <th id=\"T_2b11b_level0_row5\" class=\"row_heading level0 row5\" >iphone</th>\n",
       "      <td id=\"T_2b11b_row5_col0\" class=\"data row5 col0\" >426</td>\n",
       "      <td id=\"T_2b11b_row5_col1\" class=\"data row5 col1\" >2.11%</td>\n",
       "    </tr>\n",
       "    <tr>\n",
       "      <th id=\"T_2b11b_level0_row6\" class=\"row_heading level0 row6\" >huawei</th>\n",
       "      <td id=\"T_2b11b_row6_col0\" class=\"data row6 col0\" >724</td>\n",
       "      <td id=\"T_2b11b_row6_col1\" class=\"data row6 col1\" >1.93%</td>\n",
       "    </tr>\n",
       "    <tr>\n",
       "      <th id=\"T_2b11b_level0_row7\" class=\"row_heading level0 row7\" >xiaomi</th>\n",
       "      <td id=\"T_2b11b_row7_col0\" class=\"data row7 col0\" >261</td>\n",
       "      <td id=\"T_2b11b_row7_col1\" class=\"data row7 col1\" >1.15%</td>\n",
       "    </tr>\n",
       "    <tr>\n",
       "      <th id=\"T_2b11b_level0_row8\" class=\"row_heading level0 row8\" >lg</th>\n",
       "      <td id=\"T_2b11b_row8_col0\" class=\"data row8 col0\" >39</td>\n",
       "      <td id=\"T_2b11b_row8_col1\" class=\"data row8 col1\" >0.00%</td>\n",
       "    </tr>\n",
       "  </tbody>\n",
       "</table>\n"
      ],
      "text/plain": [
       "<pandas.io.formats.style.Styler at 0x7f17714bbaf0>"
      ]
     },
     "execution_count": 73,
     "metadata": {},
     "output_type": "execute_result"
    }
   ],
   "source": [
    "(df.groupby(['device_group'])['overpaid_ride_ticket']\n",
    ".agg(['count', 'mean'])\n",
    ".sort_values('mean',ascending=False)\n",
    ".style\n",
    ".highlight_between(left=.15, right=100, subset='mean', color='red' )\n",
    ".highlight_between(left=.05, right=.15, subset='mean', color='orange' )\n",
    ".highlight_between(left=0, right=.05, subset='mean', color='green' )\n",
    " \n",
    ".highlight_between(left=300, right=3000, subset='count', color='blue' )\n",
    "\n",
    "\n",
    ".format({\n",
    "    'mean': '{:,.2%}'.format,\n",
    "    'count': '{}'.format,\n",
    "\n",
    "})\n",
    ")"
   ]
  },
  {
   "cell_type": "markdown",
   "id": "4f19b331-b785-4f55-9ce5-18b83ed69a05",
   "metadata": {},
   "source": [
    "*Do not use tecno, nokia, htc*"
   ]
  },
  {
   "cell_type": "markdown",
   "id": "34c72b61-67d8-40ce-8f25-e0270e08ee97",
   "metadata": {},
   "source": [
    "## duration Analysis "
   ]
  },
  {
   "cell_type": "code",
   "execution_count": 74,
   "id": "d4242348-d8de-4f88-9f00-cd580bc3ea5d",
   "metadata": {},
   "outputs": [],
   "source": [
    "df['duration_bin'] = pd.qcut(df['duration'], 5)"
   ]
  },
  {
   "cell_type": "code",
   "execution_count": 75,
   "id": "415db970-ad89-4bfc-9f5e-5c80ebd4d475",
   "metadata": {},
   "outputs": [
    {
     "data": {
      "text/html": [
       "<div>\n",
       "<style scoped>\n",
       "    .dataframe tbody tr th:only-of-type {\n",
       "        vertical-align: middle;\n",
       "    }\n",
       "\n",
       "    .dataframe tbody tr th {\n",
       "        vertical-align: top;\n",
       "    }\n",
       "\n",
       "    .dataframe thead th {\n",
       "        text-align: right;\n",
       "    }\n",
       "</style>\n",
       "<table border=\"1\" class=\"dataframe\">\n",
       "  <thead>\n",
       "    <tr style=\"text-align: right;\">\n",
       "      <th></th>\n",
       "      <th>count</th>\n",
       "      <th>mean</th>\n",
       "    </tr>\n",
       "    <tr>\n",
       "      <th>duration_bin</th>\n",
       "      <th></th>\n",
       "      <th></th>\n",
       "    </tr>\n",
       "  </thead>\n",
       "  <tbody>\n",
       "    <tr>\n",
       "      <th>(-0.001, 517.0]</th>\n",
       "      <td>992</td>\n",
       "      <td>0.033266</td>\n",
       "    </tr>\n",
       "    <tr>\n",
       "      <th>(517.0, 863.0]</th>\n",
       "      <td>987</td>\n",
       "      <td>0.030395</td>\n",
       "    </tr>\n",
       "    <tr>\n",
       "      <th>(863.0, 1304.0]</th>\n",
       "      <td>988</td>\n",
       "      <td>0.051619</td>\n",
       "    </tr>\n",
       "    <tr>\n",
       "      <th>(1304.0, 2241.2]</th>\n",
       "      <td>987</td>\n",
       "      <td>0.105370</td>\n",
       "    </tr>\n",
       "    <tr>\n",
       "      <th>(2241.2, 22402.0]</th>\n",
       "      <td>989</td>\n",
       "      <td>0.120324</td>\n",
       "    </tr>\n",
       "  </tbody>\n",
       "</table>\n",
       "</div>"
      ],
      "text/plain": [
       "                   count      mean\n",
       "duration_bin                      \n",
       "(-0.001, 517.0]      992  0.033266\n",
       "(517.0, 863.0]       987  0.030395\n",
       "(863.0, 1304.0]      988  0.051619\n",
       "(1304.0, 2241.2]     987  0.105370\n",
       "(2241.2, 22402.0]    989  0.120324"
      ]
     },
     "execution_count": 75,
     "metadata": {},
     "output_type": "execute_result"
    }
   ],
   "source": [
    "df.groupby('duration_bin')['overpaid_ride_ticket'].agg(['count','mean'])"
   ]
  },
  {
   "cell_type": "code",
   "execution_count": 80,
   "id": "aec2c916-c9a7-4ef4-aedd-f19d65324876",
   "metadata": {},
   "outputs": [
    {
     "data": {
      "text/html": [
       "<style type=\"text/css\">\n",
       "#T_d9ed3_row0_col1, #T_d9ed3_row1_col1 {\n",
       "  background-color: green;\n",
       "}\n",
       "#T_d9ed3_row2_col1 {\n",
       "  background-color: orange;\n",
       "}\n",
       "#T_d9ed3_row3_col1, #T_d9ed3_row4_col1 {\n",
       "  background-color: red;\n",
       "}\n",
       "</style>\n",
       "<table id=\"T_d9ed3\">\n",
       "  <thead>\n",
       "    <tr>\n",
       "      <th class=\"blank level0\" >&nbsp;</th>\n",
       "      <th id=\"T_d9ed3_level0_col0\" class=\"col_heading level0 col0\" >count</th>\n",
       "      <th id=\"T_d9ed3_level0_col1\" class=\"col_heading level0 col1\" >mean</th>\n",
       "    </tr>\n",
       "    <tr>\n",
       "      <th class=\"index_name level0\" >duration_bin</th>\n",
       "      <th class=\"blank col0\" >&nbsp;</th>\n",
       "      <th class=\"blank col1\" >&nbsp;</th>\n",
       "    </tr>\n",
       "  </thead>\n",
       "  <tbody>\n",
       "    <tr>\n",
       "      <th id=\"T_d9ed3_level0_row0\" class=\"row_heading level0 row0\" >(-0.001, 517.0]</th>\n",
       "      <td id=\"T_d9ed3_row0_col0\" class=\"data row0 col0\" >992</td>\n",
       "      <td id=\"T_d9ed3_row0_col1\" class=\"data row0 col1\" >3.33%</td>\n",
       "    </tr>\n",
       "    <tr>\n",
       "      <th id=\"T_d9ed3_level0_row1\" class=\"row_heading level0 row1\" >(517.0, 863.0]</th>\n",
       "      <td id=\"T_d9ed3_row1_col0\" class=\"data row1 col0\" >987</td>\n",
       "      <td id=\"T_d9ed3_row1_col1\" class=\"data row1 col1\" >3.04%</td>\n",
       "    </tr>\n",
       "    <tr>\n",
       "      <th id=\"T_d9ed3_level0_row2\" class=\"row_heading level0 row2\" >(863.0, 1304.0]</th>\n",
       "      <td id=\"T_d9ed3_row2_col0\" class=\"data row2 col0\" >988</td>\n",
       "      <td id=\"T_d9ed3_row2_col1\" class=\"data row2 col1\" >5.16%</td>\n",
       "    </tr>\n",
       "    <tr>\n",
       "      <th id=\"T_d9ed3_level0_row3\" class=\"row_heading level0 row3\" >(1304.0, 2241.2]</th>\n",
       "      <td id=\"T_d9ed3_row3_col0\" class=\"data row3 col0\" >987</td>\n",
       "      <td id=\"T_d9ed3_row3_col1\" class=\"data row3 col1\" >10.54%</td>\n",
       "    </tr>\n",
       "    <tr>\n",
       "      <th id=\"T_d9ed3_level0_row4\" class=\"row_heading level0 row4\" >(2241.2, 22402.0]</th>\n",
       "      <td id=\"T_d9ed3_row4_col0\" class=\"data row4 col0\" >989</td>\n",
       "      <td id=\"T_d9ed3_row4_col1\" class=\"data row4 col1\" >12.03%</td>\n",
       "    </tr>\n",
       "  </tbody>\n",
       "</table>\n"
      ],
      "text/plain": [
       "<pandas.io.formats.style.Styler at 0x7fe864cae680>"
      ]
     },
     "execution_count": 80,
     "metadata": {},
     "output_type": "execute_result"
    }
   ],
   "source": [
    "(df.groupby(['duration_bin'])['overpaid_ride_ticket']\n",
    ".agg(['count', 'mean'])\n",
    ".style\n",
    ".highlight_between(left=.1, right=100, subset='mean', color='red' )\n",
    ".highlight_between(left=.05, right=.1, subset='mean', color='orange' )\n",
    ".highlight_between(left=0, right=.05, subset='mean', color='green' )\n",
    "\n",
    ".format({\n",
    "    'mean': '{:,.2%}'.format,\n",
    "})\n",
    ")"
   ]
  },
  {
   "cell_type": "markdown",
   "id": "7790c0e3-c346-4f3d-83d7-34ad18e0f350",
   "metadata": {},
   "source": [
    "*last two are overpaid*"
   ]
  },
  {
   "cell_type": "markdown",
   "id": "54e135ce-55eb-45d8-aa03-9966613fb5f7",
   "metadata": {},
   "source": [
    "## price Analysis "
   ]
  },
  {
   "cell_type": "code",
   "execution_count": 76,
   "id": "d68ba428-dd49-40e1-9caa-a3c2c2413d28",
   "metadata": {},
   "outputs": [
    {
     "data": {
      "text/plain": [
       "['metered_price',\n",
       " 'upfront_price',\n",
       " 'prediction_price_type',\n",
       " 'metered_price_bin']"
      ]
     },
     "execution_count": 76,
     "metadata": {},
     "output_type": "execute_result"
    }
   ],
   "source": [
    "[col for col in df.columns if 'price' in col]"
   ]
  },
  {
   "cell_type": "code",
   "execution_count": 77,
   "id": "a77a2a7a-5626-4f6a-85c5-62490edd7800",
   "metadata": {},
   "outputs": [],
   "source": [
    "df['distance_err'] = df['distance'] - df['predicted_distance']"
   ]
  },
  {
   "cell_type": "code",
   "execution_count": 78,
   "id": "a7d74aa2-437f-4719-b693-7274cc88d69e",
   "metadata": {},
   "outputs": [],
   "source": [
    "df['duration_err'] = df['duration'] - df['predicted_duration']"
   ]
  },
  {
   "cell_type": "code",
   "execution_count": 79,
   "id": "11228619-8967-4e0b-821e-eb2f34ad1052",
   "metadata": {},
   "outputs": [],
   "source": [
    "df['distance_err_pct'] = np.abs(df['distance_err'])/(df['distance'])\n",
    "df['duration_err_pct'] = np.abs(df['duration_err'])/df['duration']"
   ]
  },
  {
   "cell_type": "code",
   "execution_count": 82,
   "id": "d15945f6-58b8-47cf-ab5c-d8974c68a45b",
   "metadata": {},
   "outputs": [
    {
     "data": {
      "text/html": [
       "<div>\n",
       "<style scoped>\n",
       "    .dataframe tbody tr th:only-of-type {\n",
       "        vertical-align: middle;\n",
       "    }\n",
       "\n",
       "    .dataframe tbody tr th {\n",
       "        vertical-align: top;\n",
       "    }\n",
       "\n",
       "    .dataframe thead th {\n",
       "        text-align: right;\n",
       "    }\n",
       "</style>\n",
       "<table border=\"1\" class=\"dataframe\">\n",
       "  <thead>\n",
       "    <tr style=\"text-align: right;\">\n",
       "      <th></th>\n",
       "      <th>index</th>\n",
       "      <th>distance_err_pct</th>\n",
       "    </tr>\n",
       "  </thead>\n",
       "  <tbody>\n",
       "    <tr>\n",
       "      <th>0</th>\n",
       "      <td>mean</td>\n",
       "      <td>37.434295</td>\n",
       "    </tr>\n",
       "    <tr>\n",
       "      <th>1</th>\n",
       "      <td>median</td>\n",
       "      <td>0.163026</td>\n",
       "    </tr>\n",
       "  </tbody>\n",
       "</table>\n",
       "</div>"
      ],
      "text/plain": [
       "    index  distance_err_pct\n",
       "0    mean         37.434295\n",
       "1  median          0.163026"
      ]
     },
     "execution_count": 82,
     "metadata": {},
     "output_type": "execute_result"
    }
   ],
   "source": [
    "df.replace([np.inf, -np.inf], np.nan)['distance_err_pct'].agg(['mean','median']).reset_index()"
   ]
  },
  {
   "cell_type": "code",
   "execution_count": 86,
   "id": "a73b96b1-a2bf-4cb6-88fe-7d34adeaf636",
   "metadata": {},
   "outputs": [
    {
     "data": {
      "text/html": [
       "<style type=\"text/css\">\n",
       "#T_8acdc_row0_col1 {\n",
       "  background-color: red;\n",
       "}\n",
       "#T_8acdc_row1_col1 {\n",
       "  background-color: green;\n",
       "}\n",
       "</style>\n",
       "<table id=\"T_8acdc\">\n",
       "  <thead>\n",
       "    <tr>\n",
       "      <th class=\"blank level0\" >&nbsp;</th>\n",
       "      <th id=\"T_8acdc_level0_col0\" class=\"col_heading level0 col0\" >index</th>\n",
       "      <th id=\"T_8acdc_level0_col1\" class=\"col_heading level0 col1\" >distance_err_pct</th>\n",
       "    </tr>\n",
       "  </thead>\n",
       "  <tbody>\n",
       "    <tr>\n",
       "      <th id=\"T_8acdc_level0_row0\" class=\"row_heading level0 row0\" >0</th>\n",
       "      <td id=\"T_8acdc_row0_col0\" class=\"data row0 col0\" >mean</td>\n",
       "      <td id=\"T_8acdc_row0_col1\" class=\"data row0 col1\" >3,743.43%</td>\n",
       "    </tr>\n",
       "    <tr>\n",
       "      <th id=\"T_8acdc_level0_row1\" class=\"row_heading level0 row1\" >1</th>\n",
       "      <td id=\"T_8acdc_row1_col0\" class=\"data row1 col0\" >median</td>\n",
       "      <td id=\"T_8acdc_row1_col1\" class=\"data row1 col1\" >16.30%</td>\n",
       "    </tr>\n",
       "  </tbody>\n",
       "</table>\n"
      ],
      "text/plain": [
       "<pandas.io.formats.style.Styler at 0x7f1771527a90>"
      ]
     },
     "execution_count": 86,
     "metadata": {},
     "output_type": "execute_result"
    }
   ],
   "source": [
    "(df.replace([np.inf, -np.inf], np.nan)['distance_err_pct'].agg(['mean','median']).reset_index()\n",
    ".style\n",
    ".highlight_between(left=1, right=10000000, subset='distance_err_pct', color='red' )\n",
    ".highlight_between(left=.1, right=.5, subset='distance_err_pct', color='green' )\n",
    "\n",
    ".format({\n",
    "    'distance_err_pct': '{:,.2%}'.format,\n",
    "})\n",
    ")"
   ]
  },
  {
   "cell_type": "markdown",
   "id": "175578fb-c41d-4a45-ac8b-e15fd48c697b",
   "metadata": {},
   "source": [
    "*distance_err_pct:*\n",
    "- on average 3743% error\n",
    "- on median 16%"
   ]
  },
  {
   "cell_type": "code",
   "execution_count": 90,
   "id": "0d00823a-2c4d-4a2d-960c-e77d2d133245",
   "metadata": {},
   "outputs": [
    {
     "data": {
      "text/plain": [
       "mean      3.195506\n",
       "median    0.279104\n",
       "Name: duration_err_pct, dtype: float64"
      ]
     },
     "execution_count": 90,
     "metadata": {},
     "output_type": "execute_result"
    }
   ],
   "source": [
    "df.replace([np.inf, -np.inf], np.nan)['duration_err_pct'].agg(['mean','median'])"
   ]
  },
  {
   "cell_type": "code",
   "execution_count": 95,
   "id": "be87f109-fb3c-4a7b-9bef-d9db31265200",
   "metadata": {},
   "outputs": [
    {
     "data": {
      "text/html": [
       "<style type=\"text/css\">\n",
       "#T_863d2_row0_col1 {\n",
       "  background-color: red;\n",
       "}\n",
       "#T_863d2_row1_col1 {\n",
       "  background-color: green;\n",
       "}\n",
       "</style>\n",
       "<table id=\"T_863d2\">\n",
       "  <thead>\n",
       "    <tr>\n",
       "      <th class=\"blank level0\" >&nbsp;</th>\n",
       "      <th id=\"T_863d2_level0_col0\" class=\"col_heading level0 col0\" >index</th>\n",
       "      <th id=\"T_863d2_level0_col1\" class=\"col_heading level0 col1\" >duration_err_pct</th>\n",
       "    </tr>\n",
       "  </thead>\n",
       "  <tbody>\n",
       "    <tr>\n",
       "      <th id=\"T_863d2_level0_row0\" class=\"row_heading level0 row0\" >0</th>\n",
       "      <td id=\"T_863d2_row0_col0\" class=\"data row0 col0\" >mean</td>\n",
       "      <td id=\"T_863d2_row0_col1\" class=\"data row0 col1\" >319.55%</td>\n",
       "    </tr>\n",
       "    <tr>\n",
       "      <th id=\"T_863d2_level0_row1\" class=\"row_heading level0 row1\" >1</th>\n",
       "      <td id=\"T_863d2_row1_col0\" class=\"data row1 col0\" >median</td>\n",
       "      <td id=\"T_863d2_row1_col1\" class=\"data row1 col1\" >27.91%</td>\n",
       "    </tr>\n",
       "  </tbody>\n",
       "</table>\n"
      ],
      "text/plain": [
       "<pandas.io.formats.style.Styler at 0x7f1770f6aec0>"
      ]
     },
     "execution_count": 95,
     "metadata": {},
     "output_type": "execute_result"
    }
   ],
   "source": [
    "(df.replace([np.inf, -np.inf], np.nan)['duration_err_pct']\n",
    " .agg(['mean','median'])\n",
    " .reset_index()\n",
    " .style\n",
    " \n",
    " .highlight_between(left=1, right=10000000, subset='duration_err_pct', color='red' )\n",
    " .highlight_between(left=.1, right=.5, subset='duration_err_pct', color='green' )\n",
    "\n",
    ".format({\n",
    "    'duration_err_pct': '{:,.2%}'.format,\n",
    "})\n",
    ")"
   ]
  },
  {
   "cell_type": "markdown",
   "id": "4ddc349c-65a8-4c2f-b7f2-757e79fc5559",
   "metadata": {},
   "source": [
    "3000 % ошибка и медиана 27%\n",
    "*duration_err_pct:*\n",
    "- on average 319% error\n",
    "- on median 27%"
   ]
  },
  {
   "cell_type": "code",
   "execution_count": 96,
   "id": "eba4f412-8071-4397-8661-678d671f89ea",
   "metadata": {},
   "outputs": [
    {
     "data": {
      "text/plain": [
       "<AxesSubplot: >"
      ]
     },
     "execution_count": 96,
     "metadata": {},
     "output_type": "execute_result"
    },
    {
     "data": {
      "image/png": "[encoded data removed]",
      "text/plain": [
       "<Figure size 640x480 with 1 Axes>"
      ]
     },
     "metadata": {},
     "output_type": "display_data"
    }
   ],
   "source": [
    "df.replace([np.inf, -np.inf], np.nan)['distance_err_pct'].hist()"
   ]
  },
  {
   "cell_type": "code",
   "execution_count": 97,
   "id": "97df745d-051d-4d18-9395-eb9eb353ec68",
   "metadata": {},
   "outputs": [
    {
     "data": {
      "text/plain": [
       "<AxesSubplot: >"
      ]
     },
     "execution_count": 97,
     "metadata": {},
     "output_type": "execute_result"
    },
    {
     "data": {
      "image/png": "[encoded data removed]",
      "text/plain": [
       "<Figure size 640x480 with 1 Axes>"
      ]
     },
     "metadata": {},
     "output_type": "display_data"
    }
   ],
   "source": [
    "df.replace([np.inf, -np.inf], np.nan)['duration_err_pct'].hist()"
   ]
  },
  {
   "cell_type": "code",
   "execution_count": 98,
   "id": "7583eca0-f974-4e06-9b93-ecb31664f63e",
   "metadata": {},
   "outputs": [
    {
     "data": {
      "text/plain": [
       "<AxesSubplot: >"
      ]
     },
     "execution_count": 98,
     "metadata": {},
     "output_type": "execute_result"
    },
    {
     "data": {
      "image/png": "[encoded data removed]",
      "text/plain": [
       "<Figure size 640x480 with 1 Axes>"
      ]
     },
     "metadata": {},
     "output_type": "display_data"
    }
   ],
   "source": [
    "df.replace([np.inf, -np.inf], np.nan)['distance_err'].hist()"
   ]
  },
  {
   "cell_type": "markdown",
   "id": "8e161adc-935b-422f-a145-b613716700d4",
   "metadata": {},
   "source": [
    "выброс в минус большой"
   ]
  },
  {
   "cell_type": "code",
   "execution_count": 99,
   "id": "e4194719-e57b-477b-81e6-999db23f7a5f",
   "metadata": {},
   "outputs": [
    {
     "data": {
      "text/plain": [
       "<AxesSubplot: >"
      ]
     },
     "execution_count": 99,
     "metadata": {},
     "output_type": "execute_result"
    },
    {
     "data": {
      "image/png": "[encoded data removed]",
      "text/plain": [
       "<Figure size 640x480 with 1 Axes>"
      ]
     },
     "metadata": {},
     "output_type": "display_data"
    }
   ],
   "source": [
    "df.replace([np.inf, -np.inf], np.nan)['duration_err'].hist()"
   ]
  },
  {
   "cell_type": "code",
   "execution_count": 100,
   "id": "0ac7523b-17da-4680-a1bb-8d77c993e13b",
   "metadata": {},
   "outputs": [],
   "source": [
    "df['distance_err_bin'] = pd.qcut(df['distance_err'],5)"
   ]
  },
  {
   "cell_type": "code",
   "execution_count": 101,
   "id": "64ff934b-2c04-4d32-a0d3-0fca2c818be0",
   "metadata": {},
   "outputs": [
    {
     "data": {
      "text/html": [
       "<div>\n",
       "<style scoped>\n",
       "    .dataframe tbody tr th:only-of-type {\n",
       "        vertical-align: middle;\n",
       "    }\n",
       "\n",
       "    .dataframe tbody tr th {\n",
       "        vertical-align: top;\n",
       "    }\n",
       "\n",
       "    .dataframe thead tr th {\n",
       "        text-align: left;\n",
       "    }\n",
       "\n",
       "    .dataframe thead tr:last-of-type th {\n",
       "        text-align: right;\n",
       "    }\n",
       "</style>\n",
       "<table border=\"1\" class=\"dataframe\">\n",
       "  <thead>\n",
       "    <tr>\n",
       "      <th></th>\n",
       "      <th colspan=\"2\" halign=\"left\">overpaid_ride_ticket</th>\n",
       "      <th colspan=\"2\" halign=\"left\">upfront_price</th>\n",
       "      <th colspan=\"2\" halign=\"left\">metered_price</th>\n",
       "    </tr>\n",
       "    <tr>\n",
       "      <th></th>\n",
       "      <th>count</th>\n",
       "      <th>mean</th>\n",
       "      <th>count</th>\n",
       "      <th>mean</th>\n",
       "      <th>count</th>\n",
       "      <th>mean</th>\n",
       "    </tr>\n",
       "    <tr>\n",
       "      <th>distance_err_bin</th>\n",
       "      <th></th>\n",
       "      <th></th>\n",
       "      <th></th>\n",
       "      <th></th>\n",
       "      <th></th>\n",
       "      <th></th>\n",
       "    </tr>\n",
       "  </thead>\n",
       "  <tbody>\n",
       "    <tr>\n",
       "      <th>(-341860.001, -754.8]</th>\n",
       "      <td>985</td>\n",
       "      <td>0.072081</td>\n",
       "      <td>622</td>\n",
       "      <td>9338.362058</td>\n",
       "      <td>985</td>\n",
       "      <td>6481.735442</td>\n",
       "    </tr>\n",
       "    <tr>\n",
       "      <th>(-754.8, 0.0]</th>\n",
       "      <td>1007</td>\n",
       "      <td>0.065541</td>\n",
       "      <td>693</td>\n",
       "      <td>2072.340693</td>\n",
       "      <td>1007</td>\n",
       "      <td>5745.271192</td>\n",
       "    </tr>\n",
       "    <tr>\n",
       "      <th>(0.0, 581.4]</th>\n",
       "      <td>962</td>\n",
       "      <td>0.028067</td>\n",
       "      <td>784</td>\n",
       "      <td>1255.807270</td>\n",
       "      <td>962</td>\n",
       "      <td>3210.857422</td>\n",
       "    </tr>\n",
       "    <tr>\n",
       "      <th>(581.4, 2466.0]</th>\n",
       "      <td>984</td>\n",
       "      <td>0.033537</td>\n",
       "      <td>743</td>\n",
       "      <td>2696.943607</td>\n",
       "      <td>984</td>\n",
       "      <td>5552.151494</td>\n",
       "    </tr>\n",
       "    <tr>\n",
       "      <th>(2466.0, 112012.0]</th>\n",
       "      <td>985</td>\n",
       "      <td>0.142132</td>\n",
       "      <td>567</td>\n",
       "      <td>6964.358201</td>\n",
       "      <td>985</td>\n",
       "      <td>18938.390640</td>\n",
       "    </tr>\n",
       "  </tbody>\n",
       "</table>\n",
       "</div>"
      ],
      "text/plain": [
       "                      overpaid_ride_ticket           upfront_price  \\\n",
       "                                     count      mean         count   \n",
       "distance_err_bin                                                     \n",
       "(-341860.001, -754.8]                  985  0.072081           622   \n",
       "(-754.8, 0.0]                         1007  0.065541           693   \n",
       "(0.0, 581.4]                           962  0.028067           784   \n",
       "(581.4, 2466.0]                        984  0.033537           743   \n",
       "(2466.0, 112012.0]                     985  0.142132           567   \n",
       "\n",
       "                                   metered_price                \n",
       "                              mean         count          mean  \n",
       "distance_err_bin                                                \n",
       "(-341860.001, -754.8]  9338.362058           985   6481.735442  \n",
       "(-754.8, 0.0]          2072.340693          1007   5745.271192  \n",
       "(0.0, 581.4]           1255.807270           962   3210.857422  \n",
       "(581.4, 2466.0]        2696.943607           984   5552.151494  \n",
       "(2466.0, 112012.0]     6964.358201           985  18938.390640  "
      ]
     },
     "execution_count": 101,
     "metadata": {},
     "output_type": "execute_result"
    }
   ],
   "source": [
    "(df.groupby('distance_err_bin')\n",
    " [['overpaid_ride_ticket','upfront_price','metered_price']]\n",
    " .agg(['count','mean']))"
   ]
  },
  {
   "cell_type": "markdown",
   "id": "52ee2ee3-282f-4a40-a2ec-7500bd20f1c1",
   "metadata": {},
   "source": [
    "*upfront_price (6964.358201) and the prediction is three times more expensive then metered_price (18938.390640)*"
   ]
  },
  {
   "cell_type": "code",
   "execution_count": 102,
   "id": "caa4d3ab-49af-498e-9071-4be387d0f881",
   "metadata": {},
   "outputs": [],
   "source": [
    "df['duration_err_bin'] = pd.qcut(df['duration_err'],5)"
   ]
  },
  {
   "cell_type": "code",
   "execution_count": 103,
   "id": "6449a461-6e8a-4f3b-8ebd-60d2ea7c2d31",
   "metadata": {},
   "outputs": [
    {
     "data": {
      "text/html": [
       "<div>\n",
       "<style scoped>\n",
       "    .dataframe tbody tr th:only-of-type {\n",
       "        vertical-align: middle;\n",
       "    }\n",
       "\n",
       "    .dataframe tbody tr th {\n",
       "        vertical-align: top;\n",
       "    }\n",
       "\n",
       "    .dataframe thead tr th {\n",
       "        text-align: left;\n",
       "    }\n",
       "\n",
       "    .dataframe thead tr:last-of-type th {\n",
       "        text-align: right;\n",
       "    }\n",
       "</style>\n",
       "<table border=\"1\" class=\"dataframe\">\n",
       "  <thead>\n",
       "    <tr>\n",
       "      <th></th>\n",
       "      <th colspan=\"2\" halign=\"left\">overpaid_ride_ticket</th>\n",
       "      <th colspan=\"2\" halign=\"left\">upfront_price</th>\n",
       "      <th colspan=\"2\" halign=\"left\">metered_price</th>\n",
       "    </tr>\n",
       "    <tr>\n",
       "      <th></th>\n",
       "      <th>count</th>\n",
       "      <th>mean</th>\n",
       "      <th>count</th>\n",
       "      <th>mean</th>\n",
       "      <th>count</th>\n",
       "      <th>mean</th>\n",
       "    </tr>\n",
       "    <tr>\n",
       "      <th>duration_err_bin</th>\n",
       "      <th></th>\n",
       "      <th></th>\n",
       "      <th></th>\n",
       "      <th></th>\n",
       "      <th></th>\n",
       "      <th></th>\n",
       "    </tr>\n",
       "  </thead>\n",
       "  <tbody>\n",
       "    <tr>\n",
       "      <th>(-20081.001, -122.0]</th>\n",
       "      <td>986</td>\n",
       "      <td>0.070994</td>\n",
       "      <td>729</td>\n",
       "      <td>7674.807545</td>\n",
       "      <td>986</td>\n",
       "      <td>6989.042434</td>\n",
       "    </tr>\n",
       "    <tr>\n",
       "      <th>(-122.0, 34.0]</th>\n",
       "      <td>988</td>\n",
       "      <td>0.033401</td>\n",
       "      <td>880</td>\n",
       "      <td>780.946477</td>\n",
       "      <td>988</td>\n",
       "      <td>1707.660152</td>\n",
       "    </tr>\n",
       "    <tr>\n",
       "      <th>(34.0, 257.0]</th>\n",
       "      <td>982</td>\n",
       "      <td>0.027495</td>\n",
       "      <td>787</td>\n",
       "      <td>1541.834180</td>\n",
       "      <td>982</td>\n",
       "      <td>3134.069287</td>\n",
       "    </tr>\n",
       "    <tr>\n",
       "      <th>(257.0, 845.0]</th>\n",
       "      <td>983</td>\n",
       "      <td>0.090539</td>\n",
       "      <td>624</td>\n",
       "      <td>3527.216026</td>\n",
       "      <td>983</td>\n",
       "      <td>8091.943194</td>\n",
       "    </tr>\n",
       "    <tr>\n",
       "      <th>(845.0, 18086.0]</th>\n",
       "      <td>984</td>\n",
       "      <td>0.119919</td>\n",
       "      <td>389</td>\n",
       "      <td>11530.057841</td>\n",
       "      <td>984</td>\n",
       "      <td>20087.473496</td>\n",
       "    </tr>\n",
       "  </tbody>\n",
       "</table>\n",
       "</div>"
      ],
      "text/plain": [
       "                     overpaid_ride_ticket           upfront_price  \\\n",
       "                                    count      mean         count   \n",
       "duration_err_bin                                                    \n",
       "(-20081.001, -122.0]                  986  0.070994           729   \n",
       "(-122.0, 34.0]                        988  0.033401           880   \n",
       "(34.0, 257.0]                         982  0.027495           787   \n",
       "(257.0, 845.0]                        983  0.090539           624   \n",
       "(845.0, 18086.0]                      984  0.119919           389   \n",
       "\n",
       "                                   metered_price                \n",
       "                              mean         count          mean  \n",
       "duration_err_bin                                                \n",
       "(-20081.001, -122.0]   7674.807545           986   6989.042434  \n",
       "(-122.0, 34.0]          780.946477           988   1707.660152  \n",
       "(34.0, 257.0]          1541.834180           982   3134.069287  \n",
       "(257.0, 845.0]         3527.216026           983   8091.943194  \n",
       "(845.0, 18086.0]      11530.057841           984  20087.473496  "
      ]
     },
     "execution_count": 103,
     "metadata": {},
     "output_type": "execute_result"
    }
   ],
   "source": [
    "(df.groupby('duration_err_bin')\n",
    " [['overpaid_ride_ticket','upfront_price','metered_price']]\n",
    " .agg(['count','mean']))"
   ]
  },
  {
   "cell_type": "markdown",
   "id": "b792504f-fc81-4735-bc6a-26fd15ac38ab",
   "metadata": {},
   "source": [
    "*the price was predicted to be small, but it turned out to be high*"
   ]
  },
  {
   "cell_type": "markdown",
   "id": "d677a4f8-c169-42aa-a71e-7a4eacc09986",
   "metadata": {},
   "source": [
    "*overpaid can be on small trips as well as on large ones*"
   ]
  },
  {
   "cell_type": "code",
   "execution_count": null,
   "id": "e86dd795-691c-48b9-b82a-688a32b23f1a",
   "metadata": {},
   "outputs": [],
   "source": []
  },
  {
   "cell_type": "markdown",
   "id": "04c1ace1-f90e-483b-bd94-33ea8f647a83",
   "metadata": {},
   "source": [
    "# Conclusion:"
   ]
  },
  {
   "cell_type": "code",
   "execution_count": null,
   "id": "340f53a4-0a76-44ac-9acd-7a8f3743dd0f",
   "metadata": {},
   "outputs": [],
   "source": []
  },
  {
   "cell_type": "code",
   "execution_count": null,
   "id": "9b7d5ea3-b6c6-404f-81c0-9a89b1e853ae",
   "metadata": {},
   "outputs": [],
   "source": []
  },
  {
   "cell_type": "code",
   "execution_count": null,
   "id": "c75a04b8-2027-4cd3-9e7e-dc37f0cf9c4a",
   "metadata": {},
   "outputs": [],
   "source": []
  }
 ],
 "metadata": {
  "kernelspec": {
   "display_name": "Python 3 (ipykernel)",
   "language": "python",
   "name": "python3"
  },
  "language_info": {
   "codemirror_mode": {
    "name": "ipython",
    "version": 3
   },
   "file_extension": ".py",
   "mimetype": "text/x-python",
   "name": "python",
   "nbconvert_exporter": "python",
   "pygments_lexer": "ipython3",
   "version": "3.10.9"
  },
  "toc-autonumbering": false,
  "toc-showcode": false,
  "toc-showmarkdowntxt": false
 },
 "nbformat": 4,
 "nbformat_minor": 5
}
