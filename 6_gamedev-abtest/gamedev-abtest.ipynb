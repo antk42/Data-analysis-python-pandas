{
 "cells": [
  {
   "cell_type": "markdown",
   "id": "bbe616b4-5af0-4668-80ea-e77cf82848af",
   "metadata": {
    "tags": []
   },
   "source": [
    "# Introducing:"
   ]
  },
  {
   "cell_type": "markdown",
   "id": "8d0666d1-9e64-4d38-9029-1faed22c8ced",
   "metadata": {
    "jp-MarkdownHeadingCollapsed": true,
    "tags": []
   },
   "source": [
    "## Context:\n",
    "\n",
    "Игра содержит особое событие – ивент, для прохождения которого пользователи могут тратить деньги. Группа дизайнеров решила поменять вид окошка покупки ивентовых продуктов. Чтобы оценить результат нововведения, провели АБ тест, разделив пользователей на две группы: контрольную и тестовую (с окошком нового типа). "
   ]
  },
  {
   "cell_type": "markdown",
   "id": "758fe766-f5ba-4a1d-880c-fe2ff9e7cf67",
   "metadata": {},
   "source": [
    "## Content:\n",
    "\n",
    "1. AbGroup – имя АБ группы: Control/Test\n",
    "2. user_id – id пользователя\n",
    "3. time_stamp – день события\n",
    "4. install_date – день установки приложения пользователем\n",
    "5. event_name – техническое название события (InAppPurchase - в случае покупки за деньги, ResourceSpend в случае покупки за игровую валюту)\n",
    "6. platform – платформа google / itunes\n",
    "7. network_name – пользователь установил игру по переходу с рекламы (Paid) или нет (Organic)\n",
    "8. country_name – страна пользователя\n",
    "9. InGameTime – сколько всего пользователь провел в игре секунд\n",
    "10. LastCompletedLevel – номер последнего пройденного уровня\n",
    "11. avg_energy_amount – сколько в среднем энергии было у пользователя за день\n",
    "12. revenue_on_event – ревеню, потраченное на покупку ивентовых продуктов\n",
    "13. revenue_on_other_activities – ревеню, потраченное на остальные продукты, включая золото\n",
    "14. gold_on_event – золото, потраченное на ивентный прогресс\n",
    "15. gold_on_other_activities – золото, потраченное на другие продукты"
   ]
  },
  {
   "cell_type": "markdown",
   "id": "3283c5b8-119f-4e60-b778-c18c39fcdb92",
   "metadata": {},
   "source": [
    "## Task:\n",
    "\n",
    "Исследовать какая из АБ групп лучше себя показала.\n",
    "Результаты предоставить в понятной для широкой аудитории форме, сопроводив по необходимости графиками/дашбордами/числами."
   ]
  },
  {
   "cell_type": "markdown",
   "id": "28c35a90-4a72-420a-99ff-43d4f9311ce6",
   "metadata": {},
   "source": [
    "## Used libraries:\n",
    "- pandas\n",
    "- numpy\n",
    "- matplotlib\n",
    "- tqdm"
   ]
  },
  {
   "cell_type": "code",
   "execution_count": 59,
   "id": "4cbd285a-bf21-47ed-ab48-9d95069d173c",
   "metadata": {},
   "outputs": [],
   "source": [
    "import pandas as pd\n",
    "import numpy as np\n",
    "\n",
    "import matplotlib.pyplot as plt\n",
    "plt.style.use('dark_background')\n",
    "\n",
    "from tqdm.notebook import tqdm"
   ]
  },
  {
   "cell_type": "markdown",
   "id": "6dab29b7-1014-4975-806c-464a94ee883e",
   "metadata": {
    "tags": [],
    "toc-hr-collapsed": true
   },
   "source": [
    "# Data preparation"
   ]
  },
  {
   "cell_type": "markdown",
   "id": "465cddba-942e-454f-9129-13514cbf81ad",
   "metadata": {},
   "source": [
    "## Read data"
   ]
  },
  {
   "cell_type": "code",
   "execution_count": 2,
   "id": "bf30f717-e1cb-4bac-a67a-f4c3f13eefc9",
   "metadata": {
    "id": "ofYY4t57UigS"
   },
   "outputs": [
    {
     "data": {
      "text/html": [
       "<div>\n",
       "<style scoped>\n",
       "    .dataframe tbody tr th:only-of-type {\n",
       "        vertical-align: middle;\n",
       "    }\n",
       "\n",
       "    .dataframe tbody tr th {\n",
       "        vertical-align: top;\n",
       "    }\n",
       "\n",
       "    .dataframe thead th {\n",
       "        text-align: right;\n",
       "    }\n",
       "</style>\n",
       "<table border=\"1\" class=\"dataframe\">\n",
       "  <thead>\n",
       "    <tr style=\"text-align: right;\">\n",
       "      <th></th>\n",
       "      <th>AbGroup</th>\n",
       "      <th>user_id</th>\n",
       "      <th>time_stamp</th>\n",
       "      <th>install_date</th>\n",
       "      <th>event_name</th>\n",
       "      <th>platform</th>\n",
       "      <th>network_name</th>\n",
       "      <th>country_name</th>\n",
       "      <th>InGameTime</th>\n",
       "      <th>LastCompletedLevel</th>\n",
       "      <th>avg_energy_amount</th>\n",
       "      <th>revenue_on_event</th>\n",
       "      <th>revenue_on_other_activities</th>\n",
       "      <th>gold_on_event</th>\n",
       "      <th>gold_on_other_activities</th>\n",
       "    </tr>\n",
       "  </thead>\n",
       "  <tbody>\n",
       "    <tr>\n",
       "      <th>0</th>\n",
       "      <td>Control</td>\n",
       "      <td>d60ebcaecff2dc1d360a8a41271e6fd8a902c107</td>\n",
       "      <td>2020-02-10</td>\n",
       "      <td>2019-11-10</td>\n",
       "      <td>ResourceSpend</td>\n",
       "      <td>itunes</td>\n",
       "      <td>Organic</td>\n",
       "      <td>United Kingdom of Great Britain and Northern I...</td>\n",
       "      <td>276180</td>\n",
       "      <td>345</td>\n",
       "      <td>54.0</td>\n",
       "      <td>0.0</td>\n",
       "      <td>0.0</td>\n",
       "      <td>NaN</td>\n",
       "      <td>NaN</td>\n",
       "    </tr>\n",
       "    <tr>\n",
       "      <th>1</th>\n",
       "      <td>Test</td>\n",
       "      <td>f6e385b0ab43d5aea9cfcc408aa84029a4ea5fdb</td>\n",
       "      <td>2020-03-04</td>\n",
       "      <td>2019-11-05</td>\n",
       "      <td>ResourceSpend</td>\n",
       "      <td>itunes</td>\n",
       "      <td>Paid</td>\n",
       "      <td>United States of America</td>\n",
       "      <td>166095</td>\n",
       "      <td>199</td>\n",
       "      <td>50.0</td>\n",
       "      <td>0.0</td>\n",
       "      <td>0.0</td>\n",
       "      <td>NaN</td>\n",
       "      <td>NaN</td>\n",
       "    </tr>\n",
       "    <tr>\n",
       "      <th>2</th>\n",
       "      <td>Control</td>\n",
       "      <td>a4c80c8524e2c11cc238553d7b02da01ce2aad66</td>\n",
       "      <td>2020-02-26</td>\n",
       "      <td>2020-01-02</td>\n",
       "      <td>ResourceSpend</td>\n",
       "      <td>itunes</td>\n",
       "      <td>Paid</td>\n",
       "      <td>Canada</td>\n",
       "      <td>240986</td>\n",
       "      <td>84</td>\n",
       "      <td>39.0</td>\n",
       "      <td>0.0</td>\n",
       "      <td>0.0</td>\n",
       "      <td>NaN</td>\n",
       "      <td>NaN</td>\n",
       "    </tr>\n",
       "    <tr>\n",
       "      <th>3</th>\n",
       "      <td>Control</td>\n",
       "      <td>7ea2e4599ae33760c307e254839317bd5b17a63c</td>\n",
       "      <td>2020-02-21</td>\n",
       "      <td>2020-01-13</td>\n",
       "      <td>ResourceSpend</td>\n",
       "      <td>itunes</td>\n",
       "      <td>Organic</td>\n",
       "      <td>France</td>\n",
       "      <td>989822</td>\n",
       "      <td>1176</td>\n",
       "      <td>21.0</td>\n",
       "      <td>0.0</td>\n",
       "      <td>0.0</td>\n",
       "      <td>NaN</td>\n",
       "      <td>NaN</td>\n",
       "    </tr>\n",
       "    <tr>\n",
       "      <th>4</th>\n",
       "      <td>Control</td>\n",
       "      <td>6495168982929360dc6d84bf0766d8963a7ddc41</td>\n",
       "      <td>2020-02-18</td>\n",
       "      <td>2020-02-05</td>\n",
       "      <td>ResourceSpend</td>\n",
       "      <td>itunes</td>\n",
       "      <td>Paid</td>\n",
       "      <td>Spain</td>\n",
       "      <td>52106</td>\n",
       "      <td>66</td>\n",
       "      <td>43.0</td>\n",
       "      <td>0.0</td>\n",
       "      <td>0.0</td>\n",
       "      <td>500.0</td>\n",
       "      <td>NaN</td>\n",
       "    </tr>\n",
       "  </tbody>\n",
       "</table>\n",
       "</div>"
      ],
      "text/plain": [
       "   AbGroup                                   user_id  time_stamp install_date  \\\n",
       "0  Control  d60ebcaecff2dc1d360a8a41271e6fd8a902c107  2020-02-10   2019-11-10   \n",
       "1     Test  f6e385b0ab43d5aea9cfcc408aa84029a4ea5fdb  2020-03-04   2019-11-05   \n",
       "2  Control  a4c80c8524e2c11cc238553d7b02da01ce2aad66  2020-02-26   2020-01-02   \n",
       "3  Control  7ea2e4599ae33760c307e254839317bd5b17a63c  2020-02-21   2020-01-13   \n",
       "4  Control  6495168982929360dc6d84bf0766d8963a7ddc41  2020-02-18   2020-02-05   \n",
       "\n",
       "      event_name platform network_name  \\\n",
       "0  ResourceSpend   itunes      Organic   \n",
       "1  ResourceSpend   itunes         Paid   \n",
       "2  ResourceSpend   itunes         Paid   \n",
       "3  ResourceSpend   itunes      Organic   \n",
       "4  ResourceSpend   itunes         Paid   \n",
       "\n",
       "                                        country_name  InGameTime  \\\n",
       "0  United Kingdom of Great Britain and Northern I...      276180   \n",
       "1                           United States of America      166095   \n",
       "2                                             Canada      240986   \n",
       "3                                             France      989822   \n",
       "4                                              Spain       52106   \n",
       "\n",
       "   LastCompletedLevel  avg_energy_amount  revenue_on_event  \\\n",
       "0                 345               54.0               0.0   \n",
       "1                 199               50.0               0.0   \n",
       "2                  84               39.0               0.0   \n",
       "3                1176               21.0               0.0   \n",
       "4                  66               43.0               0.0   \n",
       "\n",
       "   revenue_on_other_activities  gold_on_event  gold_on_other_activities  \n",
       "0                          0.0            NaN                       NaN  \n",
       "1                          0.0            NaN                       NaN  \n",
       "2                          0.0            NaN                       NaN  \n",
       "3                          0.0            NaN                       NaN  \n",
       "4                          0.0          500.0                       NaN  "
      ]
     },
     "execution_count": 2,
     "metadata": {},
     "output_type": "execute_result"
    }
   ],
   "source": [
    "df = pd.read_csv('/home/antonius/Projects/DS_Projects/Data-analysis-python-pandas/6_gamedev-abtest/data/test_task_product_analyst_2021_20210427.csv')\n",
    "df.head()"
   ]
  },
  {
   "cell_type": "markdown",
   "id": "7d86a82d-8728-425f-a1d1-9429824b9704",
   "metadata": {},
   "source": [
    "## Format data"
   ]
  },
  {
   "cell_type": "code",
   "execution_count": 3,
   "id": "d68b59f0-f867-48cb-a52e-c113e20e042e",
   "metadata": {},
   "outputs": [
    {
     "data": {
      "text/plain": [
       "Index(['AbGroup', 'user_id', 'time_stamp', 'install_date', 'event_name',\n",
       "       'platform', 'network_name', 'country_name', 'InGameTime',\n",
       "       'LastCompletedLevel', 'avg_energy_amount', 'revenue_on_event',\n",
       "       'revenue_on_other_activities', 'gold_on_event',\n",
       "       'gold_on_other_activities'],\n",
       "      dtype='object')"
      ]
     },
     "execution_count": 3,
     "metadata": {},
     "output_type": "execute_result"
    }
   ],
   "source": [
    "df.columns"
   ]
  },
  {
   "cell_type": "code",
   "execution_count": 4,
   "id": "541f2d33-0764-4e62-bf79-1576699e3123",
   "metadata": {},
   "outputs": [
    {
     "data": {
      "text/plain": [
       "696840"
      ]
     },
     "execution_count": 4,
     "metadata": {},
     "output_type": "execute_result"
    }
   ],
   "source": [
    "len(df)"
   ]
  },
  {
   "cell_type": "markdown",
   "id": "4dd3f5a7-a9c2-4a34-bfc4-03716804e4b8",
   "metadata": {},
   "source": [
    "### Skips, Nans"
   ]
  },
  {
   "cell_type": "code",
   "execution_count": 5,
   "id": "976c7928-9932-4edc-94eb-52a3bab95bdc",
   "metadata": {},
   "outputs": [
    {
     "data": {
      "text/plain": [
       "gold_on_event                  0.934832\n",
       "gold_on_other_activities       0.758635\n",
       "AbGroup                        0.000000\n",
       "user_id                        0.000000\n",
       "time_stamp                     0.000000\n",
       "install_date                   0.000000\n",
       "event_name                     0.000000\n",
       "platform                       0.000000\n",
       "network_name                   0.000000\n",
       "country_name                   0.000000\n",
       "InGameTime                     0.000000\n",
       "LastCompletedLevel             0.000000\n",
       "avg_energy_amount              0.000000\n",
       "revenue_on_event               0.000000\n",
       "revenue_on_other_activities    0.000000\n",
       "dtype: float64"
      ]
     },
     "execution_count": 5,
     "metadata": {},
     "output_type": "execute_result"
    }
   ],
   "source": [
    "df.isna().mean().sort_values(ascending=False)"
   ]
  },
  {
   "cell_type": "markdown",
   "id": "b09eb96f-25df-4e91-b2d4-25e91caadb30",
   "metadata": {},
   "source": [
    "# Analysis"
   ]
  },
  {
   "cell_type": "code",
   "execution_count": 11,
   "id": "a485f23a-44c1-4201-8dbc-93a29e9c068b",
   "metadata": {
    "colab": {
     "base_uri": "https://localhost:8080/"
    },
    "id": "UA9sHTucUowB",
    "outputId": "65a5df6f-656a-4bf2-c750-dddf75025a66"
   },
   "outputs": [
    {
     "data": {
      "text/html": [
       "<div>\n",
       "<style scoped>\n",
       "    .dataframe tbody tr th:only-of-type {\n",
       "        vertical-align: middle;\n",
       "    }\n",
       "\n",
       "    .dataframe tbody tr th {\n",
       "        vertical-align: top;\n",
       "    }\n",
       "\n",
       "    .dataframe thead th {\n",
       "        text-align: right;\n",
       "    }\n",
       "</style>\n",
       "<table border=\"1\" class=\"dataframe\">\n",
       "  <thead>\n",
       "    <tr style=\"text-align: right;\">\n",
       "      <th></th>\n",
       "      <th>index</th>\n",
       "      <th>AbGroup</th>\n",
       "    </tr>\n",
       "  </thead>\n",
       "  <tbody>\n",
       "    <tr>\n",
       "      <th>0</th>\n",
       "      <td>Control</td>\n",
       "      <td>558070</td>\n",
       "    </tr>\n",
       "    <tr>\n",
       "      <th>1</th>\n",
       "      <td>Test</td>\n",
       "      <td>138770</td>\n",
       "    </tr>\n",
       "  </tbody>\n",
       "</table>\n",
       "</div>"
      ],
      "text/plain": [
       "     index  AbGroup\n",
       "0  Control   558070\n",
       "1     Test   138770"
      ]
     },
     "execution_count": 11,
     "metadata": {},
     "output_type": "execute_result"
    }
   ],
   "source": [
    "(df['AbGroup'].value_counts().reset_index())"
   ]
  },
  {
   "cell_type": "code",
   "execution_count": null,
   "id": "1fd54128-cb95-4812-a47d-5d792d0a0b7e",
   "metadata": {},
   "outputs": [],
   "source": [
    "(df.groupby(['checking_account', 'job'])['default']\n",
    ".agg(['count', 'mean'])\n",
    ".style\n",
    ".highlight_between(left=.3, right=1, subset='mean', color='red' )\n",
    ".highlight_between(left=.2, right=.3, subset='mean', color='orange' )\n",
    ".highlight_between(left=.1, right=.2, subset='mean', color='green' )\n",
    " \n",
    ".highlight_between(left=150, right=1000, subset='count', color='blue' )\n",
    "\n",
    "\n",
    ".format({\n",
    "    'mean': '{:,.2%}'.format,\n",
    "    'count': '{}'.format,\n",
    "})\n",
    ")"
   ]
  },
  {
   "cell_type": "code",
   "execution_count": 15,
   "id": "50babb20-5f2e-4d1f-993f-a0b5508a30c0",
   "metadata": {
    "colab": {
     "base_uri": "https://localhost:8080/"
    },
    "id": "53ElGGEFcuNo",
    "outputId": "ce8568a4-0daa-49fe-c559-a681cc2f1390"
   },
   "outputs": [
    {
     "data": {
      "text/html": [
       "<style type=\"text/css\">\n",
       "#T_1a676_row0_col1 {\n",
       "  background-color: orange;\n",
       "}\n",
       "#T_1a676_row1_col1 {\n",
       "  background-color: green;\n",
       "}\n",
       "</style>\n",
       "<table id=\"T_1a676\">\n",
       "  <thead>\n",
       "    <tr>\n",
       "      <th class=\"blank level0\" >&nbsp;</th>\n",
       "      <th id=\"T_1a676_level0_col0\" class=\"col_heading level0 col0\" >index</th>\n",
       "      <th id=\"T_1a676_level0_col1\" class=\"col_heading level0 col1\" >AbGroup</th>\n",
       "    </tr>\n",
       "  </thead>\n",
       "  <tbody>\n",
       "    <tr>\n",
       "      <th id=\"T_1a676_level0_row0\" class=\"row_heading level0 row0\" >0</th>\n",
       "      <td id=\"T_1a676_row0_col0\" class=\"data row0 col0\" >Control</td>\n",
       "      <td id=\"T_1a676_row0_col1\" class=\"data row0 col1\" >80.09%</td>\n",
       "    </tr>\n",
       "    <tr>\n",
       "      <th id=\"T_1a676_level0_row1\" class=\"row_heading level0 row1\" >1</th>\n",
       "      <td id=\"T_1a676_row1_col0\" class=\"data row1 col0\" >Test</td>\n",
       "      <td id=\"T_1a676_row1_col1\" class=\"data row1 col1\" >19.91%</td>\n",
       "    </tr>\n",
       "  </tbody>\n",
       "</table>\n"
      ],
      "text/plain": [
       "<pandas.io.formats.style.Styler at 0x7fec739fada0>"
      ]
     },
     "execution_count": 15,
     "metadata": {},
     "output_type": "execute_result"
    }
   ],
   "source": [
    "(df['AbGroup'].value_counts(normalize=True).reset_index()\n",
    ".style\n",
    ".highlight_between(left=.3, right=1, subset='AbGroup', color='orange' )\n",
    ".highlight_between(left=.2, right=.3, subset='AbGroup', color='orange' )\n",
    ".highlight_between(left=.1, right=.2, subset='AbGroup', color='green' )\n",
    " \n",
    ".format({\n",
    "    'AbGroup': '{:,.2%}'.format,\n",
    "}))"
   ]
  },
  {
   "cell_type": "code",
   "execution_count": 16,
   "id": "b621b323-d97b-4de7-a7c0-3d7c7bd4fc28",
   "metadata": {
    "colab": {
     "base_uri": "https://localhost:8080/",
     "height": 142
    },
    "id": "JfG02rkydANq",
    "outputId": "cacda033-784a-44e4-9531-3a6fd8c20ffe"
   },
   "outputs": [
    {
     "data": {
      "text/html": [
       "<div>\n",
       "<style scoped>\n",
       "    .dataframe tbody tr th:only-of-type {\n",
       "        vertical-align: middle;\n",
       "    }\n",
       "\n",
       "    .dataframe tbody tr th {\n",
       "        vertical-align: top;\n",
       "    }\n",
       "\n",
       "    .dataframe thead th {\n",
       "        text-align: right;\n",
       "    }\n",
       "</style>\n",
       "<table border=\"1\" class=\"dataframe\">\n",
       "  <thead>\n",
       "    <tr style=\"text-align: right;\">\n",
       "      <th></th>\n",
       "      <th>count</th>\n",
       "      <th>nunique</th>\n",
       "    </tr>\n",
       "    <tr>\n",
       "      <th>AbGroup</th>\n",
       "      <th></th>\n",
       "      <th></th>\n",
       "    </tr>\n",
       "  </thead>\n",
       "  <tbody>\n",
       "    <tr>\n",
       "      <th>Control</th>\n",
       "      <td>558070</td>\n",
       "      <td>89034</td>\n",
       "    </tr>\n",
       "    <tr>\n",
       "      <th>Test</th>\n",
       "      <td>138770</td>\n",
       "      <td>22278</td>\n",
       "    </tr>\n",
       "  </tbody>\n",
       "</table>\n",
       "</div>"
      ],
      "text/plain": [
       "          count  nunique\n",
       "AbGroup                 \n",
       "Control  558070    89034\n",
       "Test     138770    22278"
      ]
     },
     "execution_count": 16,
     "metadata": {},
     "output_type": "execute_result"
    }
   ],
   "source": [
    "df.groupby('AbGroup')['user_id'].agg(['count','nunique'])"
   ]
  },
  {
   "cell_type": "code",
   "execution_count": 17,
   "id": "847fe38b-4514-49b0-98d7-75a3867f1cdf",
   "metadata": {
    "colab": {
     "base_uri": "https://localhost:8080/",
     "height": 290
    },
    "id": "sls2dcYDddTN",
    "outputId": "0f759096-1afe-4675-e98d-33fe93db37fb"
   },
   "outputs": [
    {
     "data": {
      "text/html": [
       "<div>\n",
       "<style scoped>\n",
       "    .dataframe tbody tr th:only-of-type {\n",
       "        vertical-align: middle;\n",
       "    }\n",
       "\n",
       "    .dataframe tbody tr th {\n",
       "        vertical-align: top;\n",
       "    }\n",
       "\n",
       "    .dataframe thead th {\n",
       "        text-align: right;\n",
       "    }\n",
       "</style>\n",
       "<table border=\"1\" class=\"dataframe\">\n",
       "  <thead>\n",
       "    <tr style=\"text-align: right;\">\n",
       "      <th></th>\n",
       "      <th>AbGroup</th>\n",
       "      <th>user_id</th>\n",
       "      <th>time_stamp</th>\n",
       "      <th>install_date</th>\n",
       "      <th>event_name</th>\n",
       "      <th>platform</th>\n",
       "      <th>network_name</th>\n",
       "      <th>country_name</th>\n",
       "      <th>InGameTime</th>\n",
       "      <th>LastCompletedLevel</th>\n",
       "      <th>avg_energy_amount</th>\n",
       "      <th>revenue_on_event</th>\n",
       "      <th>revenue_on_other_activities</th>\n",
       "      <th>gold_on_event</th>\n",
       "      <th>gold_on_other_activities</th>\n",
       "    </tr>\n",
       "  </thead>\n",
       "  <tbody>\n",
       "    <tr>\n",
       "      <th>0</th>\n",
       "      <td>Control</td>\n",
       "      <td>d60ebcaecff2dc1d360a8a41271e6fd8a902c107</td>\n",
       "      <td>2020-02-10</td>\n",
       "      <td>2019-11-10</td>\n",
       "      <td>ResourceSpend</td>\n",
       "      <td>itunes</td>\n",
       "      <td>Organic</td>\n",
       "      <td>United Kingdom of Great Britain and Northern I...</td>\n",
       "      <td>276180</td>\n",
       "      <td>345</td>\n",
       "      <td>54.0</td>\n",
       "      <td>0.0</td>\n",
       "      <td>0.0</td>\n",
       "      <td>NaN</td>\n",
       "      <td>NaN</td>\n",
       "    </tr>\n",
       "    <tr>\n",
       "      <th>1</th>\n",
       "      <td>Test</td>\n",
       "      <td>f6e385b0ab43d5aea9cfcc408aa84029a4ea5fdb</td>\n",
       "      <td>2020-03-04</td>\n",
       "      <td>2019-11-05</td>\n",
       "      <td>ResourceSpend</td>\n",
       "      <td>itunes</td>\n",
       "      <td>Paid</td>\n",
       "      <td>United States of America</td>\n",
       "      <td>166095</td>\n",
       "      <td>199</td>\n",
       "      <td>50.0</td>\n",
       "      <td>0.0</td>\n",
       "      <td>0.0</td>\n",
       "      <td>NaN</td>\n",
       "      <td>NaN</td>\n",
       "    </tr>\n",
       "    <tr>\n",
       "      <th>2</th>\n",
       "      <td>Control</td>\n",
       "      <td>a4c80c8524e2c11cc238553d7b02da01ce2aad66</td>\n",
       "      <td>2020-02-26</td>\n",
       "      <td>2020-01-02</td>\n",
       "      <td>ResourceSpend</td>\n",
       "      <td>itunes</td>\n",
       "      <td>Paid</td>\n",
       "      <td>Canada</td>\n",
       "      <td>240986</td>\n",
       "      <td>84</td>\n",
       "      <td>39.0</td>\n",
       "      <td>0.0</td>\n",
       "      <td>0.0</td>\n",
       "      <td>NaN</td>\n",
       "      <td>NaN</td>\n",
       "    </tr>\n",
       "    <tr>\n",
       "      <th>3</th>\n",
       "      <td>Control</td>\n",
       "      <td>7ea2e4599ae33760c307e254839317bd5b17a63c</td>\n",
       "      <td>2020-02-21</td>\n",
       "      <td>2020-01-13</td>\n",
       "      <td>ResourceSpend</td>\n",
       "      <td>itunes</td>\n",
       "      <td>Organic</td>\n",
       "      <td>France</td>\n",
       "      <td>989822</td>\n",
       "      <td>1176</td>\n",
       "      <td>21.0</td>\n",
       "      <td>0.0</td>\n",
       "      <td>0.0</td>\n",
       "      <td>NaN</td>\n",
       "      <td>NaN</td>\n",
       "    </tr>\n",
       "    <tr>\n",
       "      <th>4</th>\n",
       "      <td>Control</td>\n",
       "      <td>6495168982929360dc6d84bf0766d8963a7ddc41</td>\n",
       "      <td>2020-02-18</td>\n",
       "      <td>2020-02-05</td>\n",
       "      <td>ResourceSpend</td>\n",
       "      <td>itunes</td>\n",
       "      <td>Paid</td>\n",
       "      <td>Spain</td>\n",
       "      <td>52106</td>\n",
       "      <td>66</td>\n",
       "      <td>43.0</td>\n",
       "      <td>0.0</td>\n",
       "      <td>0.0</td>\n",
       "      <td>500.0</td>\n",
       "      <td>NaN</td>\n",
       "    </tr>\n",
       "  </tbody>\n",
       "</table>\n",
       "</div>"
      ],
      "text/plain": [
       "   AbGroup                                   user_id  time_stamp install_date  \\\n",
       "0  Control  d60ebcaecff2dc1d360a8a41271e6fd8a902c107  2020-02-10   2019-11-10   \n",
       "1     Test  f6e385b0ab43d5aea9cfcc408aa84029a4ea5fdb  2020-03-04   2019-11-05   \n",
       "2  Control  a4c80c8524e2c11cc238553d7b02da01ce2aad66  2020-02-26   2020-01-02   \n",
       "3  Control  7ea2e4599ae33760c307e254839317bd5b17a63c  2020-02-21   2020-01-13   \n",
       "4  Control  6495168982929360dc6d84bf0766d8963a7ddc41  2020-02-18   2020-02-05   \n",
       "\n",
       "      event_name platform network_name  \\\n",
       "0  ResourceSpend   itunes      Organic   \n",
       "1  ResourceSpend   itunes         Paid   \n",
       "2  ResourceSpend   itunes         Paid   \n",
       "3  ResourceSpend   itunes      Organic   \n",
       "4  ResourceSpend   itunes         Paid   \n",
       "\n",
       "                                        country_name  InGameTime  \\\n",
       "0  United Kingdom of Great Britain and Northern I...      276180   \n",
       "1                           United States of America      166095   \n",
       "2                                             Canada      240986   \n",
       "3                                             France      989822   \n",
       "4                                              Spain       52106   \n",
       "\n",
       "   LastCompletedLevel  avg_energy_amount  revenue_on_event  \\\n",
       "0                 345               54.0               0.0   \n",
       "1                 199               50.0               0.0   \n",
       "2                  84               39.0               0.0   \n",
       "3                1176               21.0               0.0   \n",
       "4                  66               43.0               0.0   \n",
       "\n",
       "   revenue_on_other_activities  gold_on_event  gold_on_other_activities  \n",
       "0                          0.0            NaN                       NaN  \n",
       "1                          0.0            NaN                       NaN  \n",
       "2                          0.0            NaN                       NaN  \n",
       "3                          0.0            NaN                       NaN  \n",
       "4                          0.0          500.0                       NaN  "
      ]
     },
     "execution_count": 17,
     "metadata": {},
     "output_type": "execute_result"
    }
   ],
   "source": [
    "df.head()"
   ]
  },
  {
   "cell_type": "code",
   "execution_count": 18,
   "id": "378761fe-cbe0-44dc-9c91-0bd106611752",
   "metadata": {
    "id": "kFvVy8LOdQwO"
   },
   "outputs": [],
   "source": [
    "df['time_stamp'] = pd.to_datetime(df['time_stamp'],format='%Y-%m-%d')"
   ]
  },
  {
   "cell_type": "code",
   "execution_count": 19,
   "id": "6735a2ea-86f6-42f1-b729-d1d8b727233a",
   "metadata": {
    "id": "JZDZNNRFdniK"
   },
   "outputs": [],
   "source": [
    "df['install_date'] = pd.to_datetime(df['install_date'],format='%Y-%m-%d')"
   ]
  },
  {
   "cell_type": "code",
   "execution_count": 20,
   "id": "48c91062-d2d7-4158-a6c1-2328d25cba3d",
   "metadata": {
    "colab": {
     "base_uri": "https://localhost:8080/",
     "height": 303
    },
    "id": "07FGF3scdtNJ",
    "outputId": "db7c25aa-87e5-4d78-fb84-d13eaf6942cf"
   },
   "outputs": [
    {
     "data": {
      "text/plain": [
       "<AxesSubplot: xlabel='time_stamp'>"
      ]
     },
     "execution_count": 20,
     "metadata": {},
     "output_type": "execute_result"
    },
    {
     "data": {
      "image/png": "[encoded data removed]",
      "text/plain": [
       "<Figure size 640x480 with 1 Axes>"
      ]
     },
     "metadata": {},
     "output_type": "display_data"
    }
   ],
   "source": [
    "df.groupby('time_stamp')['user_id'].count().plot()"
   ]
  },
  {
   "cell_type": "code",
   "execution_count": 21,
   "id": "270a9563-1c19-4a77-8d3f-be1761ddb813",
   "metadata": {
    "colab": {
     "base_uri": "https://localhost:8080/",
     "height": 304
    },
    "id": "pOTjCF45eBna",
    "outputId": "276e00d7-611e-42ca-b32e-f7bf89eb3269"
   },
   "outputs": [
    {
     "data": {
      "text/plain": [
       "<AxesSubplot: xlabel='time_stamp'>"
      ]
     },
     "execution_count": 21,
     "metadata": {},
     "output_type": "execute_result"
    },
    {
     "data": {
      "image/png": "[encoded data removed]",
      "text/plain": [
       "<Figure size 640x480 with 1 Axes>"
      ]
     },
     "metadata": {},
     "output_type": "display_data"
    }
   ],
   "source": [
    "df.groupby('time_stamp')['user_id'].nunique().plot()"
   ]
  },
  {
   "cell_type": "code",
   "execution_count": 22,
   "id": "35e0b9c6-726f-4d12-bacb-65e949b99f85",
   "metadata": {
    "colab": {
     "base_uri": "https://localhost:8080/",
     "height": 911
    },
    "id": "16aXQBOJeYDW",
    "outputId": "370c6d12-57a0-4cc8-a84a-91dbdc23e1b3"
   },
   "outputs": [
    {
     "data": {
      "text/html": [
       "<div>\n",
       "<style scoped>\n",
       "    .dataframe tbody tr th:only-of-type {\n",
       "        vertical-align: middle;\n",
       "    }\n",
       "\n",
       "    .dataframe tbody tr th {\n",
       "        vertical-align: top;\n",
       "    }\n",
       "\n",
       "    .dataframe thead th {\n",
       "        text-align: right;\n",
       "    }\n",
       "</style>\n",
       "<table border=\"1\" class=\"dataframe\">\n",
       "  <thead>\n",
       "    <tr style=\"text-align: right;\">\n",
       "      <th></th>\n",
       "      <th>count</th>\n",
       "      <th>nunique</th>\n",
       "    </tr>\n",
       "    <tr>\n",
       "      <th>time_stamp</th>\n",
       "      <th></th>\n",
       "      <th></th>\n",
       "    </tr>\n",
       "  </thead>\n",
       "  <tbody>\n",
       "    <tr>\n",
       "      <th>2020-02-06</th>\n",
       "      <td>4</td>\n",
       "      <td>3</td>\n",
       "    </tr>\n",
       "    <tr>\n",
       "      <th>2020-02-08</th>\n",
       "      <td>1</td>\n",
       "      <td>1</td>\n",
       "    </tr>\n",
       "    <tr>\n",
       "      <th>2020-02-09</th>\n",
       "      <td>413</td>\n",
       "      <td>410</td>\n",
       "    </tr>\n",
       "    <tr>\n",
       "      <th>2020-02-10</th>\n",
       "      <td>12472</td>\n",
       "      <td>12445</td>\n",
       "    </tr>\n",
       "    <tr>\n",
       "      <th>2020-02-11</th>\n",
       "      <td>21822</td>\n",
       "      <td>21767</td>\n",
       "    </tr>\n",
       "    <tr>\n",
       "      <th>2020-02-12</th>\n",
       "      <td>24292</td>\n",
       "      <td>24225</td>\n",
       "    </tr>\n",
       "    <tr>\n",
       "      <th>2020-02-13</th>\n",
       "      <td>25194</td>\n",
       "      <td>25131</td>\n",
       "    </tr>\n",
       "    <tr>\n",
       "      <th>2020-02-14</th>\n",
       "      <td>26464</td>\n",
       "      <td>26407</td>\n",
       "    </tr>\n",
       "    <tr>\n",
       "      <th>2020-02-15</th>\n",
       "      <td>28959</td>\n",
       "      <td>28894</td>\n",
       "    </tr>\n",
       "    <tr>\n",
       "      <th>2020-02-16</th>\n",
       "      <td>28780</td>\n",
       "      <td>28713</td>\n",
       "    </tr>\n",
       "    <tr>\n",
       "      <th>2020-02-17</th>\n",
       "      <td>30044</td>\n",
       "      <td>29963</td>\n",
       "    </tr>\n",
       "    <tr>\n",
       "      <th>2020-02-18</th>\n",
       "      <td>30417</td>\n",
       "      <td>30341</td>\n",
       "    </tr>\n",
       "    <tr>\n",
       "      <th>2020-02-19</th>\n",
       "      <td>30044</td>\n",
       "      <td>29964</td>\n",
       "    </tr>\n",
       "    <tr>\n",
       "      <th>2020-02-20</th>\n",
       "      <td>29909</td>\n",
       "      <td>29868</td>\n",
       "    </tr>\n",
       "    <tr>\n",
       "      <th>2020-02-21</th>\n",
       "      <td>31032</td>\n",
       "      <td>30995</td>\n",
       "    </tr>\n",
       "    <tr>\n",
       "      <th>2020-02-22</th>\n",
       "      <td>32651</td>\n",
       "      <td>32607</td>\n",
       "    </tr>\n",
       "    <tr>\n",
       "      <th>2020-02-23</th>\n",
       "      <td>30500</td>\n",
       "      <td>30453</td>\n",
       "    </tr>\n",
       "    <tr>\n",
       "      <th>2020-02-24</th>\n",
       "      <td>29728</td>\n",
       "      <td>29689</td>\n",
       "    </tr>\n",
       "    <tr>\n",
       "      <th>2020-02-25</th>\n",
       "      <td>29655</td>\n",
       "      <td>29615</td>\n",
       "    </tr>\n",
       "    <tr>\n",
       "      <th>2020-02-26</th>\n",
       "      <td>29694</td>\n",
       "      <td>29648</td>\n",
       "    </tr>\n",
       "    <tr>\n",
       "      <th>2020-02-27</th>\n",
       "      <td>30754</td>\n",
       "      <td>30705</td>\n",
       "    </tr>\n",
       "    <tr>\n",
       "      <th>2020-02-28</th>\n",
       "      <td>30481</td>\n",
       "      <td>30441</td>\n",
       "    </tr>\n",
       "    <tr>\n",
       "      <th>2020-02-29</th>\n",
       "      <td>31377</td>\n",
       "      <td>31339</td>\n",
       "    </tr>\n",
       "    <tr>\n",
       "      <th>2020-03-01</th>\n",
       "      <td>34058</td>\n",
       "      <td>34004</td>\n",
       "    </tr>\n",
       "    <tr>\n",
       "      <th>2020-03-02</th>\n",
       "      <td>32980</td>\n",
       "      <td>32943</td>\n",
       "    </tr>\n",
       "    <tr>\n",
       "      <th>2020-03-03</th>\n",
       "      <td>32554</td>\n",
       "      <td>32510</td>\n",
       "    </tr>\n",
       "    <tr>\n",
       "      <th>2020-03-04</th>\n",
       "      <td>32561</td>\n",
       "      <td>32514</td>\n",
       "    </tr>\n",
       "  </tbody>\n",
       "</table>\n",
       "</div>"
      ],
      "text/plain": [
       "            count  nunique\n",
       "time_stamp                \n",
       "2020-02-06      4        3\n",
       "2020-02-08      1        1\n",
       "2020-02-09    413      410\n",
       "2020-02-10  12472    12445\n",
       "2020-02-11  21822    21767\n",
       "2020-02-12  24292    24225\n",
       "2020-02-13  25194    25131\n",
       "2020-02-14  26464    26407\n",
       "2020-02-15  28959    28894\n",
       "2020-02-16  28780    28713\n",
       "2020-02-17  30044    29963\n",
       "2020-02-18  30417    30341\n",
       "2020-02-19  30044    29964\n",
       "2020-02-20  29909    29868\n",
       "2020-02-21  31032    30995\n",
       "2020-02-22  32651    32607\n",
       "2020-02-23  30500    30453\n",
       "2020-02-24  29728    29689\n",
       "2020-02-25  29655    29615\n",
       "2020-02-26  29694    29648\n",
       "2020-02-27  30754    30705\n",
       "2020-02-28  30481    30441\n",
       "2020-02-29  31377    31339\n",
       "2020-03-01  34058    34004\n",
       "2020-03-02  32980    32943\n",
       "2020-03-03  32554    32510\n",
       "2020-03-04  32561    32514"
      ]
     },
     "execution_count": 22,
     "metadata": {},
     "output_type": "execute_result"
    }
   ],
   "source": [
    "df.groupby('time_stamp')['user_id'].agg(['count','nunique'])"
   ]
  },
  {
   "cell_type": "code",
   "execution_count": 23,
   "id": "b6170b8d-1b8c-43ff-bd3f-d640fcf0b210",
   "metadata": {
    "colab": {
     "base_uri": "https://localhost:8080/",
     "height": 282
    },
    "id": "IrV-TtQ1ei6Z",
    "outputId": "31d3ac07-f46d-4cef-cb95-0732361a1470"
   },
   "outputs": [
    {
     "data": {
      "text/plain": [
       "<AxesSubplot: >"
      ]
     },
     "execution_count": 23,
     "metadata": {},
     "output_type": "execute_result"
    },
    {
     "data": {
      "image/png": "[encoded data removed]",
      "text/plain": [
       "<Figure size 640x480 with 1 Axes>"
      ]
     },
     "metadata": {},
     "output_type": "display_data"
    }
   ],
   "source": [
    "df['revenue_on_event'].hist()"
   ]
  },
  {
   "cell_type": "code",
   "execution_count": 25,
   "id": "f8ecb19f-d4f6-4e3f-926f-99b2cd1279a2",
   "metadata": {
    "colab": {
     "base_uri": "https://localhost:8080/"
    },
    "id": "L6RPj6U7fqVq",
    "outputId": "69a14995-b9e8-4615-e974-17f05488a19f"
   },
   "outputs": [
    {
     "data": {
      "text/html": [
       "<div>\n",
       "<style scoped>\n",
       "    .dataframe tbody tr th:only-of-type {\n",
       "        vertical-align: middle;\n",
       "    }\n",
       "\n",
       "    .dataframe tbody tr th {\n",
       "        vertical-align: top;\n",
       "    }\n",
       "\n",
       "    .dataframe thead th {\n",
       "        text-align: right;\n",
       "    }\n",
       "</style>\n",
       "<table border=\"1\" class=\"dataframe\">\n",
       "  <thead>\n",
       "    <tr style=\"text-align: right;\">\n",
       "      <th></th>\n",
       "      <th>index</th>\n",
       "      <th>revenue_on_event</th>\n",
       "    </tr>\n",
       "  </thead>\n",
       "  <tbody>\n",
       "    <tr>\n",
       "      <th>0</th>\n",
       "      <td>0.0</td>\n",
       "      <td>696840</td>\n",
       "    </tr>\n",
       "  </tbody>\n",
       "</table>\n",
       "</div>"
      ],
      "text/plain": [
       "   index  revenue_on_event\n",
       "0    0.0            696840"
      ]
     },
     "execution_count": 25,
     "metadata": {},
     "output_type": "execute_result"
    }
   ],
   "source": [
    "df['revenue_on_event'].value_counts().reset_index()"
   ]
  },
  {
   "cell_type": "code",
   "execution_count": 28,
   "id": "9508a09c-35e9-4355-9e0c-d2c237850af4",
   "metadata": {
    "colab": {
     "base_uri": "https://localhost:8080/",
     "height": 282
    },
    "id": "JDf1PHNlf1Xv",
    "outputId": "3e86ab9e-b22c-498b-b1c5-dd0c832d461f"
   },
   "outputs": [
    {
     "data": {
      "text/plain": [
       "<AxesSubplot: >"
      ]
     },
     "execution_count": 28,
     "metadata": {},
     "output_type": "execute_result"
    },
    {
     "data": {
      "image/png": "[encoded data removed]",
      "text/plain": [
       "<Figure size 640x480 with 1 Axes>"
      ]
     },
     "metadata": {},
     "output_type": "display_data"
    }
   ],
   "source": [
    "df['revenue_on_other_activities'].hist()"
   ]
  },
  {
   "cell_type": "code",
   "execution_count": 30,
   "id": "6ece569b-fcb8-4418-a9fb-b02f097fcc24",
   "metadata": {
    "colab": {
     "base_uri": "https://localhost:8080/"
    },
    "id": "bwrVXJ7ngCwJ",
    "outputId": "c6ccd95f-4c77-4dd0-d293-42ae27675865"
   },
   "outputs": [
    {
     "data": {
      "text/plain": [
       "Index(['AbGroup', 'user_id', 'time_stamp', 'install_date', 'event_name',\n",
       "       'platform', 'network_name', 'country_name', 'InGameTime',\n",
       "       'LastCompletedLevel', 'avg_energy_amount', 'revenue_on_event',\n",
       "       'revenue_on_other_activities', 'gold_on_event',\n",
       "       'gold_on_other_activities'],\n",
       "      dtype='object')"
      ]
     },
     "execution_count": 30,
     "metadata": {},
     "output_type": "execute_result"
    }
   ],
   "source": [
    "df.columns"
   ]
  },
  {
   "cell_type": "code",
   "execution_count": 31,
   "id": "3a102f40-ec7c-490c-8105-f53739071f69",
   "metadata": {
    "colab": {
     "base_uri": "https://localhost:8080/",
     "height": 295
    },
    "id": "0wrifNC_gEdW",
    "outputId": "2e4f8fd4-d0f9-47c5-f3c0-f07509883493"
   },
   "outputs": [
    {
     "data": {
      "text/html": [
       "<div>\n",
       "<style scoped>\n",
       "    .dataframe tbody tr th:only-of-type {\n",
       "        vertical-align: middle;\n",
       "    }\n",
       "\n",
       "    .dataframe tbody tr th {\n",
       "        vertical-align: top;\n",
       "    }\n",
       "\n",
       "    .dataframe thead th {\n",
       "        text-align: right;\n",
       "    }\n",
       "</style>\n",
       "<table border=\"1\" class=\"dataframe\">\n",
       "  <thead>\n",
       "    <tr style=\"text-align: right;\">\n",
       "      <th></th>\n",
       "      <th>revenue_on_event</th>\n",
       "      <th>revenue_on_other_activities</th>\n",
       "      <th>gold_on_event</th>\n",
       "      <th>gold_on_other_activities</th>\n",
       "    </tr>\n",
       "  </thead>\n",
       "  <tbody>\n",
       "    <tr>\n",
       "      <th>count</th>\n",
       "      <td>696840.0</td>\n",
       "      <td>696840.0</td>\n",
       "      <td>45412.000000</td>\n",
       "      <td>168193.000000</td>\n",
       "    </tr>\n",
       "    <tr>\n",
       "      <th>mean</th>\n",
       "      <td>0.0</td>\n",
       "      <td>0.0</td>\n",
       "      <td>1992.865322</td>\n",
       "      <td>936.481899</td>\n",
       "    </tr>\n",
       "    <tr>\n",
       "      <th>std</th>\n",
       "      <td>0.0</td>\n",
       "      <td>0.0</td>\n",
       "      <td>3895.541280</td>\n",
       "      <td>3522.989145</td>\n",
       "    </tr>\n",
       "    <tr>\n",
       "      <th>min</th>\n",
       "      <td>0.0</td>\n",
       "      <td>0.0</td>\n",
       "      <td>500.000000</td>\n",
       "      <td>100.000000</td>\n",
       "    </tr>\n",
       "    <tr>\n",
       "      <th>25%</th>\n",
       "      <td>0.0</td>\n",
       "      <td>0.0</td>\n",
       "      <td>500.000000</td>\n",
       "      <td>500.000000</td>\n",
       "    </tr>\n",
       "    <tr>\n",
       "      <th>50%</th>\n",
       "      <td>0.0</td>\n",
       "      <td>0.0</td>\n",
       "      <td>1000.000000</td>\n",
       "      <td>600.000000</td>\n",
       "    </tr>\n",
       "    <tr>\n",
       "      <th>75%</th>\n",
       "      <td>0.0</td>\n",
       "      <td>0.0</td>\n",
       "      <td>2400.000000</td>\n",
       "      <td>1000.000000</td>\n",
       "    </tr>\n",
       "    <tr>\n",
       "      <th>max</th>\n",
       "      <td>0.0</td>\n",
       "      <td>0.0</td>\n",
       "      <td>189600.000000</td>\n",
       "      <td>755950.000000</td>\n",
       "    </tr>\n",
       "  </tbody>\n",
       "</table>\n",
       "</div>"
      ],
      "text/plain": [
       "       revenue_on_event  revenue_on_other_activities  gold_on_event  \\\n",
       "count          696840.0                     696840.0   45412.000000   \n",
       "mean                0.0                          0.0    1992.865322   \n",
       "std                 0.0                          0.0    3895.541280   \n",
       "min                 0.0                          0.0     500.000000   \n",
       "25%                 0.0                          0.0     500.000000   \n",
       "50%                 0.0                          0.0    1000.000000   \n",
       "75%                 0.0                          0.0    2400.000000   \n",
       "max                 0.0                          0.0  189600.000000   \n",
       "\n",
       "       gold_on_other_activities  \n",
       "count             168193.000000  \n",
       "mean                 936.481899  \n",
       "std                 3522.989145  \n",
       "min                  100.000000  \n",
       "25%                  500.000000  \n",
       "50%                  600.000000  \n",
       "75%                 1000.000000  \n",
       "max               755950.000000  "
      ]
     },
     "execution_count": 31,
     "metadata": {},
     "output_type": "execute_result"
    }
   ],
   "source": [
    "df[['revenue_on_event',\n",
    "       'revenue_on_other_activities', 'gold_on_event',\n",
    "       'gold_on_other_activities']].describe()"
   ]
  },
  {
   "cell_type": "code",
   "execution_count": 32,
   "id": "c05e0c91-ac1e-47a3-bd7a-cd6d3c5b51ac",
   "metadata": {
    "colab": {
     "base_uri": "https://localhost:8080/",
     "height": 282
    },
    "id": "OS7BBRwggIwE",
    "outputId": "4da0b5f9-8af5-48ea-fd7e-2d9a66ed6873"
   },
   "outputs": [
    {
     "data": {
      "text/plain": [
       "<AxesSubplot: >"
      ]
     },
     "execution_count": 32,
     "metadata": {},
     "output_type": "execute_result"
    },
    {
     "data": {
      "image/png": "[encoded data removed]",
      "text/plain": [
       "<Figure size 640x480 with 1 Axes>"
      ]
     },
     "metadata": {},
     "output_type": "display_data"
    }
   ],
   "source": [
    "df['gold_on_event'].hist()"
   ]
  },
  {
   "cell_type": "code",
   "execution_count": 33,
   "id": "dbed6a8f-179c-424d-89fe-9596ba9f0d6f",
   "metadata": {
    "colab": {
     "base_uri": "https://localhost:8080/",
     "height": 282
    },
    "id": "FE-OIE7cgj3w",
    "outputId": "63c40df1-7c9c-4439-9f37-d966619f99f6"
   },
   "outputs": [
    {
     "data": {
      "text/plain": [
       "<AxesSubplot: >"
      ]
     },
     "execution_count": 33,
     "metadata": {},
     "output_type": "execute_result"
    },
    {
     "data": {
      "image/png": "[encoded data removed]",
      "text/plain": [
       "<Figure size 640x480 with 1 Axes>"
      ]
     },
     "metadata": {},
     "output_type": "display_data"
    }
   ],
   "source": [
    "df['gold_on_other_activities'].hist()"
   ]
  },
  {
   "cell_type": "code",
   "execution_count": 34,
   "id": "18e0d323-22dc-4cda-a0d4-8da0d45f4562",
   "metadata": {
    "id": "6EemLeE4gqPg"
   },
   "outputs": [],
   "source": [
    "df['gold_on_event_flag'] = (df['gold_on_event'] > 0)*1\n",
    "df['gold_on_other_activities_flag'] = (df['gold_on_other_activities'] > 0)*1"
   ]
  },
  {
   "cell_type": "code",
   "execution_count": 36,
   "id": "9637316c-ef2e-4d08-8634-5b8d51ffc7ac",
   "metadata": {
    "colab": {
     "base_uri": "https://localhost:8080/",
     "height": 172
    },
    "id": "zTE_h7v6hPvh",
    "outputId": "d6ef03dd-c5cf-4cee-fcc0-7e4808d32322"
   },
   "outputs": [
    {
     "data": {
      "text/html": [
       "<div>\n",
       "<style scoped>\n",
       "    .dataframe tbody tr th:only-of-type {\n",
       "        vertical-align: middle;\n",
       "    }\n",
       "\n",
       "    .dataframe tbody tr th {\n",
       "        vertical-align: top;\n",
       "    }\n",
       "\n",
       "    .dataframe thead tr th {\n",
       "        text-align: left;\n",
       "    }\n",
       "\n",
       "    .dataframe thead tr:last-of-type th {\n",
       "        text-align: right;\n",
       "    }\n",
       "</style>\n",
       "<table border=\"1\" class=\"dataframe\">\n",
       "  <thead>\n",
       "    <tr>\n",
       "      <th></th>\n",
       "      <th colspan=\"2\" halign=\"left\">gold_on_event_flag</th>\n",
       "      <th colspan=\"2\" halign=\"left\">gold_on_event</th>\n",
       "    </tr>\n",
       "    <tr>\n",
       "      <th></th>\n",
       "      <th>count</th>\n",
       "      <th>mean</th>\n",
       "      <th>mean</th>\n",
       "      <th>median</th>\n",
       "    </tr>\n",
       "    <tr>\n",
       "      <th>AbGroup</th>\n",
       "      <th></th>\n",
       "      <th></th>\n",
       "      <th></th>\n",
       "      <th></th>\n",
       "    </tr>\n",
       "  </thead>\n",
       "  <tbody>\n",
       "    <tr>\n",
       "      <th>Control</th>\n",
       "      <td>558070</td>\n",
       "      <td>0.06523</td>\n",
       "      <td>1965.211658</td>\n",
       "      <td>1000.0</td>\n",
       "    </tr>\n",
       "    <tr>\n",
       "      <th>Test</th>\n",
       "      <td>138770</td>\n",
       "      <td>0.06492</td>\n",
       "      <td>2104.606505</td>\n",
       "      <td>1500.0</td>\n",
       "    </tr>\n",
       "  </tbody>\n",
       "</table>\n",
       "</div>"
      ],
      "text/plain": [
       "        gold_on_event_flag          gold_on_event        \n",
       "                     count     mean          mean  median\n",
       "AbGroup                                                  \n",
       "Control             558070  0.06523   1965.211658  1000.0\n",
       "Test                138770  0.06492   2104.606505  1500.0"
      ]
     },
     "execution_count": 36,
     "metadata": {},
     "output_type": "execute_result"
    }
   ],
   "source": [
    "(df.groupby(['AbGroup'])[['gold_on_event_flag','gold_on_event']]\n",
    " .agg({'gold_on_event_flag':['count','mean'],'gold_on_event':['mean','median']}))"
   ]
  },
  {
   "cell_type": "code",
   "execution_count": 41,
   "id": "797bacf2-cf2d-478f-971d-daca3e49ef52",
   "metadata": {
    "id": "iXXsOUDzhgzf"
   },
   "outputs": [],
   "source": [
    "t = df.groupby('user_id')['AbGroup'].nunique().reset_index()"
   ]
  },
  {
   "cell_type": "code",
   "execution_count": 42,
   "id": "6ddbc043-0f01-427f-a9e5-c62abfd3f821",
   "metadata": {
    "colab": {
     "base_uri": "https://localhost:8080/",
     "height": 417
    },
    "id": "c2o6hYYyi7RF",
    "outputId": "f8152b8b-3db2-4a17-ce67-b735c00eadb8"
   },
   "outputs": [
    {
     "data": {
      "text/html": [
       "<div>\n",
       "<style scoped>\n",
       "    .dataframe tbody tr th:only-of-type {\n",
       "        vertical-align: middle;\n",
       "    }\n",
       "\n",
       "    .dataframe tbody tr th {\n",
       "        vertical-align: top;\n",
       "    }\n",
       "\n",
       "    .dataframe thead th {\n",
       "        text-align: right;\n",
       "    }\n",
       "</style>\n",
       "<table border=\"1\" class=\"dataframe\">\n",
       "  <thead>\n",
       "    <tr style=\"text-align: right;\">\n",
       "      <th></th>\n",
       "      <th>user_id</th>\n",
       "      <th>AbGroup</th>\n",
       "    </tr>\n",
       "  </thead>\n",
       "  <tbody>\n",
       "    <tr>\n",
       "      <th>0</th>\n",
       "      <td>00000d6d79ec151d74c5b0c0705d9d9fe252fe83</td>\n",
       "      <td>1</td>\n",
       "    </tr>\n",
       "    <tr>\n",
       "      <th>1</th>\n",
       "      <td>000133682d2dcd90c1a9c8ca5e34a294f31af64f</td>\n",
       "      <td>1</td>\n",
       "    </tr>\n",
       "    <tr>\n",
       "      <th>2</th>\n",
       "      <td>0001f13b0535b174bc7e36a1846c31c7a091c4b0</td>\n",
       "      <td>1</td>\n",
       "    </tr>\n",
       "    <tr>\n",
       "      <th>3</th>\n",
       "      <td>00021d57aced59fbfaf63ba620afada82fc06ca8</td>\n",
       "      <td>1</td>\n",
       "    </tr>\n",
       "    <tr>\n",
       "      <th>4</th>\n",
       "      <td>00027b7d34e10c17bfd4f76aa626403a2c5d1044</td>\n",
       "      <td>1</td>\n",
       "    </tr>\n",
       "    <tr>\n",
       "      <th>...</th>\n",
       "      <td>...</td>\n",
       "      <td>...</td>\n",
       "    </tr>\n",
       "    <tr>\n",
       "      <th>110955</th>\n",
       "      <td>fffea25b3877c861a4ebaa00e8fb9c5b96672e00</td>\n",
       "      <td>1</td>\n",
       "    </tr>\n",
       "    <tr>\n",
       "      <th>110956</th>\n",
       "      <td>fffeb6c54253ef0e7b0c4f38eb81a9dd9aebcb14</td>\n",
       "      <td>1</td>\n",
       "    </tr>\n",
       "    <tr>\n",
       "      <th>110957</th>\n",
       "      <td>ffff1964e1cb3bb0fc17c9ed440e3a6b6e6adf99</td>\n",
       "      <td>1</td>\n",
       "    </tr>\n",
       "    <tr>\n",
       "      <th>110958</th>\n",
       "      <td>ffff86c1dc72ba25d61ad8c92e9a5b3d6e2f5547</td>\n",
       "      <td>1</td>\n",
       "    </tr>\n",
       "    <tr>\n",
       "      <th>110959</th>\n",
       "      <td>ffffb50d0170ef0bc2eda7d20211b2c963c61e2a</td>\n",
       "      <td>1</td>\n",
       "    </tr>\n",
       "  </tbody>\n",
       "</table>\n",
       "<p>110960 rows × 2 columns</p>\n",
       "</div>"
      ],
      "text/plain": [
       "                                         user_id  AbGroup\n",
       "0       00000d6d79ec151d74c5b0c0705d9d9fe252fe83        1\n",
       "1       000133682d2dcd90c1a9c8ca5e34a294f31af64f        1\n",
       "2       0001f13b0535b174bc7e36a1846c31c7a091c4b0        1\n",
       "3       00021d57aced59fbfaf63ba620afada82fc06ca8        1\n",
       "4       00027b7d34e10c17bfd4f76aa626403a2c5d1044        1\n",
       "...                                          ...      ...\n",
       "110955  fffea25b3877c861a4ebaa00e8fb9c5b96672e00        1\n",
       "110956  fffeb6c54253ef0e7b0c4f38eb81a9dd9aebcb14        1\n",
       "110957  ffff1964e1cb3bb0fc17c9ed440e3a6b6e6adf99        1\n",
       "110958  ffff86c1dc72ba25d61ad8c92e9a5b3d6e2f5547        1\n",
       "110959  ffffb50d0170ef0bc2eda7d20211b2c963c61e2a        1\n",
       "\n",
       "[110960 rows x 2 columns]"
      ]
     },
     "execution_count": 42,
     "metadata": {},
     "output_type": "execute_result"
    }
   ],
   "source": [
    "t"
   ]
  },
  {
   "cell_type": "code",
   "execution_count": 43,
   "id": "1b897c20-3f36-430a-82a7-8c67b02d0bde",
   "metadata": {
    "colab": {
     "base_uri": "https://localhost:8080/",
     "height": 417
    },
    "id": "43usYZK4jVEv",
    "outputId": "d5661373-8423-4be6-8c7b-2ffddc59157c"
   },
   "outputs": [
    {
     "data": {
      "text/html": [
       "<div>\n",
       "<style scoped>\n",
       "    .dataframe tbody tr th:only-of-type {\n",
       "        vertical-align: middle;\n",
       "    }\n",
       "\n",
       "    .dataframe tbody tr th {\n",
       "        vertical-align: top;\n",
       "    }\n",
       "\n",
       "    .dataframe thead th {\n",
       "        text-align: right;\n",
       "    }\n",
       "</style>\n",
       "<table border=\"1\" class=\"dataframe\">\n",
       "  <thead>\n",
       "    <tr style=\"text-align: right;\">\n",
       "      <th></th>\n",
       "      <th>user_id</th>\n",
       "      <th>AbGroup</th>\n",
       "    </tr>\n",
       "  </thead>\n",
       "  <tbody>\n",
       "    <tr>\n",
       "      <th>202</th>\n",
       "      <td>007a61c7cc84aa559280c6d222aa3e15cb5e0114</td>\n",
       "      <td>2</td>\n",
       "    </tr>\n",
       "    <tr>\n",
       "      <th>208</th>\n",
       "      <td>007c891d5eb34c1398966a836d74a123452384de</td>\n",
       "      <td>2</td>\n",
       "    </tr>\n",
       "    <tr>\n",
       "      <th>895</th>\n",
       "      <td>02125379d8faf43debf755edfb32758ea5d789d8</td>\n",
       "      <td>2</td>\n",
       "    </tr>\n",
       "    <tr>\n",
       "      <th>1097</th>\n",
       "      <td>028e3fc09324ac6df71fccf432dabe44e476956c</td>\n",
       "      <td>2</td>\n",
       "    </tr>\n",
       "    <tr>\n",
       "      <th>1107</th>\n",
       "      <td>02977b73d35305fc135ea01bfcc9e1aa334d480a</td>\n",
       "      <td>2</td>\n",
       "    </tr>\n",
       "    <tr>\n",
       "      <th>...</th>\n",
       "      <td>...</td>\n",
       "      <td>...</td>\n",
       "    </tr>\n",
       "    <tr>\n",
       "      <th>110097</th>\n",
       "      <td>fe08c305b0317eecc6b5cf3cc5362fc912afdc0b</td>\n",
       "      <td>2</td>\n",
       "    </tr>\n",
       "    <tr>\n",
       "      <th>110362</th>\n",
       "      <td>fea60891a7ef95c7b95a0b1e58cb9d755684b3de</td>\n",
       "      <td>2</td>\n",
       "    </tr>\n",
       "    <tr>\n",
       "      <th>110480</th>\n",
       "      <td>fef449646b98d04def88b9ddb45e7c43bd9a278a</td>\n",
       "      <td>2</td>\n",
       "    </tr>\n",
       "    <tr>\n",
       "      <th>110515</th>\n",
       "      <td>ff079e7288b379b4e47650da302a5cc23e8c7ad3</td>\n",
       "      <td>2</td>\n",
       "    </tr>\n",
       "    <tr>\n",
       "      <th>110746</th>\n",
       "      <td>ff816e78735bba9ef1d63f46e4614754e2aaeff6</td>\n",
       "      <td>2</td>\n",
       "    </tr>\n",
       "  </tbody>\n",
       "</table>\n",
       "<p>352 rows × 2 columns</p>\n",
       "</div>"
      ],
      "text/plain": [
       "                                         user_id  AbGroup\n",
       "202     007a61c7cc84aa559280c6d222aa3e15cb5e0114        2\n",
       "208     007c891d5eb34c1398966a836d74a123452384de        2\n",
       "895     02125379d8faf43debf755edfb32758ea5d789d8        2\n",
       "1097    028e3fc09324ac6df71fccf432dabe44e476956c        2\n",
       "1107    02977b73d35305fc135ea01bfcc9e1aa334d480a        2\n",
       "...                                          ...      ...\n",
       "110097  fe08c305b0317eecc6b5cf3cc5362fc912afdc0b        2\n",
       "110362  fea60891a7ef95c7b95a0b1e58cb9d755684b3de        2\n",
       "110480  fef449646b98d04def88b9ddb45e7c43bd9a278a        2\n",
       "110515  ff079e7288b379b4e47650da302a5cc23e8c7ad3        2\n",
       "110746  ff816e78735bba9ef1d63f46e4614754e2aaeff6        2\n",
       "\n",
       "[352 rows x 2 columns]"
      ]
     },
     "execution_count": 43,
     "metadata": {},
     "output_type": "execute_result"
    }
   ],
   "source": [
    "t[t['AbGroup'] > 1]"
   ]
  },
  {
   "cell_type": "code",
   "execution_count": 45,
   "id": "48e7f3d2-c478-443a-93f2-727ec584d714",
   "metadata": {
    "id": "2qH3X2PWjpX-"
   },
   "outputs": [],
   "source": [
    "t = (df.groupby(['user_id','AbGroup'])[['gold_on_event_flag','gold_on_event']]\n",
    "    .agg({'gold_on_event_flag':['count','mean'],'gold_on_event':['mean','median']})).reset_index()"
   ]
  },
  {
   "cell_type": "code",
   "execution_count": 46,
   "id": "df514938-15d7-4eef-aa73-74013cb85259",
   "metadata": {
    "colab": {
     "base_uri": "https://localhost:8080/",
     "height": 447
    },
    "id": "p2YvrSCRkz5Y",
    "outputId": "603dfdac-02f8-4ddb-e97a-1ddb36d80fec"
   },
   "outputs": [
    {
     "data": {
      "text/html": [
       "<div>\n",
       "<style scoped>\n",
       "    .dataframe tbody tr th:only-of-type {\n",
       "        vertical-align: middle;\n",
       "    }\n",
       "\n",
       "    .dataframe tbody tr th {\n",
       "        vertical-align: top;\n",
       "    }\n",
       "\n",
       "    .dataframe thead tr th {\n",
       "        text-align: left;\n",
       "    }\n",
       "</style>\n",
       "<table border=\"1\" class=\"dataframe\">\n",
       "  <thead>\n",
       "    <tr>\n",
       "      <th></th>\n",
       "      <th>user_id</th>\n",
       "      <th>AbGroup</th>\n",
       "      <th colspan=\"2\" halign=\"left\">gold_on_event_flag</th>\n",
       "      <th colspan=\"2\" halign=\"left\">gold_on_event</th>\n",
       "    </tr>\n",
       "    <tr>\n",
       "      <th></th>\n",
       "      <th></th>\n",
       "      <th></th>\n",
       "      <th>count</th>\n",
       "      <th>mean</th>\n",
       "      <th>mean</th>\n",
       "      <th>median</th>\n",
       "    </tr>\n",
       "  </thead>\n",
       "  <tbody>\n",
       "    <tr>\n",
       "      <th>0</th>\n",
       "      <td>00000d6d79ec151d74c5b0c0705d9d9fe252fe83</td>\n",
       "      <td>Control</td>\n",
       "      <td>2</td>\n",
       "      <td>0.000000</td>\n",
       "      <td>NaN</td>\n",
       "      <td>NaN</td>\n",
       "    </tr>\n",
       "    <tr>\n",
       "      <th>1</th>\n",
       "      <td>000133682d2dcd90c1a9c8ca5e34a294f31af64f</td>\n",
       "      <td>Control</td>\n",
       "      <td>19</td>\n",
       "      <td>0.105263</td>\n",
       "      <td>1250.0</td>\n",
       "      <td>1250.0</td>\n",
       "    </tr>\n",
       "    <tr>\n",
       "      <th>2</th>\n",
       "      <td>0001f13b0535b174bc7e36a1846c31c7a091c4b0</td>\n",
       "      <td>Control</td>\n",
       "      <td>11</td>\n",
       "      <td>0.000000</td>\n",
       "      <td>NaN</td>\n",
       "      <td>NaN</td>\n",
       "    </tr>\n",
       "    <tr>\n",
       "      <th>3</th>\n",
       "      <td>00021d57aced59fbfaf63ba620afada82fc06ca8</td>\n",
       "      <td>Test</td>\n",
       "      <td>13</td>\n",
       "      <td>0.000000</td>\n",
       "      <td>NaN</td>\n",
       "      <td>NaN</td>\n",
       "    </tr>\n",
       "    <tr>\n",
       "      <th>4</th>\n",
       "      <td>00027b7d34e10c17bfd4f76aa626403a2c5d1044</td>\n",
       "      <td>Test</td>\n",
       "      <td>7</td>\n",
       "      <td>0.000000</td>\n",
       "      <td>NaN</td>\n",
       "      <td>NaN</td>\n",
       "    </tr>\n",
       "    <tr>\n",
       "      <th>...</th>\n",
       "      <td>...</td>\n",
       "      <td>...</td>\n",
       "      <td>...</td>\n",
       "      <td>...</td>\n",
       "      <td>...</td>\n",
       "      <td>...</td>\n",
       "    </tr>\n",
       "    <tr>\n",
       "      <th>111307</th>\n",
       "      <td>fffea25b3877c861a4ebaa00e8fb9c5b96672e00</td>\n",
       "      <td>Control</td>\n",
       "      <td>1</td>\n",
       "      <td>0.000000</td>\n",
       "      <td>NaN</td>\n",
       "      <td>NaN</td>\n",
       "    </tr>\n",
       "    <tr>\n",
       "      <th>111308</th>\n",
       "      <td>fffeb6c54253ef0e7b0c4f38eb81a9dd9aebcb14</td>\n",
       "      <td>Control</td>\n",
       "      <td>5</td>\n",
       "      <td>0.000000</td>\n",
       "      <td>NaN</td>\n",
       "      <td>NaN</td>\n",
       "    </tr>\n",
       "    <tr>\n",
       "      <th>111309</th>\n",
       "      <td>ffff1964e1cb3bb0fc17c9ed440e3a6b6e6adf99</td>\n",
       "      <td>Control</td>\n",
       "      <td>6</td>\n",
       "      <td>0.000000</td>\n",
       "      <td>NaN</td>\n",
       "      <td>NaN</td>\n",
       "    </tr>\n",
       "    <tr>\n",
       "      <th>111310</th>\n",
       "      <td>ffff86c1dc72ba25d61ad8c92e9a5b3d6e2f5547</td>\n",
       "      <td>Control</td>\n",
       "      <td>5</td>\n",
       "      <td>0.000000</td>\n",
       "      <td>NaN</td>\n",
       "      <td>NaN</td>\n",
       "    </tr>\n",
       "    <tr>\n",
       "      <th>111311</th>\n",
       "      <td>ffffb50d0170ef0bc2eda7d20211b2c963c61e2a</td>\n",
       "      <td>Control</td>\n",
       "      <td>24</td>\n",
       "      <td>0.000000</td>\n",
       "      <td>NaN</td>\n",
       "      <td>NaN</td>\n",
       "    </tr>\n",
       "  </tbody>\n",
       "</table>\n",
       "<p>111312 rows × 6 columns</p>\n",
       "</div>"
      ],
      "text/plain": [
       "                                         user_id  AbGroup gold_on_event_flag  \\\n",
       "                                                                       count   \n",
       "0       00000d6d79ec151d74c5b0c0705d9d9fe252fe83  Control                  2   \n",
       "1       000133682d2dcd90c1a9c8ca5e34a294f31af64f  Control                 19   \n",
       "2       0001f13b0535b174bc7e36a1846c31c7a091c4b0  Control                 11   \n",
       "3       00021d57aced59fbfaf63ba620afada82fc06ca8     Test                 13   \n",
       "4       00027b7d34e10c17bfd4f76aa626403a2c5d1044     Test                  7   \n",
       "...                                          ...      ...                ...   \n",
       "111307  fffea25b3877c861a4ebaa00e8fb9c5b96672e00  Control                  1   \n",
       "111308  fffeb6c54253ef0e7b0c4f38eb81a9dd9aebcb14  Control                  5   \n",
       "111309  ffff1964e1cb3bb0fc17c9ed440e3a6b6e6adf99  Control                  6   \n",
       "111310  ffff86c1dc72ba25d61ad8c92e9a5b3d6e2f5547  Control                  5   \n",
       "111311  ffffb50d0170ef0bc2eda7d20211b2c963c61e2a  Control                 24   \n",
       "\n",
       "                 gold_on_event          \n",
       "            mean          mean  median  \n",
       "0       0.000000           NaN     NaN  \n",
       "1       0.105263        1250.0  1250.0  \n",
       "2       0.000000           NaN     NaN  \n",
       "3       0.000000           NaN     NaN  \n",
       "4       0.000000           NaN     NaN  \n",
       "...          ...           ...     ...  \n",
       "111307  0.000000           NaN     NaN  \n",
       "111308  0.000000           NaN     NaN  \n",
       "111309  0.000000           NaN     NaN  \n",
       "111310  0.000000           NaN     NaN  \n",
       "111311  0.000000           NaN     NaN  \n",
       "\n",
       "[111312 rows x 6 columns]"
      ]
     },
     "execution_count": 46,
     "metadata": {},
     "output_type": "execute_result"
    }
   ],
   "source": [
    "t"
   ]
  },
  {
   "cell_type": "code",
   "execution_count": 47,
   "id": "2de30748-f166-4ffc-926a-fdbe25d4cd36",
   "metadata": {
    "id": "KAdhxjY1j3uP"
   },
   "outputs": [],
   "source": [
    "t.columns = ['_'.join(el) for el in t.columns.to_flat_index()]"
   ]
  },
  {
   "cell_type": "code",
   "execution_count": 48,
   "id": "e897d052-ace4-4a37-be65-330906bb6bf6",
   "metadata": {
    "colab": {
     "base_uri": "https://localhost:8080/",
     "height": 417
    },
    "id": "0DVXjpgKkPPl",
    "outputId": "71615c5a-a09d-4f2c-c4f7-82abd84b951c"
   },
   "outputs": [
    {
     "data": {
      "text/html": [
       "<div>\n",
       "<style scoped>\n",
       "    .dataframe tbody tr th:only-of-type {\n",
       "        vertical-align: middle;\n",
       "    }\n",
       "\n",
       "    .dataframe tbody tr th {\n",
       "        vertical-align: top;\n",
       "    }\n",
       "\n",
       "    .dataframe thead th {\n",
       "        text-align: right;\n",
       "    }\n",
       "</style>\n",
       "<table border=\"1\" class=\"dataframe\">\n",
       "  <thead>\n",
       "    <tr style=\"text-align: right;\">\n",
       "      <th></th>\n",
       "      <th>user_id_</th>\n",
       "      <th>AbGroup_</th>\n",
       "      <th>gold_on_event_flag_count</th>\n",
       "      <th>gold_on_event_flag_mean</th>\n",
       "      <th>gold_on_event_mean</th>\n",
       "      <th>gold_on_event_median</th>\n",
       "    </tr>\n",
       "  </thead>\n",
       "  <tbody>\n",
       "    <tr>\n",
       "      <th>0</th>\n",
       "      <td>00000d6d79ec151d74c5b0c0705d9d9fe252fe83</td>\n",
       "      <td>Control</td>\n",
       "      <td>2</td>\n",
       "      <td>0.000000</td>\n",
       "      <td>NaN</td>\n",
       "      <td>NaN</td>\n",
       "    </tr>\n",
       "    <tr>\n",
       "      <th>1</th>\n",
       "      <td>000133682d2dcd90c1a9c8ca5e34a294f31af64f</td>\n",
       "      <td>Control</td>\n",
       "      <td>19</td>\n",
       "      <td>0.105263</td>\n",
       "      <td>1250.0</td>\n",
       "      <td>1250.0</td>\n",
       "    </tr>\n",
       "    <tr>\n",
       "      <th>2</th>\n",
       "      <td>0001f13b0535b174bc7e36a1846c31c7a091c4b0</td>\n",
       "      <td>Control</td>\n",
       "      <td>11</td>\n",
       "      <td>0.000000</td>\n",
       "      <td>NaN</td>\n",
       "      <td>NaN</td>\n",
       "    </tr>\n",
       "    <tr>\n",
       "      <th>3</th>\n",
       "      <td>00021d57aced59fbfaf63ba620afada82fc06ca8</td>\n",
       "      <td>Test</td>\n",
       "      <td>13</td>\n",
       "      <td>0.000000</td>\n",
       "      <td>NaN</td>\n",
       "      <td>NaN</td>\n",
       "    </tr>\n",
       "    <tr>\n",
       "      <th>4</th>\n",
       "      <td>00027b7d34e10c17bfd4f76aa626403a2c5d1044</td>\n",
       "      <td>Test</td>\n",
       "      <td>7</td>\n",
       "      <td>0.000000</td>\n",
       "      <td>NaN</td>\n",
       "      <td>NaN</td>\n",
       "    </tr>\n",
       "    <tr>\n",
       "      <th>...</th>\n",
       "      <td>...</td>\n",
       "      <td>...</td>\n",
       "      <td>...</td>\n",
       "      <td>...</td>\n",
       "      <td>...</td>\n",
       "      <td>...</td>\n",
       "    </tr>\n",
       "    <tr>\n",
       "      <th>111307</th>\n",
       "      <td>fffea25b3877c861a4ebaa00e8fb9c5b96672e00</td>\n",
       "      <td>Control</td>\n",
       "      <td>1</td>\n",
       "      <td>0.000000</td>\n",
       "      <td>NaN</td>\n",
       "      <td>NaN</td>\n",
       "    </tr>\n",
       "    <tr>\n",
       "      <th>111308</th>\n",
       "      <td>fffeb6c54253ef0e7b0c4f38eb81a9dd9aebcb14</td>\n",
       "      <td>Control</td>\n",
       "      <td>5</td>\n",
       "      <td>0.000000</td>\n",
       "      <td>NaN</td>\n",
       "      <td>NaN</td>\n",
       "    </tr>\n",
       "    <tr>\n",
       "      <th>111309</th>\n",
       "      <td>ffff1964e1cb3bb0fc17c9ed440e3a6b6e6adf99</td>\n",
       "      <td>Control</td>\n",
       "      <td>6</td>\n",
       "      <td>0.000000</td>\n",
       "      <td>NaN</td>\n",
       "      <td>NaN</td>\n",
       "    </tr>\n",
       "    <tr>\n",
       "      <th>111310</th>\n",
       "      <td>ffff86c1dc72ba25d61ad8c92e9a5b3d6e2f5547</td>\n",
       "      <td>Control</td>\n",
       "      <td>5</td>\n",
       "      <td>0.000000</td>\n",
       "      <td>NaN</td>\n",
       "      <td>NaN</td>\n",
       "    </tr>\n",
       "    <tr>\n",
       "      <th>111311</th>\n",
       "      <td>ffffb50d0170ef0bc2eda7d20211b2c963c61e2a</td>\n",
       "      <td>Control</td>\n",
       "      <td>24</td>\n",
       "      <td>0.000000</td>\n",
       "      <td>NaN</td>\n",
       "      <td>NaN</td>\n",
       "    </tr>\n",
       "  </tbody>\n",
       "</table>\n",
       "<p>111312 rows × 6 columns</p>\n",
       "</div>"
      ],
      "text/plain": [
       "                                        user_id_ AbGroup_  \\\n",
       "0       00000d6d79ec151d74c5b0c0705d9d9fe252fe83  Control   \n",
       "1       000133682d2dcd90c1a9c8ca5e34a294f31af64f  Control   \n",
       "2       0001f13b0535b174bc7e36a1846c31c7a091c4b0  Control   \n",
       "3       00021d57aced59fbfaf63ba620afada82fc06ca8     Test   \n",
       "4       00027b7d34e10c17bfd4f76aa626403a2c5d1044     Test   \n",
       "...                                          ...      ...   \n",
       "111307  fffea25b3877c861a4ebaa00e8fb9c5b96672e00  Control   \n",
       "111308  fffeb6c54253ef0e7b0c4f38eb81a9dd9aebcb14  Control   \n",
       "111309  ffff1964e1cb3bb0fc17c9ed440e3a6b6e6adf99  Control   \n",
       "111310  ffff86c1dc72ba25d61ad8c92e9a5b3d6e2f5547  Control   \n",
       "111311  ffffb50d0170ef0bc2eda7d20211b2c963c61e2a  Control   \n",
       "\n",
       "        gold_on_event_flag_count  gold_on_event_flag_mean  gold_on_event_mean  \\\n",
       "0                              2                 0.000000                 NaN   \n",
       "1                             19                 0.105263              1250.0   \n",
       "2                             11                 0.000000                 NaN   \n",
       "3                             13                 0.000000                 NaN   \n",
       "4                              7                 0.000000                 NaN   \n",
       "...                          ...                      ...                 ...   \n",
       "111307                         1                 0.000000                 NaN   \n",
       "111308                         5                 0.000000                 NaN   \n",
       "111309                         6                 0.000000                 NaN   \n",
       "111310                         5                 0.000000                 NaN   \n",
       "111311                        24                 0.000000                 NaN   \n",
       "\n",
       "        gold_on_event_median  \n",
       "0                        NaN  \n",
       "1                     1250.0  \n",
       "2                        NaN  \n",
       "3                        NaN  \n",
       "4                        NaN  \n",
       "...                      ...  \n",
       "111307                   NaN  \n",
       "111308                   NaN  \n",
       "111309                   NaN  \n",
       "111310                   NaN  \n",
       "111311                   NaN  \n",
       "\n",
       "[111312 rows x 6 columns]"
      ]
     },
     "execution_count": 48,
     "metadata": {},
     "output_type": "execute_result"
    }
   ],
   "source": [
    "t"
   ]
  },
  {
   "cell_type": "code",
   "execution_count": 49,
   "id": "f0b45a1e-8369-4754-98c4-b8dd89e92115",
   "metadata": {
    "id": "D3bycWuSlnSA"
   },
   "outputs": [],
   "source": [
    "t['user'] = 1"
   ]
  },
  {
   "cell_type": "code",
   "execution_count": 50,
   "id": "42271455-6814-44ad-944d-63eafd7dd427",
   "metadata": {
    "colab": {
     "base_uri": "https://localhost:8080/"
    },
    "id": "Nvr7LcPXlrQD",
    "outputId": "5c9588a4-edb2-46cd-ac34-3783e6e61827"
   },
   "outputs": [
    {
     "data": {
      "text/plain": [
       "Index(['user_id_', 'AbGroup_', 'gold_on_event_flag_count',\n",
       "       'gold_on_event_flag_mean', 'gold_on_event_mean', 'gold_on_event_median',\n",
       "       'user'],\n",
       "      dtype='object')"
      ]
     },
     "execution_count": 50,
     "metadata": {},
     "output_type": "execute_result"
    }
   ],
   "source": [
    "t.columns"
   ]
  },
  {
   "cell_type": "code",
   "execution_count": 51,
   "id": "a98699b6-d806-4eaa-87b7-2826de9dacba",
   "metadata": {
    "colab": {
     "base_uri": "https://localhost:8080/",
     "height": 172
    },
    "id": "SdGGg9PhkjHE",
    "outputId": "67a06595-c5e3-481e-f84c-309a392527d0"
   },
   "outputs": [
    {
     "name": "stderr",
     "output_type": "stream",
     "text": [
      "/tmp/ipykernel_2529/3019368485.py:1: FutureWarning: ['user_id_'] did not aggregate successfully. If any error is raised this will raise in a future version of pandas. Drop these columns/ops to avoid this warning.\n",
      "  t.groupby('AbGroup_').agg(['count','mean'])\n"
     ]
    },
    {
     "data": {
      "text/html": [
       "<div>\n",
       "<style scoped>\n",
       "    .dataframe tbody tr th:only-of-type {\n",
       "        vertical-align: middle;\n",
       "    }\n",
       "\n",
       "    .dataframe tbody tr th {\n",
       "        vertical-align: top;\n",
       "    }\n",
       "\n",
       "    .dataframe thead tr th {\n",
       "        text-align: left;\n",
       "    }\n",
       "\n",
       "    .dataframe thead tr:last-of-type th {\n",
       "        text-align: right;\n",
       "    }\n",
       "</style>\n",
       "<table border=\"1\" class=\"dataframe\">\n",
       "  <thead>\n",
       "    <tr>\n",
       "      <th></th>\n",
       "      <th colspan=\"2\" halign=\"left\">gold_on_event_flag_count</th>\n",
       "      <th colspan=\"2\" halign=\"left\">gold_on_event_flag_mean</th>\n",
       "      <th colspan=\"2\" halign=\"left\">gold_on_event_mean</th>\n",
       "      <th colspan=\"2\" halign=\"left\">gold_on_event_median</th>\n",
       "      <th colspan=\"2\" halign=\"left\">user</th>\n",
       "    </tr>\n",
       "    <tr>\n",
       "      <th></th>\n",
       "      <th>count</th>\n",
       "      <th>mean</th>\n",
       "      <th>count</th>\n",
       "      <th>mean</th>\n",
       "      <th>count</th>\n",
       "      <th>mean</th>\n",
       "      <th>count</th>\n",
       "      <th>mean</th>\n",
       "      <th>count</th>\n",
       "      <th>mean</th>\n",
       "    </tr>\n",
       "    <tr>\n",
       "      <th>AbGroup_</th>\n",
       "      <th></th>\n",
       "      <th></th>\n",
       "      <th></th>\n",
       "      <th></th>\n",
       "      <th></th>\n",
       "      <th></th>\n",
       "      <th></th>\n",
       "      <th></th>\n",
       "      <th></th>\n",
       "      <th></th>\n",
       "    </tr>\n",
       "  </thead>\n",
       "  <tbody>\n",
       "    <tr>\n",
       "      <th>Control</th>\n",
       "      <td>89034</td>\n",
       "      <td>6.268055</td>\n",
       "      <td>89034</td>\n",
       "      <td>0.031600</td>\n",
       "      <td>10685</td>\n",
       "      <td>2119.778819</td>\n",
       "      <td>10685</td>\n",
       "      <td>2002.976135</td>\n",
       "      <td>89034</td>\n",
       "      <td>1.0</td>\n",
       "    </tr>\n",
       "    <tr>\n",
       "      <th>Test</th>\n",
       "      <td>22278</td>\n",
       "      <td>6.229015</td>\n",
       "      <td>22278</td>\n",
       "      <td>0.030891</td>\n",
       "      <td>2603</td>\n",
       "      <td>2417.938571</td>\n",
       "      <td>2603</td>\n",
       "      <td>2296.811371</td>\n",
       "      <td>22278</td>\n",
       "      <td>1.0</td>\n",
       "    </tr>\n",
       "  </tbody>\n",
       "</table>\n",
       "</div>"
      ],
      "text/plain": [
       "         gold_on_event_flag_count           gold_on_event_flag_mean            \\\n",
       "                            count      mean                   count      mean   \n",
       "AbGroup_                                                                        \n",
       "Control                     89034  6.268055                   89034  0.031600   \n",
       "Test                        22278  6.229015                   22278  0.030891   \n",
       "\n",
       "         gold_on_event_mean              gold_on_event_median               \\\n",
       "                      count         mean                count         mean   \n",
       "AbGroup_                                                                     \n",
       "Control               10685  2119.778819                10685  2002.976135   \n",
       "Test                   2603  2417.938571                 2603  2296.811371   \n",
       "\n",
       "           user       \n",
       "          count mean  \n",
       "AbGroup_              \n",
       "Control   89034  1.0  \n",
       "Test      22278  1.0  "
      ]
     },
     "execution_count": 51,
     "metadata": {},
     "output_type": "execute_result"
    }
   ],
   "source": [
    "t.groupby('AbGroup_').agg(['count','mean'])"
   ]
  },
  {
   "cell_type": "code",
   "execution_count": 52,
   "id": "bee7b361-4d3c-4518-8526-f94dd45e51e7",
   "metadata": {
    "id": "wIVpd6xAm6xR"
   },
   "outputs": [],
   "source": [
    "group_size = df['AbGroup'].value_counts().values"
   ]
  },
  {
   "cell_type": "code",
   "execution_count": 53,
   "id": "3b7a7b74-f6d6-4138-8260-4565675d7eb0",
   "metadata": {
    "colab": {
     "base_uri": "https://localhost:8080/",
     "height": 290
    },
    "id": "W96dDcFPnPVw",
    "outputId": "471a9bd0-4719-4142-caf6-e51bbf6eb97b"
   },
   "outputs": [
    {
     "data": {
      "text/html": [
       "<div>\n",
       "<style scoped>\n",
       "    .dataframe tbody tr th:only-of-type {\n",
       "        vertical-align: middle;\n",
       "    }\n",
       "\n",
       "    .dataframe tbody tr th {\n",
       "        vertical-align: top;\n",
       "    }\n",
       "\n",
       "    .dataframe thead th {\n",
       "        text-align: right;\n",
       "    }\n",
       "</style>\n",
       "<table border=\"1\" class=\"dataframe\">\n",
       "  <thead>\n",
       "    <tr style=\"text-align: right;\">\n",
       "      <th></th>\n",
       "      <th>AbGroup</th>\n",
       "      <th>user_id</th>\n",
       "      <th>time_stamp</th>\n",
       "      <th>install_date</th>\n",
       "      <th>event_name</th>\n",
       "      <th>platform</th>\n",
       "      <th>network_name</th>\n",
       "      <th>country_name</th>\n",
       "      <th>InGameTime</th>\n",
       "      <th>LastCompletedLevel</th>\n",
       "      <th>avg_energy_amount</th>\n",
       "      <th>revenue_on_event</th>\n",
       "      <th>revenue_on_other_activities</th>\n",
       "      <th>gold_on_event</th>\n",
       "      <th>gold_on_other_activities</th>\n",
       "      <th>gold_on_event_flag</th>\n",
       "      <th>gold_on_other_activities_flag</th>\n",
       "    </tr>\n",
       "  </thead>\n",
       "  <tbody>\n",
       "    <tr>\n",
       "      <th>0</th>\n",
       "      <td>Control</td>\n",
       "      <td>d60ebcaecff2dc1d360a8a41271e6fd8a902c107</td>\n",
       "      <td>2020-02-10</td>\n",
       "      <td>2019-11-10</td>\n",
       "      <td>ResourceSpend</td>\n",
       "      <td>itunes</td>\n",
       "      <td>Organic</td>\n",
       "      <td>United Kingdom of Great Britain and Northern I...</td>\n",
       "      <td>276180</td>\n",
       "      <td>345</td>\n",
       "      <td>54.0</td>\n",
       "      <td>0.0</td>\n",
       "      <td>0.0</td>\n",
       "      <td>NaN</td>\n",
       "      <td>NaN</td>\n",
       "      <td>0</td>\n",
       "      <td>0</td>\n",
       "    </tr>\n",
       "    <tr>\n",
       "      <th>1</th>\n",
       "      <td>Test</td>\n",
       "      <td>f6e385b0ab43d5aea9cfcc408aa84029a4ea5fdb</td>\n",
       "      <td>2020-03-04</td>\n",
       "      <td>2019-11-05</td>\n",
       "      <td>ResourceSpend</td>\n",
       "      <td>itunes</td>\n",
       "      <td>Paid</td>\n",
       "      <td>United States of America</td>\n",
       "      <td>166095</td>\n",
       "      <td>199</td>\n",
       "      <td>50.0</td>\n",
       "      <td>0.0</td>\n",
       "      <td>0.0</td>\n",
       "      <td>NaN</td>\n",
       "      <td>NaN</td>\n",
       "      <td>0</td>\n",
       "      <td>0</td>\n",
       "    </tr>\n",
       "    <tr>\n",
       "      <th>2</th>\n",
       "      <td>Control</td>\n",
       "      <td>a4c80c8524e2c11cc238553d7b02da01ce2aad66</td>\n",
       "      <td>2020-02-26</td>\n",
       "      <td>2020-01-02</td>\n",
       "      <td>ResourceSpend</td>\n",
       "      <td>itunes</td>\n",
       "      <td>Paid</td>\n",
       "      <td>Canada</td>\n",
       "      <td>240986</td>\n",
       "      <td>84</td>\n",
       "      <td>39.0</td>\n",
       "      <td>0.0</td>\n",
       "      <td>0.0</td>\n",
       "      <td>NaN</td>\n",
       "      <td>NaN</td>\n",
       "      <td>0</td>\n",
       "      <td>0</td>\n",
       "    </tr>\n",
       "    <tr>\n",
       "      <th>3</th>\n",
       "      <td>Control</td>\n",
       "      <td>7ea2e4599ae33760c307e254839317bd5b17a63c</td>\n",
       "      <td>2020-02-21</td>\n",
       "      <td>2020-01-13</td>\n",
       "      <td>ResourceSpend</td>\n",
       "      <td>itunes</td>\n",
       "      <td>Organic</td>\n",
       "      <td>France</td>\n",
       "      <td>989822</td>\n",
       "      <td>1176</td>\n",
       "      <td>21.0</td>\n",
       "      <td>0.0</td>\n",
       "      <td>0.0</td>\n",
       "      <td>NaN</td>\n",
       "      <td>NaN</td>\n",
       "      <td>0</td>\n",
       "      <td>0</td>\n",
       "    </tr>\n",
       "    <tr>\n",
       "      <th>4</th>\n",
       "      <td>Control</td>\n",
       "      <td>6495168982929360dc6d84bf0766d8963a7ddc41</td>\n",
       "      <td>2020-02-18</td>\n",
       "      <td>2020-02-05</td>\n",
       "      <td>ResourceSpend</td>\n",
       "      <td>itunes</td>\n",
       "      <td>Paid</td>\n",
       "      <td>Spain</td>\n",
       "      <td>52106</td>\n",
       "      <td>66</td>\n",
       "      <td>43.0</td>\n",
       "      <td>0.0</td>\n",
       "      <td>0.0</td>\n",
       "      <td>500.0</td>\n",
       "      <td>NaN</td>\n",
       "      <td>1</td>\n",
       "      <td>0</td>\n",
       "    </tr>\n",
       "  </tbody>\n",
       "</table>\n",
       "</div>"
      ],
      "text/plain": [
       "   AbGroup                                   user_id time_stamp install_date  \\\n",
       "0  Control  d60ebcaecff2dc1d360a8a41271e6fd8a902c107 2020-02-10   2019-11-10   \n",
       "1     Test  f6e385b0ab43d5aea9cfcc408aa84029a4ea5fdb 2020-03-04   2019-11-05   \n",
       "2  Control  a4c80c8524e2c11cc238553d7b02da01ce2aad66 2020-02-26   2020-01-02   \n",
       "3  Control  7ea2e4599ae33760c307e254839317bd5b17a63c 2020-02-21   2020-01-13   \n",
       "4  Control  6495168982929360dc6d84bf0766d8963a7ddc41 2020-02-18   2020-02-05   \n",
       "\n",
       "      event_name platform network_name  \\\n",
       "0  ResourceSpend   itunes      Organic   \n",
       "1  ResourceSpend   itunes         Paid   \n",
       "2  ResourceSpend   itunes         Paid   \n",
       "3  ResourceSpend   itunes      Organic   \n",
       "4  ResourceSpend   itunes         Paid   \n",
       "\n",
       "                                        country_name  InGameTime  \\\n",
       "0  United Kingdom of Great Britain and Northern I...      276180   \n",
       "1                           United States of America      166095   \n",
       "2                                             Canada      240986   \n",
       "3                                             France      989822   \n",
       "4                                              Spain       52106   \n",
       "\n",
       "   LastCompletedLevel  avg_energy_amount  revenue_on_event  \\\n",
       "0                 345               54.0               0.0   \n",
       "1                 199               50.0               0.0   \n",
       "2                  84               39.0               0.0   \n",
       "3                1176               21.0               0.0   \n",
       "4                  66               43.0               0.0   \n",
       "\n",
       "   revenue_on_other_activities  gold_on_event  gold_on_other_activities  \\\n",
       "0                          0.0            NaN                       NaN   \n",
       "1                          0.0            NaN                       NaN   \n",
       "2                          0.0            NaN                       NaN   \n",
       "3                          0.0            NaN                       NaN   \n",
       "4                          0.0          500.0                       NaN   \n",
       "\n",
       "   gold_on_event_flag  gold_on_other_activities_flag  \n",
       "0                   0                              0  \n",
       "1                   0                              0  \n",
       "2                   0                              0  \n",
       "3                   0                              0  \n",
       "4                   1                              0  "
      ]
     },
     "execution_count": 53,
     "metadata": {},
     "output_type": "execute_result"
    }
   ],
   "source": [
    "df.head()"
   ]
  },
  {
   "cell_type": "code",
   "execution_count": 55,
   "id": "466b1cc6-7d7f-4631-af86-743af4a27d53",
   "metadata": {
    "colab": {
     "base_uri": "https://localhost:8080/",
     "height": 172
    },
    "id": "yEGbJbRonYf8",
    "outputId": "c22ce033-a0ef-4850-a0a9-047ba6ccdf4c"
   },
   "outputs": [
    {
     "data": {
      "text/html": [
       "<div>\n",
       "<style scoped>\n",
       "    .dataframe tbody tr th:only-of-type {\n",
       "        vertical-align: middle;\n",
       "    }\n",
       "\n",
       "    .dataframe tbody tr th {\n",
       "        vertical-align: top;\n",
       "    }\n",
       "\n",
       "    .dataframe thead tr th {\n",
       "        text-align: left;\n",
       "    }\n",
       "\n",
       "    .dataframe thead tr:last-of-type th {\n",
       "        text-align: right;\n",
       "    }\n",
       "</style>\n",
       "<table border=\"1\" class=\"dataframe\">\n",
       "  <thead>\n",
       "    <tr>\n",
       "      <th></th>\n",
       "      <th colspan=\"2\" halign=\"left\">gold_on_event_flag</th>\n",
       "      <th colspan=\"2\" halign=\"left\">gold_on_event</th>\n",
       "    </tr>\n",
       "    <tr>\n",
       "      <th></th>\n",
       "      <th>count</th>\n",
       "      <th>mean</th>\n",
       "      <th>mean</th>\n",
       "      <th>median</th>\n",
       "    </tr>\n",
       "    <tr>\n",
       "      <th>AbGroup</th>\n",
       "      <th></th>\n",
       "      <th></th>\n",
       "      <th></th>\n",
       "      <th></th>\n",
       "    </tr>\n",
       "  </thead>\n",
       "  <tbody>\n",
       "    <tr>\n",
       "      <th>Control</th>\n",
       "      <td>558070</td>\n",
       "      <td>0.06523</td>\n",
       "      <td>1965.211658</td>\n",
       "      <td>1000.0</td>\n",
       "    </tr>\n",
       "    <tr>\n",
       "      <th>Test</th>\n",
       "      <td>138770</td>\n",
       "      <td>0.06492</td>\n",
       "      <td>2104.606505</td>\n",
       "      <td>1500.0</td>\n",
       "    </tr>\n",
       "  </tbody>\n",
       "</table>\n",
       "</div>"
      ],
      "text/plain": [
       "        gold_on_event_flag          gold_on_event        \n",
       "                     count     mean          mean  median\n",
       "AbGroup                                                  \n",
       "Control             558070  0.06523   1965.211658  1000.0\n",
       "Test                138770  0.06492   2104.606505  1500.0"
      ]
     },
     "execution_count": 55,
     "metadata": {},
     "output_type": "execute_result"
    }
   ],
   "source": [
    "(df.groupby(['AbGroup'])[['gold_on_event_flag','gold_on_event']]\n",
    "    .agg({'gold_on_event_flag':['count','mean'],'gold_on_event':['mean','median']}))"
   ]
  },
  {
   "cell_type": "code",
   "execution_count": 56,
   "id": "4c63bec6-94d3-47c3-96b8-bf8c64b9d929",
   "metadata": {
    "colab": {
     "base_uri": "https://localhost:8080/",
     "height": 290
    },
    "id": "COTSdnyUn0HG",
    "outputId": "64d164e8-5786-4f0b-96ac-c2984e4c4ac6"
   },
   "outputs": [
    {
     "data": {
      "text/html": [
       "<div>\n",
       "<style scoped>\n",
       "    .dataframe tbody tr th:only-of-type {\n",
       "        vertical-align: middle;\n",
       "    }\n",
       "\n",
       "    .dataframe tbody tr th {\n",
       "        vertical-align: top;\n",
       "    }\n",
       "\n",
       "    .dataframe thead th {\n",
       "        text-align: right;\n",
       "    }\n",
       "</style>\n",
       "<table border=\"1\" class=\"dataframe\">\n",
       "  <thead>\n",
       "    <tr style=\"text-align: right;\">\n",
       "      <th></th>\n",
       "      <th>AbGroup</th>\n",
       "      <th>user_id</th>\n",
       "      <th>time_stamp</th>\n",
       "      <th>install_date</th>\n",
       "      <th>event_name</th>\n",
       "      <th>platform</th>\n",
       "      <th>network_name</th>\n",
       "      <th>country_name</th>\n",
       "      <th>InGameTime</th>\n",
       "      <th>LastCompletedLevel</th>\n",
       "      <th>avg_energy_amount</th>\n",
       "      <th>revenue_on_event</th>\n",
       "      <th>revenue_on_other_activities</th>\n",
       "      <th>gold_on_event</th>\n",
       "      <th>gold_on_other_activities</th>\n",
       "      <th>gold_on_event_flag</th>\n",
       "      <th>gold_on_other_activities_flag</th>\n",
       "    </tr>\n",
       "  </thead>\n",
       "  <tbody>\n",
       "    <tr>\n",
       "      <th>0</th>\n",
       "      <td>Control</td>\n",
       "      <td>d60ebcaecff2dc1d360a8a41271e6fd8a902c107</td>\n",
       "      <td>2020-02-10</td>\n",
       "      <td>2019-11-10</td>\n",
       "      <td>ResourceSpend</td>\n",
       "      <td>itunes</td>\n",
       "      <td>Organic</td>\n",
       "      <td>United Kingdom of Great Britain and Northern I...</td>\n",
       "      <td>276180</td>\n",
       "      <td>345</td>\n",
       "      <td>54.0</td>\n",
       "      <td>0.0</td>\n",
       "      <td>0.0</td>\n",
       "      <td>NaN</td>\n",
       "      <td>NaN</td>\n",
       "      <td>0</td>\n",
       "      <td>0</td>\n",
       "    </tr>\n",
       "    <tr>\n",
       "      <th>1</th>\n",
       "      <td>Test</td>\n",
       "      <td>f6e385b0ab43d5aea9cfcc408aa84029a4ea5fdb</td>\n",
       "      <td>2020-03-04</td>\n",
       "      <td>2019-11-05</td>\n",
       "      <td>ResourceSpend</td>\n",
       "      <td>itunes</td>\n",
       "      <td>Paid</td>\n",
       "      <td>United States of America</td>\n",
       "      <td>166095</td>\n",
       "      <td>199</td>\n",
       "      <td>50.0</td>\n",
       "      <td>0.0</td>\n",
       "      <td>0.0</td>\n",
       "      <td>NaN</td>\n",
       "      <td>NaN</td>\n",
       "      <td>0</td>\n",
       "      <td>0</td>\n",
       "    </tr>\n",
       "    <tr>\n",
       "      <th>2</th>\n",
       "      <td>Control</td>\n",
       "      <td>a4c80c8524e2c11cc238553d7b02da01ce2aad66</td>\n",
       "      <td>2020-02-26</td>\n",
       "      <td>2020-01-02</td>\n",
       "      <td>ResourceSpend</td>\n",
       "      <td>itunes</td>\n",
       "      <td>Paid</td>\n",
       "      <td>Canada</td>\n",
       "      <td>240986</td>\n",
       "      <td>84</td>\n",
       "      <td>39.0</td>\n",
       "      <td>0.0</td>\n",
       "      <td>0.0</td>\n",
       "      <td>NaN</td>\n",
       "      <td>NaN</td>\n",
       "      <td>0</td>\n",
       "      <td>0</td>\n",
       "    </tr>\n",
       "    <tr>\n",
       "      <th>3</th>\n",
       "      <td>Control</td>\n",
       "      <td>7ea2e4599ae33760c307e254839317bd5b17a63c</td>\n",
       "      <td>2020-02-21</td>\n",
       "      <td>2020-01-13</td>\n",
       "      <td>ResourceSpend</td>\n",
       "      <td>itunes</td>\n",
       "      <td>Organic</td>\n",
       "      <td>France</td>\n",
       "      <td>989822</td>\n",
       "      <td>1176</td>\n",
       "      <td>21.0</td>\n",
       "      <td>0.0</td>\n",
       "      <td>0.0</td>\n",
       "      <td>NaN</td>\n",
       "      <td>NaN</td>\n",
       "      <td>0</td>\n",
       "      <td>0</td>\n",
       "    </tr>\n",
       "    <tr>\n",
       "      <th>4</th>\n",
       "      <td>Control</td>\n",
       "      <td>6495168982929360dc6d84bf0766d8963a7ddc41</td>\n",
       "      <td>2020-02-18</td>\n",
       "      <td>2020-02-05</td>\n",
       "      <td>ResourceSpend</td>\n",
       "      <td>itunes</td>\n",
       "      <td>Paid</td>\n",
       "      <td>Spain</td>\n",
       "      <td>52106</td>\n",
       "      <td>66</td>\n",
       "      <td>43.0</td>\n",
       "      <td>0.0</td>\n",
       "      <td>0.0</td>\n",
       "      <td>500.0</td>\n",
       "      <td>NaN</td>\n",
       "      <td>1</td>\n",
       "      <td>0</td>\n",
       "    </tr>\n",
       "  </tbody>\n",
       "</table>\n",
       "</div>"
      ],
      "text/plain": [
       "   AbGroup                                   user_id time_stamp install_date  \\\n",
       "0  Control  d60ebcaecff2dc1d360a8a41271e6fd8a902c107 2020-02-10   2019-11-10   \n",
       "1     Test  f6e385b0ab43d5aea9cfcc408aa84029a4ea5fdb 2020-03-04   2019-11-05   \n",
       "2  Control  a4c80c8524e2c11cc238553d7b02da01ce2aad66 2020-02-26   2020-01-02   \n",
       "3  Control  7ea2e4599ae33760c307e254839317bd5b17a63c 2020-02-21   2020-01-13   \n",
       "4  Control  6495168982929360dc6d84bf0766d8963a7ddc41 2020-02-18   2020-02-05   \n",
       "\n",
       "      event_name platform network_name  \\\n",
       "0  ResourceSpend   itunes      Organic   \n",
       "1  ResourceSpend   itunes         Paid   \n",
       "2  ResourceSpend   itunes         Paid   \n",
       "3  ResourceSpend   itunes      Organic   \n",
       "4  ResourceSpend   itunes         Paid   \n",
       "\n",
       "                                        country_name  InGameTime  \\\n",
       "0  United Kingdom of Great Britain and Northern I...      276180   \n",
       "1                           United States of America      166095   \n",
       "2                                             Canada      240986   \n",
       "3                                             France      989822   \n",
       "4                                              Spain       52106   \n",
       "\n",
       "   LastCompletedLevel  avg_energy_amount  revenue_on_event  \\\n",
       "0                 345               54.0               0.0   \n",
       "1                 199               50.0               0.0   \n",
       "2                  84               39.0               0.0   \n",
       "3                1176               21.0               0.0   \n",
       "4                  66               43.0               0.0   \n",
       "\n",
       "   revenue_on_other_activities  gold_on_event  gold_on_other_activities  \\\n",
       "0                          0.0            NaN                       NaN   \n",
       "1                          0.0            NaN                       NaN   \n",
       "2                          0.0            NaN                       NaN   \n",
       "3                          0.0            NaN                       NaN   \n",
       "4                          0.0          500.0                       NaN   \n",
       "\n",
       "   gold_on_event_flag  gold_on_other_activities_flag  \n",
       "0                   0                              0  \n",
       "1                   0                              0  \n",
       "2                   0                              0  \n",
       "3                   0                              0  \n",
       "4                   1                              0  "
      ]
     },
     "execution_count": 56,
     "metadata": {},
     "output_type": "execute_result"
    }
   ],
   "source": [
    "df.head()"
   ]
  },
  {
   "cell_type": "code",
   "execution_count": 57,
   "id": "32f2e652-b47c-4cee-8875-09c0f9504355",
   "metadata": {
    "colab": {
     "base_uri": "https://localhost:8080/"
    },
    "id": "G5VASWANoANl",
    "outputId": "9d0b9fd0-11d4-4d64-8c0d-37e9a86255a1"
   },
   "outputs": [
    {
     "data": {
      "text/plain": [
       "array([558070, 138770])"
      ]
     },
     "execution_count": 57,
     "metadata": {},
     "output_type": "execute_result"
    }
   ],
   "source": [
    "group_size"
   ]
  },
  {
   "cell_type": "markdown",
   "id": "74cf46f1-d152-4453-a13b-cda2d8cf47f0",
   "metadata": {
    "id": "A_iGgSUpobnQ"
   },
   "source": [
    "## tqdm"
   ]
  },
  {
   "cell_type": "code",
   "execution_count": 61,
   "id": "1e0a1b75-adf2-419e-95ef-32e9de5fe3b3",
   "metadata": {
    "colab": {
     "base_uri": "https://localhost:8080/",
     "height": 66,
     "referenced_widgets": [
      "f0f6497f731f468eaaf52af213cf0074",
      "48e51510471d483485c1036edfe13603",
      "824f77f1a9374a458b06186b754be76d",
      "0775099b2a7e44cf85c983541e4e2fa1",
      "312df46f81c74f10adb3f936ddd2f85d",
      "c4bb0679f8f945b18892229ccaa2deb3",
      "1c0999c6efe244a8ae5f448bb93f9008",
      "09c58c71675d4fa2824efa3514719c19"
     ]
    },
    "id": "VAzfXUJkmuwU",
    "outputId": "e095ddca-3480-4944-848b-f221250c9774"
   },
   "outputs": [
    {
     "data": {
      "application/vnd.jupyter.widget-view+json": {
       "model_id": "9df4cd954ee344958e9a53f127dce52b",
       "version_major": 2,
       "version_minor": 0
      },
      "text/plain": [
       "  0%|          | 0/1000 [00:00<?, ?it/s]"
      ]
     },
     "metadata": {},
     "output_type": "display_data"
    }
   ],
   "source": [
    "n = 1000\n",
    "result = []\n",
    "base_diff = 500\n",
    "\n",
    "for _ in tqdm(range(n)):\n",
    "  a = df.sample(group_size[0],replace=True)['gold_on_event'].median()\n",
    "  b = df.sample(group_size[1],replace=True)['gold_on_event'].median()\n",
    "  result.append(np.abs(a-b) >= base_diff)"
   ]
  },
  {
   "cell_type": "code",
   "execution_count": 65,
   "id": "b1a7e2fc-d681-46b6-96ec-d656e1e7585c",
   "metadata": {
    "colab": {
     "base_uri": "https://localhost:8080/"
    },
    "id": "b4PlI4VDqLo7",
    "outputId": "67bcf0b5-1fe9-4206-e684-64b35e77bd63"
   },
   "outputs": [
    {
     "data": {
      "text/plain": [
       "0.105"
      ]
     },
     "execution_count": 65,
     "metadata": {},
     "output_type": "execute_result"
    }
   ],
   "source": [
    "np.mean(result)"
   ]
  },
  {
   "cell_type": "code",
   "execution_count": 66,
   "id": "ff445a7b-6700-4f87-a198-e028942ae705",
   "metadata": {
    "colab": {
     "base_uri": "https://localhost:8080/",
     "height": 504
    },
    "id": "s1QWCAX-lAAr",
    "outputId": "7b417091-1faf-4c4a-9a50-6a7ced2a1d7a"
   },
   "outputs": [
    {
     "data": {
      "text/html": [
       "<div>\n",
       "<style scoped>\n",
       "    .dataframe tbody tr th:only-of-type {\n",
       "        vertical-align: middle;\n",
       "    }\n",
       "\n",
       "    .dataframe tbody tr th {\n",
       "        vertical-align: top;\n",
       "    }\n",
       "\n",
       "    .dataframe thead th {\n",
       "        text-align: right;\n",
       "    }\n",
       "</style>\n",
       "<table border=\"1\" class=\"dataframe\">\n",
       "  <thead>\n",
       "    <tr style=\"text-align: right;\">\n",
       "      <th></th>\n",
       "      <th>AbGroup</th>\n",
       "      <th>user_id</th>\n",
       "      <th>time_stamp</th>\n",
       "      <th>install_date</th>\n",
       "      <th>event_name</th>\n",
       "      <th>platform</th>\n",
       "      <th>network_name</th>\n",
       "      <th>country_name</th>\n",
       "      <th>InGameTime</th>\n",
       "      <th>LastCompletedLevel</th>\n",
       "      <th>avg_energy_amount</th>\n",
       "      <th>revenue_on_event</th>\n",
       "      <th>revenue_on_other_activities</th>\n",
       "      <th>gold_on_event</th>\n",
       "      <th>gold_on_other_activities</th>\n",
       "      <th>gold_on_event_flag</th>\n",
       "      <th>gold_on_other_activities_flag</th>\n",
       "    </tr>\n",
       "  </thead>\n",
       "  <tbody>\n",
       "    <tr>\n",
       "      <th>0</th>\n",
       "      <td>Control</td>\n",
       "      <td>d60ebcaecff2dc1d360a8a41271e6fd8a902c107</td>\n",
       "      <td>2020-02-10</td>\n",
       "      <td>2019-11-10</td>\n",
       "      <td>ResourceSpend</td>\n",
       "      <td>itunes</td>\n",
       "      <td>Organic</td>\n",
       "      <td>United Kingdom of Great Britain and Northern I...</td>\n",
       "      <td>276180</td>\n",
       "      <td>345</td>\n",
       "      <td>54.0</td>\n",
       "      <td>0.0</td>\n",
       "      <td>0.0</td>\n",
       "      <td>NaN</td>\n",
       "      <td>NaN</td>\n",
       "      <td>0</td>\n",
       "      <td>0</td>\n",
       "    </tr>\n",
       "    <tr>\n",
       "      <th>1</th>\n",
       "      <td>Test</td>\n",
       "      <td>f6e385b0ab43d5aea9cfcc408aa84029a4ea5fdb</td>\n",
       "      <td>2020-03-04</td>\n",
       "      <td>2019-11-05</td>\n",
       "      <td>ResourceSpend</td>\n",
       "      <td>itunes</td>\n",
       "      <td>Paid</td>\n",
       "      <td>United States of America</td>\n",
       "      <td>166095</td>\n",
       "      <td>199</td>\n",
       "      <td>50.0</td>\n",
       "      <td>0.0</td>\n",
       "      <td>0.0</td>\n",
       "      <td>NaN</td>\n",
       "      <td>NaN</td>\n",
       "      <td>0</td>\n",
       "      <td>0</td>\n",
       "    </tr>\n",
       "    <tr>\n",
       "      <th>2</th>\n",
       "      <td>Control</td>\n",
       "      <td>a4c80c8524e2c11cc238553d7b02da01ce2aad66</td>\n",
       "      <td>2020-02-26</td>\n",
       "      <td>2020-01-02</td>\n",
       "      <td>ResourceSpend</td>\n",
       "      <td>itunes</td>\n",
       "      <td>Paid</td>\n",
       "      <td>Canada</td>\n",
       "      <td>240986</td>\n",
       "      <td>84</td>\n",
       "      <td>39.0</td>\n",
       "      <td>0.0</td>\n",
       "      <td>0.0</td>\n",
       "      <td>NaN</td>\n",
       "      <td>NaN</td>\n",
       "      <td>0</td>\n",
       "      <td>0</td>\n",
       "    </tr>\n",
       "    <tr>\n",
       "      <th>3</th>\n",
       "      <td>Control</td>\n",
       "      <td>7ea2e4599ae33760c307e254839317bd5b17a63c</td>\n",
       "      <td>2020-02-21</td>\n",
       "      <td>2020-01-13</td>\n",
       "      <td>ResourceSpend</td>\n",
       "      <td>itunes</td>\n",
       "      <td>Organic</td>\n",
       "      <td>France</td>\n",
       "      <td>989822</td>\n",
       "      <td>1176</td>\n",
       "      <td>21.0</td>\n",
       "      <td>0.0</td>\n",
       "      <td>0.0</td>\n",
       "      <td>NaN</td>\n",
       "      <td>NaN</td>\n",
       "      <td>0</td>\n",
       "      <td>0</td>\n",
       "    </tr>\n",
       "    <tr>\n",
       "      <th>4</th>\n",
       "      <td>Control</td>\n",
       "      <td>6495168982929360dc6d84bf0766d8963a7ddc41</td>\n",
       "      <td>2020-02-18</td>\n",
       "      <td>2020-02-05</td>\n",
       "      <td>ResourceSpend</td>\n",
       "      <td>itunes</td>\n",
       "      <td>Paid</td>\n",
       "      <td>Spain</td>\n",
       "      <td>52106</td>\n",
       "      <td>66</td>\n",
       "      <td>43.0</td>\n",
       "      <td>0.0</td>\n",
       "      <td>0.0</td>\n",
       "      <td>500.0</td>\n",
       "      <td>NaN</td>\n",
       "      <td>1</td>\n",
       "      <td>0</td>\n",
       "    </tr>\n",
       "    <tr>\n",
       "      <th>...</th>\n",
       "      <td>...</td>\n",
       "      <td>...</td>\n",
       "      <td>...</td>\n",
       "      <td>...</td>\n",
       "      <td>...</td>\n",
       "      <td>...</td>\n",
       "      <td>...</td>\n",
       "      <td>...</td>\n",
       "      <td>...</td>\n",
       "      <td>...</td>\n",
       "      <td>...</td>\n",
       "      <td>...</td>\n",
       "      <td>...</td>\n",
       "      <td>...</td>\n",
       "      <td>...</td>\n",
       "      <td>...</td>\n",
       "      <td>...</td>\n",
       "    </tr>\n",
       "    <tr>\n",
       "      <th>696835</th>\n",
       "      <td>Control</td>\n",
       "      <td>cb394bfaa14de91ca99f566e1cede909285dc338</td>\n",
       "      <td>2020-03-01</td>\n",
       "      <td>2019-11-03</td>\n",
       "      <td>ResourceSpend</td>\n",
       "      <td>itunes</td>\n",
       "      <td>Paid</td>\n",
       "      <td>Canada</td>\n",
       "      <td>73805</td>\n",
       "      <td>101</td>\n",
       "      <td>23.0</td>\n",
       "      <td>0.0</td>\n",
       "      <td>0.0</td>\n",
       "      <td>NaN</td>\n",
       "      <td>NaN</td>\n",
       "      <td>0</td>\n",
       "      <td>0</td>\n",
       "    </tr>\n",
       "    <tr>\n",
       "      <th>696836</th>\n",
       "      <td>Test</td>\n",
       "      <td>b61b6d950bc376fc23581fa9c8e4d3c75d2dcd9a</td>\n",
       "      <td>2020-03-04</td>\n",
       "      <td>2020-01-03</td>\n",
       "      <td>ResourceSpend</td>\n",
       "      <td>itunes</td>\n",
       "      <td>Organic</td>\n",
       "      <td>Spain</td>\n",
       "      <td>733369</td>\n",
       "      <td>415</td>\n",
       "      <td>62.0</td>\n",
       "      <td>0.0</td>\n",
       "      <td>0.0</td>\n",
       "      <td>NaN</td>\n",
       "      <td>NaN</td>\n",
       "      <td>0</td>\n",
       "      <td>0</td>\n",
       "    </tr>\n",
       "    <tr>\n",
       "      <th>696837</th>\n",
       "      <td>Control</td>\n",
       "      <td>be989a271b16dfa4e9ac2d877a07ce0f2fdb456c</td>\n",
       "      <td>2020-02-29</td>\n",
       "      <td>2019-01-13</td>\n",
       "      <td>ResourceSpend</td>\n",
       "      <td>itunes</td>\n",
       "      <td>Organic</td>\n",
       "      <td>Germany</td>\n",
       "      <td>75273</td>\n",
       "      <td>331</td>\n",
       "      <td>22.0</td>\n",
       "      <td>0.0</td>\n",
       "      <td>0.0</td>\n",
       "      <td>NaN</td>\n",
       "      <td>NaN</td>\n",
       "      <td>0</td>\n",
       "      <td>0</td>\n",
       "    </tr>\n",
       "    <tr>\n",
       "      <th>696838</th>\n",
       "      <td>Control</td>\n",
       "      <td>5435fa8319c96097de76557f077659ce4f187262</td>\n",
       "      <td>2020-02-28</td>\n",
       "      <td>2019-02-14</td>\n",
       "      <td>ResourceSpend</td>\n",
       "      <td>itunes</td>\n",
       "      <td>Organic</td>\n",
       "      <td>Germany</td>\n",
       "      <td>908230</td>\n",
       "      <td>1287</td>\n",
       "      <td>58.0</td>\n",
       "      <td>0.0</td>\n",
       "      <td>0.0</td>\n",
       "      <td>NaN</td>\n",
       "      <td>NaN</td>\n",
       "      <td>0</td>\n",
       "      <td>0</td>\n",
       "    </tr>\n",
       "    <tr>\n",
       "      <th>696839</th>\n",
       "      <td>Control</td>\n",
       "      <td>d515d8402ba14e04801f3f4117f831870dcbe757</td>\n",
       "      <td>2020-02-27</td>\n",
       "      <td>2019-06-03</td>\n",
       "      <td>ResourceSpend</td>\n",
       "      <td>itunes</td>\n",
       "      <td>Paid</td>\n",
       "      <td>France</td>\n",
       "      <td>1466832</td>\n",
       "      <td>839</td>\n",
       "      <td>60.0</td>\n",
       "      <td>0.0</td>\n",
       "      <td>0.0</td>\n",
       "      <td>NaN</td>\n",
       "      <td>NaN</td>\n",
       "      <td>0</td>\n",
       "      <td>0</td>\n",
       "    </tr>\n",
       "  </tbody>\n",
       "</table>\n",
       "<p>696840 rows × 17 columns</p>\n",
       "</div>"
      ],
      "text/plain": [
       "        AbGroup                                   user_id time_stamp  \\\n",
       "0       Control  d60ebcaecff2dc1d360a8a41271e6fd8a902c107 2020-02-10   \n",
       "1          Test  f6e385b0ab43d5aea9cfcc408aa84029a4ea5fdb 2020-03-04   \n",
       "2       Control  a4c80c8524e2c11cc238553d7b02da01ce2aad66 2020-02-26   \n",
       "3       Control  7ea2e4599ae33760c307e254839317bd5b17a63c 2020-02-21   \n",
       "4       Control  6495168982929360dc6d84bf0766d8963a7ddc41 2020-02-18   \n",
       "...         ...                                       ...        ...   \n",
       "696835  Control  cb394bfaa14de91ca99f566e1cede909285dc338 2020-03-01   \n",
       "696836     Test  b61b6d950bc376fc23581fa9c8e4d3c75d2dcd9a 2020-03-04   \n",
       "696837  Control  be989a271b16dfa4e9ac2d877a07ce0f2fdb456c 2020-02-29   \n",
       "696838  Control  5435fa8319c96097de76557f077659ce4f187262 2020-02-28   \n",
       "696839  Control  d515d8402ba14e04801f3f4117f831870dcbe757 2020-02-27   \n",
       "\n",
       "       install_date     event_name platform network_name  \\\n",
       "0        2019-11-10  ResourceSpend   itunes      Organic   \n",
       "1        2019-11-05  ResourceSpend   itunes         Paid   \n",
       "2        2020-01-02  ResourceSpend   itunes         Paid   \n",
       "3        2020-01-13  ResourceSpend   itunes      Organic   \n",
       "4        2020-02-05  ResourceSpend   itunes         Paid   \n",
       "...             ...            ...      ...          ...   \n",
       "696835   2019-11-03  ResourceSpend   itunes         Paid   \n",
       "696836   2020-01-03  ResourceSpend   itunes      Organic   \n",
       "696837   2019-01-13  ResourceSpend   itunes      Organic   \n",
       "696838   2019-02-14  ResourceSpend   itunes      Organic   \n",
       "696839   2019-06-03  ResourceSpend   itunes         Paid   \n",
       "\n",
       "                                             country_name  InGameTime  \\\n",
       "0       United Kingdom of Great Britain and Northern I...      276180   \n",
       "1                                United States of America      166095   \n",
       "2                                                  Canada      240986   \n",
       "3                                                  France      989822   \n",
       "4                                                   Spain       52106   \n",
       "...                                                   ...         ...   \n",
       "696835                                             Canada       73805   \n",
       "696836                                              Spain      733369   \n",
       "696837                                            Germany       75273   \n",
       "696838                                            Germany      908230   \n",
       "696839                                             France     1466832   \n",
       "\n",
       "        LastCompletedLevel  avg_energy_amount  revenue_on_event  \\\n",
       "0                      345               54.0               0.0   \n",
       "1                      199               50.0               0.0   \n",
       "2                       84               39.0               0.0   \n",
       "3                     1176               21.0               0.0   \n",
       "4                       66               43.0               0.0   \n",
       "...                    ...                ...               ...   \n",
       "696835                 101               23.0               0.0   \n",
       "696836                 415               62.0               0.0   \n",
       "696837                 331               22.0               0.0   \n",
       "696838                1287               58.0               0.0   \n",
       "696839                 839               60.0               0.0   \n",
       "\n",
       "        revenue_on_other_activities  gold_on_event  gold_on_other_activities  \\\n",
       "0                               0.0            NaN                       NaN   \n",
       "1                               0.0            NaN                       NaN   \n",
       "2                               0.0            NaN                       NaN   \n",
       "3                               0.0            NaN                       NaN   \n",
       "4                               0.0          500.0                       NaN   \n",
       "...                             ...            ...                       ...   \n",
       "696835                          0.0            NaN                       NaN   \n",
       "696836                          0.0            NaN                       NaN   \n",
       "696837                          0.0            NaN                       NaN   \n",
       "696838                          0.0            NaN                       NaN   \n",
       "696839                          0.0            NaN                       NaN   \n",
       "\n",
       "        gold_on_event_flag  gold_on_other_activities_flag  \n",
       "0                        0                              0  \n",
       "1                        0                              0  \n",
       "2                        0                              0  \n",
       "3                        0                              0  \n",
       "4                        1                              0  \n",
       "...                    ...                            ...  \n",
       "696835                   0                              0  \n",
       "696836                   0                              0  \n",
       "696837                   0                              0  \n",
       "696838                   0                              0  \n",
       "696839                   0                              0  \n",
       "\n",
       "[696840 rows x 17 columns]"
      ]
     },
     "execution_count": 66,
     "metadata": {},
     "output_type": "execute_result"
    }
   ],
   "source": [
    "df"
   ]
  },
  {
   "cell_type": "code",
   "execution_count": 67,
   "id": "bbff6d26-9a17-42e8-94aa-01a20bcb7a0d",
   "metadata": {
    "colab": {
     "base_uri": "https://localhost:8080/",
     "height": 172
    },
    "id": "mfgod8MFtXHN",
    "outputId": "390237a3-8348-435c-b90e-59f3e82295ff"
   },
   "outputs": [
    {
     "data": {
      "text/html": [
       "<div>\n",
       "<style scoped>\n",
       "    .dataframe tbody tr th:only-of-type {\n",
       "        vertical-align: middle;\n",
       "    }\n",
       "\n",
       "    .dataframe tbody tr th {\n",
       "        vertical-align: top;\n",
       "    }\n",
       "\n",
       "    .dataframe thead tr th {\n",
       "        text-align: left;\n",
       "    }\n",
       "\n",
       "    .dataframe thead tr:last-of-type th {\n",
       "        text-align: right;\n",
       "    }\n",
       "</style>\n",
       "<table border=\"1\" class=\"dataframe\">\n",
       "  <thead>\n",
       "    <tr>\n",
       "      <th></th>\n",
       "      <th colspan=\"2\" halign=\"left\">gold_on_event_flag</th>\n",
       "      <th colspan=\"2\" halign=\"left\">gold_on_event</th>\n",
       "    </tr>\n",
       "    <tr>\n",
       "      <th></th>\n",
       "      <th>count</th>\n",
       "      <th>mean</th>\n",
       "      <th>mean</th>\n",
       "      <th>median</th>\n",
       "    </tr>\n",
       "    <tr>\n",
       "      <th>AbGroup</th>\n",
       "      <th></th>\n",
       "      <th></th>\n",
       "      <th></th>\n",
       "      <th></th>\n",
       "    </tr>\n",
       "  </thead>\n",
       "  <tbody>\n",
       "    <tr>\n",
       "      <th>Control</th>\n",
       "      <td>558070</td>\n",
       "      <td>0.06523</td>\n",
       "      <td>1965.211658</td>\n",
       "      <td>1000.0</td>\n",
       "    </tr>\n",
       "    <tr>\n",
       "      <th>Test</th>\n",
       "      <td>138770</td>\n",
       "      <td>0.06492</td>\n",
       "      <td>2104.606505</td>\n",
       "      <td>1500.0</td>\n",
       "    </tr>\n",
       "  </tbody>\n",
       "</table>\n",
       "</div>"
      ],
      "text/plain": [
       "        gold_on_event_flag          gold_on_event        \n",
       "                     count     mean          mean  median\n",
       "AbGroup                                                  \n",
       "Control             558070  0.06523   1965.211658  1000.0\n",
       "Test                138770  0.06492   2104.606505  1500.0"
      ]
     },
     "execution_count": 67,
     "metadata": {},
     "output_type": "execute_result"
    }
   ],
   "source": [
    "(df.groupby(['AbGroup'])[['gold_on_event_flag','gold_on_event']]\n",
    "    .agg({'gold_on_event_flag':['count','mean'],       'gold_on_event':['mean','median']}))"
   ]
  },
  {
   "cell_type": "code",
   "execution_count": 68,
   "id": "36a1b91d-f09d-482a-9355-d7cc048f7928",
   "metadata": {
    "colab": {
     "base_uri": "https://localhost:8080/",
     "height": 66,
     "referenced_widgets": [
      "1bf1358d89804106af391e66ad7c47ed",
      "edde5ebfe82e46fa9373be2231fcf6fe",
      "208c5239efe04a14a2f859f4a32d7a19",
      "13d57e9b79c24d58a4645534ad775ac7",
      "b3613e0f98144a72b5f197443f701c32",
      "ab4e9bb027ed4eabb3f7ee201a3fbf61",
      "31e6dd056a074e78890f64d4000ad449",
      "c477dbeadd7047f1994a274b272a9382"
     ]
    },
    "id": "Zbi948qnmtDl",
    "outputId": "d91b971c-4ba5-4a88-e22e-042a258eb237"
   },
   "outputs": [
    {
     "data": {
      "application/vnd.jupyter.widget-view+json": {
       "model_id": "a923c53398fb42329af5643b1415cde1",
       "version_major": 2,
       "version_minor": 0
      },
      "text/plain": [
       "  0%|          | 0/1000 [00:00<?, ?it/s]"
      ]
     },
     "metadata": {},
     "output_type": "display_data"
    }
   ],
   "source": [
    "n = 1000\n",
    "result = []\n",
    "base_diff = 2104.606505 - 1965.211658\n",
    "\n",
    "for _ in tqdm(range(n)):\n",
    "  a = df.sample(group_size[0],replace=True)['gold_on_event'].mean()\n",
    "  b = df.sample(group_size[1],replace=True)['gold_on_event'].mean()\n",
    "  result.append(np.abs(a-b) >= base_diff)"
   ]
  },
  {
   "cell_type": "code",
   "execution_count": 69,
   "id": "2f2f7215-17fc-47c2-9da7-0ada80785ff3",
   "metadata": {
    "colab": {
     "base_uri": "https://localhost:8080/"
    },
    "id": "sMHeaVW3ufQ2",
    "outputId": "6c119fd9-d92e-41d1-9535-da7dafc7cc05"
   },
   "outputs": [
    {
     "data": {
      "text/plain": [
       "0.005"
      ]
     },
     "execution_count": 69,
     "metadata": {},
     "output_type": "execute_result"
    }
   ],
   "source": [
    "np.mean(result)"
   ]
  },
  {
   "cell_type": "code",
   "execution_count": 70,
   "id": "0b91fae8-a229-4137-aa46-038b9066df5b",
   "metadata": {
    "id": "USeyQwX3tiRx"
   },
   "outputs": [],
   "source": [
    "df['gold_on_event_nona'] = df['gold_on_event'].fillna(0)"
   ]
  },
  {
   "cell_type": "code",
   "execution_count": 71,
   "id": "45501dbf-c6a1-4962-87a9-44bfb327a00c",
   "metadata": {
    "colab": {
     "base_uri": "https://localhost:8080/",
     "height": 172
    },
    "id": "YuURveqqxg3J",
    "outputId": "02a764de-cabc-4b2d-dee4-55506a0dbc34"
   },
   "outputs": [
    {
     "data": {
      "text/html": [
       "<div>\n",
       "<style scoped>\n",
       "    .dataframe tbody tr th:only-of-type {\n",
       "        vertical-align: middle;\n",
       "    }\n",
       "\n",
       "    .dataframe tbody tr th {\n",
       "        vertical-align: top;\n",
       "    }\n",
       "\n",
       "    .dataframe thead tr th {\n",
       "        text-align: left;\n",
       "    }\n",
       "\n",
       "    .dataframe thead tr:last-of-type th {\n",
       "        text-align: right;\n",
       "    }\n",
       "</style>\n",
       "<table border=\"1\" class=\"dataframe\">\n",
       "  <thead>\n",
       "    <tr>\n",
       "      <th></th>\n",
       "      <th colspan=\"2\" halign=\"left\">gold_on_event_flag</th>\n",
       "      <th colspan=\"2\" halign=\"left\">gold_on_event</th>\n",
       "    </tr>\n",
       "    <tr>\n",
       "      <th></th>\n",
       "      <th>count</th>\n",
       "      <th>mean</th>\n",
       "      <th>mean</th>\n",
       "      <th>median</th>\n",
       "    </tr>\n",
       "    <tr>\n",
       "      <th>AbGroup</th>\n",
       "      <th></th>\n",
       "      <th></th>\n",
       "      <th></th>\n",
       "      <th></th>\n",
       "    </tr>\n",
       "  </thead>\n",
       "  <tbody>\n",
       "    <tr>\n",
       "      <th>Control</th>\n",
       "      <td>558070</td>\n",
       "      <td>0.06523</td>\n",
       "      <td>1965.211658</td>\n",
       "      <td>1000.0</td>\n",
       "    </tr>\n",
       "    <tr>\n",
       "      <th>Test</th>\n",
       "      <td>138770</td>\n",
       "      <td>0.06492</td>\n",
       "      <td>2104.606505</td>\n",
       "      <td>1500.0</td>\n",
       "    </tr>\n",
       "  </tbody>\n",
       "</table>\n",
       "</div>"
      ],
      "text/plain": [
       "        gold_on_event_flag          gold_on_event        \n",
       "                     count     mean          mean  median\n",
       "AbGroup                                                  \n",
       "Control             558070  0.06523   1965.211658  1000.0\n",
       "Test                138770  0.06492   2104.606505  1500.0"
      ]
     },
     "execution_count": 71,
     "metadata": {},
     "output_type": "execute_result"
    }
   ],
   "source": [
    "(df.groupby(['AbGroup'])[['gold_on_event_flag','gold_on_event']]\n",
    "    .agg({'gold_on_event_flag':['count','mean'],'gold_on_event':['mean','median']}))"
   ]
  },
  {
   "cell_type": "code",
   "execution_count": 73,
   "id": "4e1e1a2d-b81e-4840-917a-14560eec3cf9",
   "metadata": {
    "colab": {
     "base_uri": "https://localhost:8080/",
     "height": 172
    },
    "id": "kI1zyMeRumP4",
    "outputId": "d46d8c8d-e564-445d-87fe-35a7917973e3"
   },
   "outputs": [
    {
     "data": {
      "text/html": [
       "<div>\n",
       "<style scoped>\n",
       "    .dataframe tbody tr th:only-of-type {\n",
       "        vertical-align: middle;\n",
       "    }\n",
       "\n",
       "    .dataframe tbody tr th {\n",
       "        vertical-align: top;\n",
       "    }\n",
       "\n",
       "    .dataframe thead tr th {\n",
       "        text-align: left;\n",
       "    }\n",
       "\n",
       "    .dataframe thead tr:last-of-type th {\n",
       "        text-align: right;\n",
       "    }\n",
       "</style>\n",
       "<table border=\"1\" class=\"dataframe\">\n",
       "  <thead>\n",
       "    <tr>\n",
       "      <th></th>\n",
       "      <th>gold_on_event_nona</th>\n",
       "    </tr>\n",
       "    <tr>\n",
       "      <th></th>\n",
       "      <th>mean</th>\n",
       "    </tr>\n",
       "    <tr>\n",
       "      <th>AbGroup</th>\n",
       "      <th></th>\n",
       "    </tr>\n",
       "  </thead>\n",
       "  <tbody>\n",
       "    <tr>\n",
       "      <th>Control</th>\n",
       "      <td>128.191087</td>\n",
       "    </tr>\n",
       "    <tr>\n",
       "      <th>Test</th>\n",
       "      <td>136.631837</td>\n",
       "    </tr>\n",
       "  </tbody>\n",
       "</table>\n",
       "</div>"
      ],
      "text/plain": [
       "        gold_on_event_nona\n",
       "                      mean\n",
       "AbGroup                   \n",
       "Control         128.191087\n",
       "Test            136.631837"
      ]
     },
     "execution_count": 73,
     "metadata": {},
     "output_type": "execute_result"
    }
   ],
   "source": [
    "(df.groupby(['AbGroup'])[['gold_on_event_nona']].agg(['mean']))"
   ]
  },
  {
   "cell_type": "code",
   "execution_count": 74,
   "id": "94be6a68-2d30-4f78-ae43-0be13a9f1465",
   "metadata": {
    "colab": {
     "base_uri": "https://localhost:8080/",
     "height": 66,
     "referenced_widgets": [
      "d1577f4f00a747f78e3001626d30b02d",
      "7e034c23e4b54e0dabf2f1a5746087af",
      "7e28148ccb73424aa0ddbe8b99b9cb6a",
      "21af901917f44547be66686e97ce9d3d",
      "e573c6c13bed4fee98b60b03fedb12f6",
      "9111c309111849f389bbd5ee198740f5",
      "9e1ddc592d9145fc9c0efb3be7db32a7",
      "31c3a34f4bfc495fb3bf9b00cf606e49"
     ]
    },
    "id": "QCS0oN2Mut5Z",
    "outputId": "82d5c763-eddc-4d18-917e-40cf3a75ed0b"
   },
   "outputs": [
    {
     "data": {
      "application/vnd.jupyter.widget-view+json": {
       "model_id": "101cc8f8b84e4ea39e7ad0e7d7ed5e09",
       "version_major": 2,
       "version_minor": 0
      },
      "text/plain": [
       "  0%|          | 0/1000 [00:00<?, ?it/s]"
      ]
     },
     "metadata": {},
     "output_type": "display_data"
    }
   ],
   "source": [
    "n = 1000\n",
    "result = []\n",
    "base_diff = 136.631837 - 128.191087\n",
    "\n",
    "for _ in tqdm(range(n)):\n",
    "  a = df.sample(group_size[0],replace=True)['gold_on_event_nona'].mean()\n",
    "  b = df.sample(group_size[1],replace=True)['gold_on_event_nona'].mean()\n",
    "  result.append(np.abs(a-b) >= base_diff)"
   ]
  },
  {
   "cell_type": "code",
   "execution_count": 75,
   "id": "9bbd3391-79b4-473f-ad85-660a7e52d0bc",
   "metadata": {
    "colab": {
     "base_uri": "https://localhost:8080/"
    },
    "id": "z81x5wWwvQ3q",
    "outputId": "600fe2de-7005-4fbc-b6e7-dd2dabb8fa3c"
   },
   "outputs": [
    {
     "data": {
      "text/plain": [
       "0.007"
      ]
     },
     "execution_count": 75,
     "metadata": {},
     "output_type": "execute_result"
    }
   ],
   "source": [
    "np.mean(result)"
   ]
  },
  {
   "cell_type": "code",
   "execution_count": null,
   "id": "18ef5c2f-6cab-4fef-a638-6a7388c33c6c",
   "metadata": {
    "id": "PKuSzmVnwPl1"
   },
   "outputs": [],
   "source": []
  }
 ],
 "metadata": {
  "kernelspec": {
   "display_name": "Python 3 (ipykernel)",
   "language": "python",
   "name": "python3"
  },
  "language_info": {
   "codemirror_mode": {
    "name": "ipython",
    "version": 3
   },
   "file_extension": ".py",
   "mimetype": "text/x-python",
   "name": "python",
   "nbconvert_exporter": "python",
   "pygments_lexer": "ipython3",
   "version": "3.10.9"
  }
 },
 "nbformat": 4,
 "nbformat_minor": 5
}
